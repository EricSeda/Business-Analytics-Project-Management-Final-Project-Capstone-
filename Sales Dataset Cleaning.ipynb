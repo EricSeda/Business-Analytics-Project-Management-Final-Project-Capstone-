{
 "cells": [
  {
   "cell_type": "code",
   "execution_count": 1,
   "metadata": {},
   "outputs": [],
   "source": [
    "import pandas as pd\n",
    "import numpy as np"
   ]
  },
  {
   "cell_type": "markdown",
   "metadata": {},
   "source": [
    "## Read Dataset"
   ]
  },
  {
   "cell_type": "code",
   "execution_count": 2,
   "metadata": {},
   "outputs": [
    {
     "name": "stderr",
     "output_type": "stream",
     "text": [
      "C:\\Users\\listi\\anaconda3\\lib\\site-packages\\IPython\\core\\interactiveshell.py:3071: DtypeWarning: Columns (0,14,15) have mixed types.Specify dtype option on import or set low_memory=False.\n",
      "  has_raised = await self.run_ast_nodes(code_ast.body, cell_name,\n"
     ]
    }
   ],
   "source": [
    "sales_data = pd.read_csv(\"NYC_Citywide_Annualized_Calendar_Sales_Update.csv\")"
   ]
  },
  {
   "cell_type": "code",
   "execution_count": 3,
   "metadata": {},
   "outputs": [
    {
     "data": {
      "text/plain": [
       "(413743, 29)"
      ]
     },
     "execution_count": 3,
     "metadata": {},
     "output_type": "execute_result"
    }
   ],
   "source": [
    "sales_data.shape"
   ]
  },
  {
   "cell_type": "code",
   "execution_count": 4,
   "metadata": {},
   "outputs": [
    {
     "data": {
      "text/html": [
       "<div>\n",
       "<style scoped>\n",
       "    .dataframe tbody tr th:only-of-type {\n",
       "        vertical-align: middle;\n",
       "    }\n",
       "\n",
       "    .dataframe tbody tr th {\n",
       "        vertical-align: top;\n",
       "    }\n",
       "\n",
       "    .dataframe thead th {\n",
       "        text-align: right;\n",
       "    }\n",
       "</style>\n",
       "<table border=\"1\" class=\"dataframe\">\n",
       "  <thead>\n",
       "    <tr style=\"text-align: right;\">\n",
       "      <th></th>\n",
       "      <th>BOROUGH</th>\n",
       "      <th>NEIGHBORHOOD</th>\n",
       "      <th>BUILDING CLASS CATEGORY</th>\n",
       "      <th>TAX CLASS AS OF FINAL ROLL</th>\n",
       "      <th>BLOCK</th>\n",
       "      <th>LOT</th>\n",
       "      <th>EASE-MENT</th>\n",
       "      <th>BUILDING CLASS AS OF FINAL ROLL</th>\n",
       "      <th>ADDRESS</th>\n",
       "      <th>APARTMENT NUMBER</th>\n",
       "      <th>...</th>\n",
       "      <th>SALE PRICE</th>\n",
       "      <th>SALE DATE</th>\n",
       "      <th>Latitude</th>\n",
       "      <th>Longitude</th>\n",
       "      <th>Community Board</th>\n",
       "      <th>Council District</th>\n",
       "      <th>Census Tract</th>\n",
       "      <th>BIN</th>\n",
       "      <th>BBL</th>\n",
       "      <th>NTA</th>\n",
       "    </tr>\n",
       "  </thead>\n",
       "  <tbody>\n",
       "    <tr>\n",
       "      <th>0</th>\n",
       "      <td>1</td>\n",
       "      <td>CHELSEA</td>\n",
       "      <td>21 OFFICE BUILDINGS</td>\n",
       "      <td>4</td>\n",
       "      <td>697</td>\n",
       "      <td>5</td>\n",
       "      <td>NaN</td>\n",
       "      <td>O2</td>\n",
       "      <td>555 WEST 25TH STREET</td>\n",
       "      <td>NaN</td>\n",
       "      <td>...</td>\n",
       "      <td>43300000</td>\n",
       "      <td>03/28/2019</td>\n",
       "      <td>40.749704</td>\n",
       "      <td>-74.004930</td>\n",
       "      <td>104.0</td>\n",
       "      <td>3.0</td>\n",
       "      <td>99.0</td>\n",
       "      <td>1012379.0</td>\n",
       "      <td>1.006970e+09</td>\n",
       "      <td>Hudson Yards-Chelsea-Flatiron-Union Square</td>\n",
       "    </tr>\n",
       "    <tr>\n",
       "      <th>1</th>\n",
       "      <td>1</td>\n",
       "      <td>CHELSEA</td>\n",
       "      <td>21 OFFICE BUILDINGS</td>\n",
       "      <td>4</td>\n",
       "      <td>697</td>\n",
       "      <td>23</td>\n",
       "      <td>NaN</td>\n",
       "      <td>O6</td>\n",
       "      <td>511 WEST 25TH STREET</td>\n",
       "      <td>NaN</td>\n",
       "      <td>...</td>\n",
       "      <td>148254147</td>\n",
       "      <td>05/23/2019</td>\n",
       "      <td>40.749364</td>\n",
       "      <td>-74.004132</td>\n",
       "      <td>104.0</td>\n",
       "      <td>3.0</td>\n",
       "      <td>99.0</td>\n",
       "      <td>1012382.0</td>\n",
       "      <td>1.006970e+09</td>\n",
       "      <td>Hudson Yards-Chelsea-Flatiron-Union Square</td>\n",
       "    </tr>\n",
       "    <tr>\n",
       "      <th>2</th>\n",
       "      <td>1</td>\n",
       "      <td>CHELSEA</td>\n",
       "      <td>21 OFFICE BUILDINGS</td>\n",
       "      <td>4</td>\n",
       "      <td>700</td>\n",
       "      <td>55</td>\n",
       "      <td>NaN</td>\n",
       "      <td>O2</td>\n",
       "      <td>538 WEST 29TH STREET</td>\n",
       "      <td>NaN</td>\n",
       "      <td>...</td>\n",
       "      <td>11000000</td>\n",
       "      <td>03/13/2019</td>\n",
       "      <td>40.752067</td>\n",
       "      <td>-74.002931</td>\n",
       "      <td>104.0</td>\n",
       "      <td>3.0</td>\n",
       "      <td>99.0</td>\n",
       "      <td>1012435.0</td>\n",
       "      <td>1.007000e+09</td>\n",
       "      <td>Hudson Yards-Chelsea-Flatiron-Union Square</td>\n",
       "    </tr>\n",
       "    <tr>\n",
       "      <th>3</th>\n",
       "      <td>1</td>\n",
       "      <td>CHELSEA</td>\n",
       "      <td>21 OFFICE BUILDINGS</td>\n",
       "      <td>4</td>\n",
       "      <td>712</td>\n",
       "      <td>1</td>\n",
       "      <td>NaN</td>\n",
       "      <td>O6</td>\n",
       "      <td>450 WEST 15TH</td>\n",
       "      <td>NaN</td>\n",
       "      <td>...</td>\n",
       "      <td>591800000</td>\n",
       "      <td>05/22/2019</td>\n",
       "      <td>NaN</td>\n",
       "      <td>NaN</td>\n",
       "      <td>NaN</td>\n",
       "      <td>NaN</td>\n",
       "      <td>NaN</td>\n",
       "      <td>NaN</td>\n",
       "      <td>NaN</td>\n",
       "      <td>NaN</td>\n",
       "    </tr>\n",
       "    <tr>\n",
       "      <th>4</th>\n",
       "      <td>1</td>\n",
       "      <td>CHELSEA</td>\n",
       "      <td>21 OFFICE BUILDINGS</td>\n",
       "      <td>4</td>\n",
       "      <td>746</td>\n",
       "      <td>64</td>\n",
       "      <td>NaN</td>\n",
       "      <td>O8</td>\n",
       "      <td>340 WEST 23RD STREET</td>\n",
       "      <td>NaN</td>\n",
       "      <td>...</td>\n",
       "      <td>0</td>\n",
       "      <td>04/01/2019</td>\n",
       "      <td>40.745809</td>\n",
       "      <td>-73.999729</td>\n",
       "      <td>104.0</td>\n",
       "      <td>3.0</td>\n",
       "      <td>93.0</td>\n",
       "      <td>1013367.0</td>\n",
       "      <td>1.007460e+09</td>\n",
       "      <td>Hudson Yards-Chelsea-Flatiron-Union Square</td>\n",
       "    </tr>\n",
       "  </tbody>\n",
       "</table>\n",
       "<p>5 rows × 29 columns</p>\n",
       "</div>"
      ],
      "text/plain": [
       "  BOROUGH NEIGHBORHOOD BUILDING CLASS CATEGORY TAX CLASS AS OF FINAL ROLL  \\\n",
       "0       1      CHELSEA     21 OFFICE BUILDINGS                          4   \n",
       "1       1      CHELSEA     21 OFFICE BUILDINGS                          4   \n",
       "2       1      CHELSEA     21 OFFICE BUILDINGS                          4   \n",
       "3       1      CHELSEA     21 OFFICE BUILDINGS                          4   \n",
       "4       1      CHELSEA     21 OFFICE BUILDINGS                          4   \n",
       "\n",
       "   BLOCK  LOT  EASE-MENT BUILDING CLASS AS OF FINAL ROLL  \\\n",
       "0    697    5        NaN                              O2   \n",
       "1    697   23        NaN                              O6   \n",
       "2    700   55        NaN                              O2   \n",
       "3    712    1        NaN                              O6   \n",
       "4    746   64        NaN                              O8   \n",
       "\n",
       "                ADDRESS APARTMENT NUMBER  ...  SALE PRICE   SALE DATE  \\\n",
       "0  555 WEST 25TH STREET              NaN  ...    43300000  03/28/2019   \n",
       "1  511 WEST 25TH STREET              NaN  ...   148254147  05/23/2019   \n",
       "2  538 WEST 29TH STREET              NaN  ...    11000000  03/13/2019   \n",
       "3         450 WEST 15TH              NaN  ...   591800000  05/22/2019   \n",
       "4  340 WEST 23RD STREET              NaN  ...           0  04/01/2019   \n",
       "\n",
       "    Latitude  Longitude Community Board Council District  Census Tract  \\\n",
       "0  40.749704 -74.004930           104.0              3.0          99.0   \n",
       "1  40.749364 -74.004132           104.0              3.0          99.0   \n",
       "2  40.752067 -74.002931           104.0              3.0          99.0   \n",
       "3        NaN        NaN             NaN              NaN           NaN   \n",
       "4  40.745809 -73.999729           104.0              3.0          93.0   \n",
       "\n",
       "         BIN           BBL                                         NTA  \n",
       "0  1012379.0  1.006970e+09  Hudson Yards-Chelsea-Flatiron-Union Square  \n",
       "1  1012382.0  1.006970e+09  Hudson Yards-Chelsea-Flatiron-Union Square  \n",
       "2  1012435.0  1.007000e+09  Hudson Yards-Chelsea-Flatiron-Union Square  \n",
       "3        NaN           NaN                                         NaN  \n",
       "4  1013367.0  1.007460e+09  Hudson Yards-Chelsea-Flatiron-Union Square  \n",
       "\n",
       "[5 rows x 29 columns]"
      ]
     },
     "execution_count": 4,
     "metadata": {},
     "output_type": "execute_result"
    }
   ],
   "source": [
    "sales_data.head()"
   ]
  },
  {
   "cell_type": "code",
   "execution_count": 5,
   "metadata": {},
   "outputs": [
    {
     "data": {
      "text/plain": [
       "Index(['BOROUGH', 'NEIGHBORHOOD', 'BUILDING CLASS CATEGORY',\n",
       "       'TAX CLASS AS OF FINAL ROLL', 'BLOCK', 'LOT', 'EASE-MENT',\n",
       "       'BUILDING CLASS AS OF FINAL ROLL', 'ADDRESS', 'APARTMENT NUMBER',\n",
       "       'ZIP CODE', 'RESIDENTIAL UNITS', 'COMMERCIAL UNITS', 'TOTAL UNITS',\n",
       "       'LAND SQUARE FEET', 'GROSS SQUARE FEET', 'YEAR BUILT',\n",
       "       'TAX CLASS AT TIME OF SALE', 'BUILDING CLASS AT TIME OF SALE',\n",
       "       'SALE PRICE', 'SALE DATE', 'Latitude', 'Longitude', 'Community Board',\n",
       "       'Council District', 'Census Tract', 'BIN', 'BBL', 'NTA'],\n",
       "      dtype='object')"
      ]
     },
     "execution_count": 5,
     "metadata": {},
     "output_type": "execute_result"
    }
   ],
   "source": [
    "sales_data.columns"
   ]
  },
  {
   "cell_type": "markdown",
   "metadata": {},
   "source": [
    "## Drop Columns"
   ]
  },
  {
   "cell_type": "code",
   "execution_count": 6,
   "metadata": {},
   "outputs": [],
   "source": [
    "sales_data.drop(columns = ['BUILDING CLASS CATEGORY',\n",
    "       'TAX CLASS AS OF FINAL ROLL', 'BLOCK', 'LOT', 'EASE-MENT',\n",
    "       'BUILDING CLASS AS OF FINAL ROLL', 'ADDRESS', 'APARTMENT NUMBER',\n",
    "       'TAX CLASS AT TIME OF SALE', 'BUILDING CLASS AT TIME OF SALE',\n",
    "       'Latitude', 'Longitude', 'Community Board',\n",
    "       'Council District', 'Census Tract', 'BIN', 'BBL', 'NTA'], inplace = True)"
   ]
  },
  {
   "cell_type": "code",
   "execution_count": 7,
   "metadata": {},
   "outputs": [
    {
     "data": {
      "text/plain": [
       "Index(['BOROUGH', 'NEIGHBORHOOD', 'ZIP CODE', 'RESIDENTIAL UNITS',\n",
       "       'COMMERCIAL UNITS', 'TOTAL UNITS', 'LAND SQUARE FEET',\n",
       "       'GROSS SQUARE FEET', 'YEAR BUILT', 'SALE PRICE', 'SALE DATE'],\n",
       "      dtype='object')"
      ]
     },
     "execution_count": 7,
     "metadata": {},
     "output_type": "execute_result"
    }
   ],
   "source": [
    "sales_data.columns"
   ]
  },
  {
   "cell_type": "markdown",
   "metadata": {},
   "source": [
    "## Check any missing values"
   ]
  },
  {
   "cell_type": "code",
   "execution_count": 8,
   "metadata": {},
   "outputs": [
    {
     "data": {
      "text/plain": [
       "LAND SQUARE FEET     0.069741\n",
       "TOTAL UNITS          0.069737\n",
       "COMMERCIAL UNITS     0.069737\n",
       "RESIDENTIAL UNITS    0.069737\n",
       "GROSS SQUARE FEET    0.069734\n",
       "YEAR BUILT           0.025074\n",
       "ZIP CODE             0.000063\n",
       "SALE DATE            0.000000\n",
       "SALE PRICE           0.000000\n",
       "NEIGHBORHOOD         0.000000\n",
       "BOROUGH              0.000000\n",
       "dtype: float64"
      ]
     },
     "execution_count": 8,
     "metadata": {},
     "output_type": "execute_result"
    }
   ],
   "source": [
    "missing_ratios = sales_data.isna().sum() / sales_data.shape[0]\n",
    "missing_ratios.sort_values(ascending = False)"
   ]
  },
  {
   "cell_type": "code",
   "execution_count": 9,
   "metadata": {},
   "outputs": [],
   "source": [
    "#Delete rows with missing values\n",
    "sales_data=sales_data.dropna()"
   ]
  },
  {
   "cell_type": "markdown",
   "metadata": {},
   "source": [
    "## Filtering Borough Column"
   ]
  },
  {
   "cell_type": "code",
   "execution_count": 10,
   "metadata": {},
   "outputs": [
    {
     "data": {
      "text/plain": [
       "4                96661\n",
       "3                88130\n",
       "1                62101\n",
       "5                32671\n",
       "2                26973\n",
       "QUEENS           17225\n",
       "BROOKLYN         16141\n",
       "STATEN ISLAND     7024\n",
       "MANHATTAN         5999\n",
       "4                 5475\n",
       "3                 4872\n",
       "BRONX             4679\n",
       "1                 3459\n",
       "5                 1925\n",
       "2                 1644\n",
       "Name: BOROUGH, dtype: int64"
      ]
     },
     "execution_count": 10,
     "metadata": {},
     "output_type": "execute_result"
    }
   ],
   "source": [
    "sales_data.BOROUGH.value_counts()"
   ]
  },
  {
   "cell_type": "code",
   "execution_count": 11,
   "metadata": {},
   "outputs": [
    {
     "data": {
      "text/plain": [
       "array(['1', '2', '3', '4', '5', 'MANHATTAN', 'BRONX', 'QUEENS',\n",
       "       'BROOKLYN', 'STATEN ISLAND'], dtype=object)"
      ]
     },
     "execution_count": 11,
     "metadata": {},
     "output_type": "execute_result"
    }
   ],
   "source": [
    "sales_data['BOROUGH'] = sales_data['BOROUGH'].astype(str)\n",
    "sales_data.BOROUGH.unique()"
   ]
  },
  {
   "cell_type": "code",
   "execution_count": 12,
   "metadata": {},
   "outputs": [],
   "source": [
    "sales_data=sales_data[sales_data['BOROUGH'].str.contains(\"2|3|4|5|BRONX|QUEENS|BROOKLYN|STATEN ISLAND\")==False]"
   ]
  },
  {
   "cell_type": "code",
   "execution_count": 13,
   "metadata": {},
   "outputs": [
    {
     "data": {
      "text/plain": [
       "1            65560\n",
       "MANHATTAN     5999\n",
       "Name: BOROUGH, dtype: int64"
      ]
     },
     "execution_count": 13,
     "metadata": {},
     "output_type": "execute_result"
    }
   ],
   "source": [
    "sales_data.BOROUGH.value_counts()"
   ]
  },
  {
   "cell_type": "code",
   "execution_count": 14,
   "metadata": {},
   "outputs": [],
   "source": [
    "sales_data.BOROUGH='MANHATTAN'"
   ]
  },
  {
   "cell_type": "code",
   "execution_count": 15,
   "metadata": {},
   "outputs": [
    {
     "data": {
      "text/plain": [
       "MANHATTAN    71559\n",
       "Name: BOROUGH, dtype: int64"
      ]
     },
     "execution_count": 15,
     "metadata": {},
     "output_type": "execute_result"
    }
   ],
   "source": [
    "sales_data.BOROUGH.value_counts()"
   ]
  },
  {
   "cell_type": "code",
   "execution_count": 16,
   "metadata": {},
   "outputs": [
    {
     "data": {
      "text/html": [
       "<div>\n",
       "<style scoped>\n",
       "    .dataframe tbody tr th:only-of-type {\n",
       "        vertical-align: middle;\n",
       "    }\n",
       "\n",
       "    .dataframe tbody tr th {\n",
       "        vertical-align: top;\n",
       "    }\n",
       "\n",
       "    .dataframe thead th {\n",
       "        text-align: right;\n",
       "    }\n",
       "</style>\n",
       "<table border=\"1\" class=\"dataframe\">\n",
       "  <thead>\n",
       "    <tr style=\"text-align: right;\">\n",
       "      <th></th>\n",
       "      <th>BOROUGH</th>\n",
       "      <th>NEIGHBORHOOD</th>\n",
       "      <th>ZIP CODE</th>\n",
       "      <th>RESIDENTIAL UNITS</th>\n",
       "      <th>COMMERCIAL UNITS</th>\n",
       "      <th>TOTAL UNITS</th>\n",
       "      <th>LAND SQUARE FEET</th>\n",
       "      <th>GROSS SQUARE FEET</th>\n",
       "      <th>YEAR BUILT</th>\n",
       "      <th>SALE PRICE</th>\n",
       "      <th>SALE DATE</th>\n",
       "    </tr>\n",
       "  </thead>\n",
       "  <tbody>\n",
       "    <tr>\n",
       "      <th>0</th>\n",
       "      <td>MANHATTAN</td>\n",
       "      <td>CHELSEA</td>\n",
       "      <td>10001.0</td>\n",
       "      <td>0.0</td>\n",
       "      <td>8.0</td>\n",
       "      <td>8.0</td>\n",
       "      <td>7,406</td>\n",
       "      <td>40,926</td>\n",
       "      <td>1926.0</td>\n",
       "      <td>43300000</td>\n",
       "      <td>03/28/2019</td>\n",
       "    </tr>\n",
       "    <tr>\n",
       "      <th>1</th>\n",
       "      <td>MANHATTAN</td>\n",
       "      <td>CHELSEA</td>\n",
       "      <td>10001.0</td>\n",
       "      <td>0.0</td>\n",
       "      <td>53.0</td>\n",
       "      <td>53.0</td>\n",
       "      <td>9,890</td>\n",
       "      <td>83,612</td>\n",
       "      <td>1917.0</td>\n",
       "      <td>148254147</td>\n",
       "      <td>05/23/2019</td>\n",
       "    </tr>\n",
       "    <tr>\n",
       "      <th>2</th>\n",
       "      <td>MANHATTAN</td>\n",
       "      <td>CHELSEA</td>\n",
       "      <td>10001.0</td>\n",
       "      <td>1.0</td>\n",
       "      <td>3.0</td>\n",
       "      <td>4.0</td>\n",
       "      <td>2,498</td>\n",
       "      <td>7,380</td>\n",
       "      <td>1910.0</td>\n",
       "      <td>11000000</td>\n",
       "      <td>03/13/2019</td>\n",
       "    </tr>\n",
       "    <tr>\n",
       "      <th>3</th>\n",
       "      <td>MANHATTAN</td>\n",
       "      <td>CHELSEA</td>\n",
       "      <td>10011.0</td>\n",
       "      <td>0.0</td>\n",
       "      <td>30.0</td>\n",
       "      <td>30.0</td>\n",
       "      <td>34,188</td>\n",
       "      <td>281,361</td>\n",
       "      <td>1936.0</td>\n",
       "      <td>591800000</td>\n",
       "      <td>05/22/2019</td>\n",
       "    </tr>\n",
       "    <tr>\n",
       "      <th>4</th>\n",
       "      <td>MANHATTAN</td>\n",
       "      <td>CHELSEA</td>\n",
       "      <td>10011.0</td>\n",
       "      <td>3.0</td>\n",
       "      <td>1.0</td>\n",
       "      <td>4.0</td>\n",
       "      <td>2,469</td>\n",
       "      <td>5,603</td>\n",
       "      <td>1900.0</td>\n",
       "      <td>0</td>\n",
       "      <td>04/01/2019</td>\n",
       "    </tr>\n",
       "  </tbody>\n",
       "</table>\n",
       "</div>"
      ],
      "text/plain": [
       "     BOROUGH NEIGHBORHOOD  ZIP CODE  RESIDENTIAL UNITS  COMMERCIAL UNITS  \\\n",
       "0  MANHATTAN      CHELSEA   10001.0                0.0               8.0   \n",
       "1  MANHATTAN      CHELSEA   10001.0                0.0              53.0   \n",
       "2  MANHATTAN      CHELSEA   10001.0                1.0               3.0   \n",
       "3  MANHATTAN      CHELSEA   10011.0                0.0              30.0   \n",
       "4  MANHATTAN      CHELSEA   10011.0                3.0               1.0   \n",
       "\n",
       "   TOTAL UNITS LAND SQUARE FEET GROSS SQUARE FEET  YEAR BUILT  SALE PRICE  \\\n",
       "0          8.0            7,406            40,926      1926.0    43300000   \n",
       "1         53.0            9,890            83,612      1917.0   148254147   \n",
       "2          4.0            2,498             7,380      1910.0    11000000   \n",
       "3         30.0           34,188           281,361      1936.0   591800000   \n",
       "4          4.0            2,469             5,603      1900.0           0   \n",
       "\n",
       "    SALE DATE  \n",
       "0  03/28/2019  \n",
       "1  05/23/2019  \n",
       "2  03/13/2019  \n",
       "3  05/22/2019  \n",
       "4  04/01/2019  "
      ]
     },
     "execution_count": 16,
     "metadata": {},
     "output_type": "execute_result"
    }
   ],
   "source": [
    "sales_data.head()"
   ]
  },
  {
   "cell_type": "markdown",
   "metadata": {},
   "source": [
    "## Filtering Residential, Commercial and Total units columns, keep 1 unit and all residential"
   ]
  },
  {
   "cell_type": "code",
   "execution_count": 17,
   "metadata": {},
   "outputs": [
    {
     "data": {
      "text/plain": [
       "1.0      38294\n",
       "0.0      25393\n",
       "2.0       1659\n",
       "3.0        609\n",
       "4.0        557\n",
       "         ...  \n",
       "210.0        1\n",
       "406.0        1\n",
       "117.0        1\n",
       "173.0        1\n",
       "489.0        1\n",
       "Name: TOTAL UNITS, Length: 231, dtype: int64"
      ]
     },
     "execution_count": 17,
     "metadata": {},
     "output_type": "execute_result"
    }
   ],
   "source": [
    "sales_data['TOTAL UNITS'].value_counts()"
   ]
  },
  {
   "cell_type": "code",
   "execution_count": 18,
   "metadata": {},
   "outputs": [],
   "source": [
    "sales_data=sales_data[sales_data['TOTAL UNITS'] == 1]"
   ]
  },
  {
   "cell_type": "code",
   "execution_count": 19,
   "metadata": {},
   "outputs": [],
   "source": [
    "sales_data=sales_data[sales_data['RESIDENTIAL UNITS'] == 1]"
   ]
  },
  {
   "cell_type": "code",
   "execution_count": 20,
   "metadata": {},
   "outputs": [],
   "source": [
    "sales_data.drop(columns = ['COMMERCIAL UNITS', 'RESIDENTIAL UNITS', 'TOTAL UNITS'], inplace = True)"
   ]
  },
  {
   "cell_type": "code",
   "execution_count": 21,
   "metadata": {},
   "outputs": [
    {
     "data": {
      "text/html": [
       "<div>\n",
       "<style scoped>\n",
       "    .dataframe tbody tr th:only-of-type {\n",
       "        vertical-align: middle;\n",
       "    }\n",
       "\n",
       "    .dataframe tbody tr th {\n",
       "        vertical-align: top;\n",
       "    }\n",
       "\n",
       "    .dataframe thead th {\n",
       "        text-align: right;\n",
       "    }\n",
       "</style>\n",
       "<table border=\"1\" class=\"dataframe\">\n",
       "  <thead>\n",
       "    <tr style=\"text-align: right;\">\n",
       "      <th></th>\n",
       "      <th>BOROUGH</th>\n",
       "      <th>NEIGHBORHOOD</th>\n",
       "      <th>ZIP CODE</th>\n",
       "      <th>LAND SQUARE FEET</th>\n",
       "      <th>GROSS SQUARE FEET</th>\n",
       "      <th>YEAR BUILT</th>\n",
       "      <th>SALE PRICE</th>\n",
       "      <th>SALE DATE</th>\n",
       "    </tr>\n",
       "  </thead>\n",
       "  <tbody>\n",
       "    <tr>\n",
       "      <th>40</th>\n",
       "      <td>MANHATTAN</td>\n",
       "      <td>CHINATOWN</td>\n",
       "      <td>10013.0</td>\n",
       "      <td>0</td>\n",
       "      <td>0</td>\n",
       "      <td>1920.0</td>\n",
       "      <td>1190000</td>\n",
       "      <td>07/11/2019</td>\n",
       "    </tr>\n",
       "    <tr>\n",
       "      <th>41</th>\n",
       "      <td>MANHATTAN</td>\n",
       "      <td>CHINATOWN</td>\n",
       "      <td>10013.0</td>\n",
       "      <td>0</td>\n",
       "      <td>0</td>\n",
       "      <td>1920.0</td>\n",
       "      <td>1340000</td>\n",
       "      <td>12/04/2019</td>\n",
       "    </tr>\n",
       "    <tr>\n",
       "      <th>42</th>\n",
       "      <td>MANHATTAN</td>\n",
       "      <td>CHINATOWN</td>\n",
       "      <td>10013.0</td>\n",
       "      <td>0</td>\n",
       "      <td>0</td>\n",
       "      <td>1920.0</td>\n",
       "      <td>2287500</td>\n",
       "      <td>12/09/2019</td>\n",
       "    </tr>\n",
       "    <tr>\n",
       "      <th>43</th>\n",
       "      <td>MANHATTAN</td>\n",
       "      <td>CHINATOWN</td>\n",
       "      <td>10013.0</td>\n",
       "      <td>0</td>\n",
       "      <td>0</td>\n",
       "      <td>1920.0</td>\n",
       "      <td>2070000</td>\n",
       "      <td>05/29/2019</td>\n",
       "    </tr>\n",
       "    <tr>\n",
       "      <th>44</th>\n",
       "      <td>MANHATTAN</td>\n",
       "      <td>CHINATOWN</td>\n",
       "      <td>10013.0</td>\n",
       "      <td>0</td>\n",
       "      <td>0</td>\n",
       "      <td>1920.0</td>\n",
       "      <td>2900000</td>\n",
       "      <td>06/17/2019</td>\n",
       "    </tr>\n",
       "  </tbody>\n",
       "</table>\n",
       "</div>"
      ],
      "text/plain": [
       "      BOROUGH NEIGHBORHOOD  ZIP CODE LAND SQUARE FEET GROSS SQUARE FEET  \\\n",
       "40  MANHATTAN    CHINATOWN   10013.0                0                 0   \n",
       "41  MANHATTAN    CHINATOWN   10013.0                0                 0   \n",
       "42  MANHATTAN    CHINATOWN   10013.0                0                 0   \n",
       "43  MANHATTAN    CHINATOWN   10013.0                0                 0   \n",
       "44  MANHATTAN    CHINATOWN   10013.0                0                 0   \n",
       "\n",
       "    YEAR BUILT  SALE PRICE   SALE DATE  \n",
       "40      1920.0     1190000  07/11/2019  \n",
       "41      1920.0     1340000  12/04/2019  \n",
       "42      1920.0     2287500  12/09/2019  \n",
       "43      1920.0     2070000  05/29/2019  \n",
       "44      1920.0     2900000  06/17/2019  "
      ]
     },
     "execution_count": 21,
     "metadata": {},
     "output_type": "execute_result"
    }
   ],
   "source": [
    "sales_data.head()"
   ]
  },
  {
   "cell_type": "markdown",
   "metadata": {},
   "source": [
    "## Checking value counts in square fee columns "
   ]
  },
  {
   "cell_type": "code",
   "execution_count": 22,
   "metadata": {},
   "outputs": [
    {
     "data": {
      "text/plain": [
       "- 0       15310\n",
       "0         14809\n",
       "22,202      140\n",
       "29,705       78\n",
       "72,099       75\n",
       "          ...  \n",
       "4,495         1\n",
       "1,646         1\n",
       "5,955         1\n",
       "2,125         1\n",
       "3,678         1\n",
       "Name: LAND SQUARE FEET, Length: 746, dtype: int64"
      ]
     },
     "execution_count": 22,
     "metadata": {},
     "output_type": "execute_result"
    }
   ],
   "source": [
    "sales_data['LAND SQUARE FEET'].value_counts()"
   ]
  },
  {
   "cell_type": "code",
   "execution_count": 23,
   "metadata": {},
   "outputs": [
    {
     "data": {
      "text/plain": [
       "- 0      15315\n",
       "0         9906\n",
       "733         25\n",
       "725         24\n",
       "782         21\n",
       "         ...  \n",
       "1,411        1\n",
       "2,319        1\n",
       "1,766        1\n",
       "2,221        1\n",
       "2,190        1\n",
       "Name: GROSS SQUARE FEET, Length: 2565, dtype: int64"
      ]
     },
     "execution_count": 23,
     "metadata": {},
     "output_type": "execute_result"
    }
   ],
   "source": [
    "sales_data['GROSS SQUARE FEET'].value_counts()"
   ]
  },
  {
   "cell_type": "code",
   "execution_count": 24,
   "metadata": {},
   "outputs": [],
   "source": [
    "#Drop land square fee and gross square fee columns since there are too many \"0\" values\n",
    "sales_data.drop(columns = ['LAND SQUARE FEET', 'GROSS SQUARE FEET'], inplace = True)"
   ]
  },
  {
   "cell_type": "markdown",
   "metadata": {},
   "source": [
    "## Change sale date column from object to datetime"
   ]
  },
  {
   "cell_type": "code",
   "execution_count": 25,
   "metadata": {},
   "outputs": [],
   "source": [
    "sales_data['SALE DATE'] = pd.to_datetime(sales_data['SALE DATE'], errors='coerce')\n",
    "sales_data = sales_data.applymap(lambda x: x.strip() if type(x) is str else x)"
   ]
  },
  {
   "cell_type": "markdown",
   "metadata": {},
   "source": [
    "## Remove any sales price less than $10,000"
   ]
  },
  {
   "cell_type": "code",
   "execution_count": 26,
   "metadata": {},
   "outputs": [],
   "source": [
    "sales_data=sales_data[sales_data['SALE PRICE'] >= 10000]"
   ]
  },
  {
   "cell_type": "code",
   "execution_count": 27,
   "metadata": {},
   "outputs": [
    {
     "data": {
      "text/plain": [
       "1100000    151\n",
       "1200000    126\n",
       "950000     125\n",
       "1250000    122\n",
       "1300000    117\n",
       "          ... \n",
       "1644601      1\n",
       "1523778      1\n",
       "890969       1\n",
       "4960348      1\n",
       "1087491      1\n",
       "Name: SALE PRICE, Length: 8248, dtype: int64"
      ]
     },
     "execution_count": 27,
     "metadata": {},
     "output_type": "execute_result"
    }
   ],
   "source": [
    "sales_data['SALE PRICE'].value_counts()"
   ]
  },
  {
   "cell_type": "markdown",
   "metadata": {},
   "source": [
    "## Check other columns data type"
   ]
  },
  {
   "cell_type": "code",
   "execution_count": 28,
   "metadata": {},
   "outputs": [
    {
     "data": {
      "text/plain": [
       "UPPER WEST SIDE (59-79)      1861\n",
       "UPPER EAST SIDE (79-96)      1838\n",
       "UPPER EAST SIDE (59-79)      1670\n",
       "TRIBECA                      1662\n",
       "MIDTOWN WEST                 1651\n",
       "MIDTOWN EAST                 1202\n",
       "HARLEM-CENTRAL               1192\n",
       "FINANCIAL                    1171\n",
       "CHELSEA                      1154\n",
       "GREENWICH VILLAGE-WEST        891\n",
       "UPPER WEST SIDE (79-96)       844\n",
       "CIVIC CENTER                  839\n",
       "MURRAY HILL                   766\n",
       "KIPS BAY                      759\n",
       "FLATIRON                      752\n",
       "LOWER EAST SIDE               751\n",
       "CLINTON                       641\n",
       "GRAMERCY                      599\n",
       "SOHO                          557\n",
       "MANHATTAN VALLEY              491\n",
       "GREENWICH VILLAGE-CENTRAL     459\n",
       "MIDTOWN CBD                   431\n",
       "HARLEM-EAST                   355\n",
       "EAST VILLAGE                  266\n",
       "UPPER WEST SIDE (96-116)      249\n",
       "JAVITS CENTER                 207\n",
       "SOUTHBRIDGE                   191\n",
       "HARLEM-UPPER                  176\n",
       "ALPHABET CITY                 168\n",
       "CHINATOWN                     156\n",
       "FASHION                       154\n",
       "WASHINGTON HEIGHTS LOWER      139\n",
       "LITTLE ITALY                  118\n",
       "WASHINGTON HEIGHTS UPPER      115\n",
       "INWOOD                         43\n",
       "UPPER EAST SIDE (96-110)       41\n",
       "ROOSEVELT ISLAND               35\n",
       "HARLEM-WEST                    26\n",
       "MORNINGSIDE HEIGHTS             1\n",
       "Name: NEIGHBORHOOD, dtype: int64"
      ]
     },
     "execution_count": 28,
     "metadata": {},
     "output_type": "execute_result"
    }
   ],
   "source": [
    "sales_data['NEIGHBORHOOD'].value_counts()"
   ]
  },
  {
   "cell_type": "code",
   "execution_count": 29,
   "metadata": {},
   "outputs": [
    {
     "data": {
      "text/plain": [
       "10019.0    1752\n",
       "10013.0    1561\n",
       "10016.0    1513\n",
       "10011.0    1434\n",
       "10023.0    1314\n",
       "10128.0    1132\n",
       "10022.0    1112\n",
       "10010.0     927\n",
       "10025.0     906\n",
       "10065.0     813\n",
       "10002.0     788\n",
       "10007.0     782\n",
       "10024.0     705\n",
       "10003.0     674\n",
       "10014.0     630\n",
       "10036.0     587\n",
       "10021.0     582\n",
       "10017.0     570\n",
       "10005.0     559\n",
       "10026.0     503\n",
       "10001.0     495\n",
       "10028.0     464\n",
       "10280.0     414\n",
       "10075.0     413\n",
       "10012.0     395\n",
       "10038.0     374\n",
       "10029.0     351\n",
       "10069.0     343\n",
       "10027.0     327\n",
       "10006.0     310\n",
       "10009.0     299\n",
       "10004.0     239\n",
       "10031.0     190\n",
       "10030.0     170\n",
       "10032.0     135\n",
       "10039.0     129\n",
       "10037.0     120\n",
       "10018.0     114\n",
       "0.0         102\n",
       "10035.0      95\n",
       "10033.0      93\n",
       "10282.0      89\n",
       "10044.0      44\n",
       "10034.0      31\n",
       "10040.0      29\n",
       "10463.0      12\n",
       "Name: ZIP CODE, dtype: int64"
      ]
     },
     "execution_count": 29,
     "metadata": {},
     "output_type": "execute_result"
    }
   ],
   "source": [
    "sales_data['ZIP CODE'].value_counts()"
   ]
  },
  {
   "cell_type": "code",
   "execution_count": 30,
   "metadata": {},
   "outputs": [
    {
     "data": {
      "text/plain": [
       "0.0       3233\n",
       "2015.0    1168\n",
       "2005.0    1049\n",
       "2016.0     993\n",
       "2007.0     813\n",
       "          ... \n",
       "1953.0       1\n",
       "1841.0       1\n",
       "1821.0       1\n",
       "1879.0       1\n",
       "1893.0       1\n",
       "Name: YEAR BUILT, Length: 131, dtype: int64"
      ]
     },
     "execution_count": 30,
     "metadata": {},
     "output_type": "execute_result"
    }
   ],
   "source": [
    "sales_data['YEAR BUILT'].value_counts()"
   ]
  },
  {
   "cell_type": "code",
   "execution_count": 31,
   "metadata": {},
   "outputs": [],
   "source": [
    "sales_data['YEAR BUILT'] = sales_data['YEAR BUILT'].astype(int)\n",
    "sales_data['ZIP CODE'] = sales_data['ZIP CODE'].astype(int)"
   ]
  },
  {
   "cell_type": "code",
   "execution_count": 32,
   "metadata": {},
   "outputs": [
    {
     "data": {
      "text/plain": [
       "BOROUGH                 object\n",
       "NEIGHBORHOOD            object\n",
       "ZIP CODE                 int32\n",
       "YEAR BUILT               int32\n",
       "SALE PRICE               int64\n",
       "SALE DATE       datetime64[ns]\n",
       "dtype: object"
      ]
     },
     "execution_count": 32,
     "metadata": {},
     "output_type": "execute_result"
    }
   ],
   "source": [
    "sales_data.dtypes"
   ]
  },
  {
   "cell_type": "code",
   "execution_count": 33,
   "metadata": {},
   "outputs": [
    {
     "data": {
      "text/plain": [
       "(24621, 6)"
      ]
     },
     "execution_count": 33,
     "metadata": {},
     "output_type": "execute_result"
    }
   ],
   "source": [
    "sales_data.shape"
   ]
  },
  {
   "cell_type": "markdown",
   "metadata": {},
   "source": [
    "## Export the cleaned database to CSV"
   ]
  },
  {
   "cell_type": "code",
   "execution_count": 35,
   "metadata": {},
   "outputs": [],
   "source": [
    "sales_data.to_csv (r'C:\\Users\\listi\\Desktop\\BARUCH\\BARUCH SUMMER 2021\\Sales Prediction\\cleaned_salesData.csv', index = False, header=True)"
   ]
  }
 ],
 "metadata": {
  "kernelspec": {
   "display_name": "Python 3",
   "language": "python",
   "name": "python3"
  },
  "language_info": {
   "codemirror_mode": {
    "name": "ipython",
    "version": 3
   },
   "file_extension": ".py",
   "mimetype": "text/x-python",
   "name": "python",
   "nbconvert_exporter": "python",
   "pygments_lexer": "ipython3",
   "version": "3.8.10"
  }
 },
 "nbformat": 4,
 "nbformat_minor": 4
}
