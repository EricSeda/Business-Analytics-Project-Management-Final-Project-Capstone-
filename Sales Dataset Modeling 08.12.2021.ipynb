{
 "cells": [
  {
   "cell_type": "code",
   "execution_count": 1,
   "metadata": {},
   "outputs": [],
   "source": [
    "import pandas as pd\n",
    "import numpy as np\n",
    "import matplotlib.pyplot as plt\n",
    "from sklearn.impute import KNNImputer\n",
    "from sklearn.model_selection import train_test_split,RandomizedSearchCV,GridSearchCV\n",
    "import xgboost as xg\n",
    "from sklearn.metrics import mean_squared_error\n",
    "from sklearn.linear_model import Lasso,Ridge,LinearRegression,LassoCV\n",
    "from sklearn.experimental import enable_iterative_imputer\n",
    "from sklearn.impute import IterativeImputer\n",
    "import time\n",
    "import seaborn as sns\n",
    "from sklearn.svm import LinearSVR\n",
    "from sklearn.preprocessing import StandardScaler\n",
    "from sklearn.ensemble import RandomForestRegressor\n",
    "import calendar\n",
    "import tensorflow as tf"
   ]
  },
  {
   "cell_type": "code",
   "execution_count": 79,
   "metadata": {},
   "outputs": [],
   "source": [
    "#import tensorflow as tf\n",
    "#tf.__version__"
   ]
  },
  {
   "cell_type": "code",
   "execution_count": 2,
   "metadata": {},
   "outputs": [],
   "source": [
    "pd.set_option('display.max_columns', None)"
   ]
  },
  {
   "cell_type": "markdown",
   "metadata": {},
   "source": [
    "## Read Dataset"
   ]
  },
  {
   "cell_type": "code",
   "execution_count": 3,
   "metadata": {},
   "outputs": [],
   "source": [
    "data=pd.read_csv('cleaned_salesData.csv')"
   ]
  },
  {
   "cell_type": "code",
   "execution_count": 4,
   "metadata": {},
   "outputs": [
    {
     "data": {
      "text/html": [
       "<div>\n",
       "<style scoped>\n",
       "    .dataframe tbody tr th:only-of-type {\n",
       "        vertical-align: middle;\n",
       "    }\n",
       "\n",
       "    .dataframe tbody tr th {\n",
       "        vertical-align: top;\n",
       "    }\n",
       "\n",
       "    .dataframe thead th {\n",
       "        text-align: right;\n",
       "    }\n",
       "</style>\n",
       "<table border=\"1\" class=\"dataframe\">\n",
       "  <thead>\n",
       "    <tr style=\"text-align: right;\">\n",
       "      <th></th>\n",
       "      <th>BOROUGH</th>\n",
       "      <th>NEIGHBORHOOD</th>\n",
       "      <th>ZIP CODE</th>\n",
       "      <th>YEAR BUILT</th>\n",
       "      <th>SALE PRICE</th>\n",
       "      <th>SALE DATE</th>\n",
       "    </tr>\n",
       "  </thead>\n",
       "  <tbody>\n",
       "    <tr>\n",
       "      <th>0</th>\n",
       "      <td>MANHATTAN</td>\n",
       "      <td>CHINATOWN</td>\n",
       "      <td>10013</td>\n",
       "      <td>1920</td>\n",
       "      <td>1190000</td>\n",
       "      <td>2019-07-11</td>\n",
       "    </tr>\n",
       "    <tr>\n",
       "      <th>1</th>\n",
       "      <td>MANHATTAN</td>\n",
       "      <td>CHINATOWN</td>\n",
       "      <td>10013</td>\n",
       "      <td>1920</td>\n",
       "      <td>1340000</td>\n",
       "      <td>2019-12-04</td>\n",
       "    </tr>\n",
       "    <tr>\n",
       "      <th>2</th>\n",
       "      <td>MANHATTAN</td>\n",
       "      <td>CHINATOWN</td>\n",
       "      <td>10013</td>\n",
       "      <td>1920</td>\n",
       "      <td>2287500</td>\n",
       "      <td>2019-12-09</td>\n",
       "    </tr>\n",
       "    <tr>\n",
       "      <th>3</th>\n",
       "      <td>MANHATTAN</td>\n",
       "      <td>CHINATOWN</td>\n",
       "      <td>10013</td>\n",
       "      <td>1920</td>\n",
       "      <td>2070000</td>\n",
       "      <td>2019-05-29</td>\n",
       "    </tr>\n",
       "    <tr>\n",
       "      <th>4</th>\n",
       "      <td>MANHATTAN</td>\n",
       "      <td>CHINATOWN</td>\n",
       "      <td>10013</td>\n",
       "      <td>1920</td>\n",
       "      <td>2900000</td>\n",
       "      <td>2019-06-17</td>\n",
       "    </tr>\n",
       "  </tbody>\n",
       "</table>\n",
       "</div>"
      ],
      "text/plain": [
       "     BOROUGH NEIGHBORHOOD  ZIP CODE  YEAR BUILT  SALE PRICE   SALE DATE\n",
       "0  MANHATTAN    CHINATOWN     10013        1920     1190000  2019-07-11\n",
       "1  MANHATTAN    CHINATOWN     10013        1920     1340000  2019-12-04\n",
       "2  MANHATTAN    CHINATOWN     10013        1920     2287500  2019-12-09\n",
       "3  MANHATTAN    CHINATOWN     10013        1920     2070000  2019-05-29\n",
       "4  MANHATTAN    CHINATOWN     10013        1920     2900000  2019-06-17"
      ]
     },
     "execution_count": 4,
     "metadata": {},
     "output_type": "execute_result"
    }
   ],
   "source": [
    "data.head()"
   ]
  },
  {
   "cell_type": "code",
   "execution_count": 5,
   "metadata": {},
   "outputs": [
    {
     "data": {
      "text/plain": [
       "array(['MANHATTAN'], dtype=object)"
      ]
     },
     "execution_count": 5,
     "metadata": {},
     "output_type": "execute_result"
    }
   ],
   "source": [
    "data['BOROUGH'].unique()"
   ]
  },
  {
   "cell_type": "code",
   "execution_count": 6,
   "metadata": {},
   "outputs": [],
   "source": [
    "del data['BOROUGH']"
   ]
  },
  {
   "cell_type": "code",
   "execution_count": 7,
   "metadata": {},
   "outputs": [
    {
     "data": {
      "text/plain": [
       "array(['CHINATOWN', 'CIVIC CENTER', 'CLINTON', 'EAST VILLAGE', 'FASHION',\n",
       "       'FINANCIAL', 'FLATIRON', 'GRAMERCY', 'GREENWICH VILLAGE-CENTRAL',\n",
       "       'GREENWICH VILLAGE-WEST', 'HARLEM-CENTRAL', 'HARLEM-EAST',\n",
       "       'HARLEM-UPPER', 'HARLEM-WEST', 'INWOOD', 'JAVITS CENTER',\n",
       "       'KIPS BAY', 'LITTLE ITALY', 'LOWER EAST SIDE', 'MANHATTAN VALLEY',\n",
       "       'MIDTOWN CBD', 'MIDTOWN EAST', 'MIDTOWN WEST', 'MURRAY HILL',\n",
       "       'ROOSEVELT ISLAND', 'SOHO', 'SOUTHBRIDGE', 'TRIBECA',\n",
       "       'UPPER EAST SIDE (59-79)', 'UPPER EAST SIDE (79-96)',\n",
       "       'UPPER EAST SIDE (96-110)', 'UPPER WEST SIDE (59-79)',\n",
       "       'UPPER WEST SIDE (79-96)', 'UPPER WEST SIDE (96-116)',\n",
       "       'WASHINGTON HEIGHTS LOWER', 'WASHINGTON HEIGHTS UPPER', 'CHELSEA',\n",
       "       'ALPHABET CITY', 'MORNINGSIDE HEIGHTS'], dtype=object)"
      ]
     },
     "execution_count": 7,
     "metadata": {},
     "output_type": "execute_result"
    }
   ],
   "source": [
    "data['NEIGHBORHOOD'].unique()"
   ]
  },
  {
   "cell_type": "code",
   "execution_count": 8,
   "metadata": {},
   "outputs": [
    {
     "data": {
      "text/plain": [
       "array([10013, 10002, 10007, 10036, 10019, 10003, 10009, 10001, 10018,\n",
       "       10004, 10006, 10005, 10038, 10011, 10010, 10016, 10012, 10014,\n",
       "       10035, 10030, 10031, 10027, 10026, 10037, 10039, 10029, 10463,\n",
       "       10034, 10025, 10017, 10022, 10044, 10280, 10282, 10065, 10021,\n",
       "       10075, 10028, 10128, 10023, 10024, 10069, 10032, 10033, 10040,\n",
       "           0], dtype=int64)"
      ]
     },
     "execution_count": 8,
     "metadata": {},
     "output_type": "execute_result"
    }
   ],
   "source": [
    "data['ZIP CODE'].unique()"
   ]
  },
  {
   "cell_type": "code",
   "execution_count": 9,
   "metadata": {},
   "outputs": [
    {
     "data": {
      "text/plain": [
       "array([1920, 1990, 2007, 2003, 1900, 1915, 2012, 2014, 1910, 2018, 1913,\n",
       "       2008, 1931, 1930, 2009, 2010, 2013, 1924, 2006, 1940, 1988, 2017,\n",
       "       2005, 1899, 1901, 2015, 1911, 1984, 1927, 1929, 2004, 2016, 1956,\n",
       "       1982, 1914, 1987, 1928, 1903, 1967, 1840, 1909, 1906, 1986, 1983,\n",
       "       1961, 1912, 1851, 1952, 1957, 1965, 1905, 1985, 1921, 1907, 1966,\n",
       "       2002, 1941, 1895, 1938, 1904, 1892, 1951, 1908, 1925, 1962, 2001,\n",
       "       1922, 1926, 2011, 1960, 1902, 1989, 1937, 1975, 1979, 1958, 1980,\n",
       "       1977, 1959, 1972, 1981, 1968, 1923, 1950, 1942, 1947, 1978, 1955,\n",
       "       1917, 1964, 1963, 1880, 1886, 1873, 2000, 1894, 1875, 1969, 1991,\n",
       "       1916, 1996, 1999, 1939, 1974, 1973, 1998, 1932, 1970, 1971, 1954,\n",
       "          0, 1918, 1836, 1935, 1919, 1948, 1860, 1841, 1857, 1890, 1879,\n",
       "       1800, 1953, 1893, 1934, 1883, 1874, 1889, 1821, 1896, 2019],\n",
       "      dtype=int64)"
      ]
     },
     "execution_count": 9,
     "metadata": {},
     "output_type": "execute_result"
    }
   ],
   "source": [
    "data['YEAR BUILT'].unique()"
   ]
  },
  {
   "cell_type": "code",
   "execution_count": 10,
   "metadata": {},
   "outputs": [],
   "source": [
    "#Exclude the listings include \"0\" to keep the accuracy of the model\n",
    "data= data[data['ZIP CODE'] != 0]\n",
    "data= data[data['YEAR BUILT'] != 0]"
   ]
  },
  {
   "cell_type": "code",
   "execution_count": 11,
   "metadata": {},
   "outputs": [],
   "source": [
    "# break date to year and month separatly\n",
    "data['Year']=data['SALE DATE'].str[:4].astype('int')"
   ]
  },
  {
   "cell_type": "code",
   "execution_count": 12,
   "metadata": {},
   "outputs": [],
   "source": [
    "data['Month']=data['SALE DATE'].str[5:7].astype('int')"
   ]
  },
  {
   "cell_type": "code",
   "execution_count": 13,
   "metadata": {},
   "outputs": [],
   "source": [
    "data['Day']=data['SALE DATE'].str[8:].astype('int')"
   ]
  },
  {
   "cell_type": "code",
   "execution_count": 14,
   "metadata": {},
   "outputs": [
    {
     "data": {
      "text/html": [
       "<div>\n",
       "<style scoped>\n",
       "    .dataframe tbody tr th:only-of-type {\n",
       "        vertical-align: middle;\n",
       "    }\n",
       "\n",
       "    .dataframe tbody tr th {\n",
       "        vertical-align: top;\n",
       "    }\n",
       "\n",
       "    .dataframe thead th {\n",
       "        text-align: right;\n",
       "    }\n",
       "</style>\n",
       "<table border=\"1\" class=\"dataframe\">\n",
       "  <thead>\n",
       "    <tr style=\"text-align: right;\">\n",
       "      <th></th>\n",
       "      <th>NEIGHBORHOOD</th>\n",
       "      <th>ZIP CODE</th>\n",
       "      <th>YEAR BUILT</th>\n",
       "      <th>SALE PRICE</th>\n",
       "      <th>SALE DATE</th>\n",
       "      <th>Year</th>\n",
       "      <th>Month</th>\n",
       "      <th>Day</th>\n",
       "    </tr>\n",
       "  </thead>\n",
       "  <tbody>\n",
       "    <tr>\n",
       "      <th>0</th>\n",
       "      <td>CHINATOWN</td>\n",
       "      <td>10013</td>\n",
       "      <td>1920</td>\n",
       "      <td>1190000</td>\n",
       "      <td>2019-07-11</td>\n",
       "      <td>2019</td>\n",
       "      <td>7</td>\n",
       "      <td>11</td>\n",
       "    </tr>\n",
       "    <tr>\n",
       "      <th>1</th>\n",
       "      <td>CHINATOWN</td>\n",
       "      <td>10013</td>\n",
       "      <td>1920</td>\n",
       "      <td>1340000</td>\n",
       "      <td>2019-12-04</td>\n",
       "      <td>2019</td>\n",
       "      <td>12</td>\n",
       "      <td>4</td>\n",
       "    </tr>\n",
       "    <tr>\n",
       "      <th>2</th>\n",
       "      <td>CHINATOWN</td>\n",
       "      <td>10013</td>\n",
       "      <td>1920</td>\n",
       "      <td>2287500</td>\n",
       "      <td>2019-12-09</td>\n",
       "      <td>2019</td>\n",
       "      <td>12</td>\n",
       "      <td>9</td>\n",
       "    </tr>\n",
       "    <tr>\n",
       "      <th>3</th>\n",
       "      <td>CHINATOWN</td>\n",
       "      <td>10013</td>\n",
       "      <td>1920</td>\n",
       "      <td>2070000</td>\n",
       "      <td>2019-05-29</td>\n",
       "      <td>2019</td>\n",
       "      <td>5</td>\n",
       "      <td>29</td>\n",
       "    </tr>\n",
       "    <tr>\n",
       "      <th>4</th>\n",
       "      <td>CHINATOWN</td>\n",
       "      <td>10013</td>\n",
       "      <td>1920</td>\n",
       "      <td>2900000</td>\n",
       "      <td>2019-06-17</td>\n",
       "      <td>2019</td>\n",
       "      <td>6</td>\n",
       "      <td>17</td>\n",
       "    </tr>\n",
       "  </tbody>\n",
       "</table>\n",
       "</div>"
      ],
      "text/plain": [
       "  NEIGHBORHOOD  ZIP CODE  YEAR BUILT  SALE PRICE   SALE DATE  Year  Month  Day\n",
       "0    CHINATOWN     10013        1920     1190000  2019-07-11  2019      7   11\n",
       "1    CHINATOWN     10013        1920     1340000  2019-12-04  2019     12    4\n",
       "2    CHINATOWN     10013        1920     2287500  2019-12-09  2019     12    9\n",
       "3    CHINATOWN     10013        1920     2070000  2019-05-29  2019      5   29\n",
       "4    CHINATOWN     10013        1920     2900000  2019-06-17  2019      6   17"
      ]
     },
     "execution_count": 14,
     "metadata": {},
     "output_type": "execute_result"
    }
   ],
   "source": [
    "data.head()"
   ]
  },
  {
   "cell_type": "code",
   "execution_count": 93,
   "metadata": {},
   "outputs": [
    {
     "name": "stderr",
     "output_type": "stream",
     "text": [
      "/opt/anaconda3/lib/python3.8/site-packages/seaborn/_decorators.py:36: FutureWarning: Pass the following variable as a keyword arg: x. From version 0.12, the only valid positional argument will be `data`, and passing other arguments without an explicit keyword will result in an error or misinterpretation.\n",
      "  warnings.warn(\n"
     ]
    },
    {
     "data": {
      "image/png": "[encoded data removed]",
      "text/plain": [
       "<Figure size 1152x648 with 1 Axes>"
      ]
     },
     "metadata": {
      "needs_background": "light"
     },
     "output_type": "display_data"
    }
   ],
   "source": [
    "# check outliers for target values with box plot\n",
    "plt.figure(figsize=(16,9))\n",
    "sns.boxplot(data['SALE PRICE'])\n",
    "plt.show()"
   ]
  },
  {
   "cell_type": "code",
   "execution_count": 94,
   "metadata": {},
   "outputs": [
    {
     "data": {
      "text/plain": [
       "26018323.400000177"
      ]
     },
     "execution_count": 94,
     "metadata": {},
     "output_type": "execute_result"
    }
   ],
   "source": [
    "# take a look at upper percentile of the target values\n",
    "np.percentile(data['SALE PRICE'],99)"
   ]
  },
  {
   "cell_type": "code",
   "execution_count": 95,
   "metadata": {},
   "outputs": [
    {
     "data": {
      "text/plain": [
       "276843.0"
      ]
     },
     "execution_count": 95,
     "metadata": {},
     "output_type": "execute_result"
    }
   ],
   "source": [
    "# take a look at lower percentile of the target values\n",
    "np.percentile(data['SALE PRICE'],1)"
   ]
  },
  {
   "cell_type": "code",
   "execution_count": 96,
   "metadata": {},
   "outputs": [],
   "source": [
    "# drop values that are higher than 99th percentile\n",
    "# drop values that are lower than 1th percentile\n",
    "data.drop(index=data[data['SALE PRICE']<275000.0].index,inplace=True)\n",
    "data.drop(index=data[data['SALE PRICE']>24161569.99999995].index,inplace=True)"
   ]
  },
  {
   "cell_type": "code",
   "execution_count": 97,
   "metadata": {},
   "outputs": [],
   "source": [
    "y=data['SALE PRICE']\n",
    "x=data.drop(columns=['SALE PRICE'])"
   ]
  },
  {
   "cell_type": "code",
   "execution_count": 98,
   "metadata": {},
   "outputs": [
    {
     "name": "stderr",
     "output_type": "stream",
     "text": [
      "/opt/anaconda3/lib/python3.8/site-packages/seaborn/_decorators.py:36: FutureWarning: Pass the following variable as a keyword arg: x. From version 0.12, the only valid positional argument will be `data`, and passing other arguments without an explicit keyword will result in an error or misinterpretation.\n",
      "  warnings.warn(\n"
     ]
    },
    {
     "data": {
      "image/png": "[encoded data removed]",
      "text/plain": [
       "<Figure size 1152x648 with 1 Axes>"
      ]
     },
     "metadata": {
      "needs_background": "light"
     },
     "output_type": "display_data"
    }
   ],
   "source": [
    "# box plot seems better than before after droping the outliers\n",
    "plt.figure(figsize=(16,9))\n",
    "sns.boxplot(y)\n",
    "plt.show()"
   ]
  },
  {
   "cell_type": "code",
   "execution_count": 99,
   "metadata": {},
   "outputs": [
    {
     "data": {
      "text/plain": [
       "<AxesSubplot:>"
      ]
     },
     "execution_count": 99,
     "metadata": {},
     "output_type": "execute_result"
    },
    {
     "data": {
      "image/png": "[encoded data removed]",
      "text/plain": [
       "<Figure size 432x288 with 1 Axes>"
      ]
     },
     "metadata": {
      "needs_background": "light"
     },
     "output_type": "display_data"
    }
   ],
   "source": [
    "# prices are right skewed, log transformation may be a good choice\n",
    "y.hist(grid=False)"
   ]
  },
  {
   "cell_type": "code",
   "execution_count": 100,
   "metadata": {},
   "outputs": [],
   "source": [
    "# extract all numerical columns\n",
    "num_col=[col for col in x.columns if x[col].dtype!='O']"
   ]
  },
  {
   "cell_type": "code",
   "execution_count": 101,
   "metadata": {},
   "outputs": [
    {
     "data": {
      "text/plain": [
       "['ZIP CODE', 'YEAR BUILT', 'Year', 'Month', 'Day']"
      ]
     },
     "execution_count": 101,
     "metadata": {},
     "output_type": "execute_result"
    }
   ],
   "source": [
    "num_col"
   ]
  },
  {
   "cell_type": "code",
   "execution_count": 102,
   "metadata": {},
   "outputs": [
    {
     "data": {
      "image/png": "[encoded data removed]",
      "text/plain": [
       "<Figure size 1152x648 with 2 Axes>"
      ]
     },
     "metadata": {
      "needs_background": "light"
     },
     "output_type": "display_data"
    }
   ],
   "source": [
    "# see correlations between numerical columns\n",
    "fig, ax = plt.subplots(figsize=(16,9))\n",
    "sns.heatmap(data[num_col].corr(),ax=ax,annot=True)\n",
    "plt.show()"
   ]
  },
  {
   "cell_type": "code",
   "execution_count": 103,
   "metadata": {},
   "outputs": [
    {
     "data": {
      "text/plain": [
       "Text(0.5, 0, 'Counts')"
      ]
     },
     "execution_count": 103,
     "metadata": {},
     "output_type": "execute_result"
    },
    {
     "data": {
      "image/png": "[encoded data removed]",
      "text/plain": [
       "<Figure size 1152x648 with 1 Axes>"
      ]
     },
     "metadata": {
      "needs_background": "light"
     },
     "output_type": "display_data"
    }
   ],
   "source": [
    "#Plot the number of listings counts based on neighborhood\n",
    "fig, ax = plt.subplots()\n",
    "fig.set_size_inches(16, 9)\n",
    "sns.barplot(x=data['NEIGHBORHOOD'].value_counts().values,y=data['NEIGHBORHOOD'].value_counts().index,ax=ax)\n",
    "plt.ylabel('NEIGHBORHOOD')\n",
    "plt.xlabel('Counts')"
   ]
  },
  {
   "cell_type": "code",
   "execution_count": 104,
   "metadata": {},
   "outputs": [
    {
     "data": {
      "text/plain": [
       "Text(0.5, 0, 'mean price')"
      ]
     },
     "execution_count": 104,
     "metadata": {},
     "output_type": "execute_result"
    },
    {
     "data": {
      "image/png": "[encoded data removed]",
      "text/plain": [
       "<Figure size 1080x1800 with 1 Axes>"
      ]
     },
     "metadata": {
      "needs_background": "light"
     },
     "output_type": "display_data"
    }
   ],
   "source": [
    "#Plot mean of sales prices based on building year built\n",
    "data['SALE PRICE']=y\n",
    "data.groupby('YEAR BUILT')['SALE PRICE'].mean().sort_values().plot(kind='barh',figsize=(15,25),alpha=1.0)\n",
    "plt.xlabel('mean price')"
   ]
  },
  {
   "cell_type": "code",
   "execution_count": 105,
   "metadata": {},
   "outputs": [
    {
     "data": {
      "text/plain": [
       "Text(0.5, 0, 'mean price')"
      ]
     },
     "execution_count": 105,
     "metadata": {},
     "output_type": "execute_result"
    },
    {
     "data": {
      "image/png": "[encoded data removed]",
      "text/plain": [
       "<Figure size 1152x648 with 1 Axes>"
      ]
     },
     "metadata": {
      "needs_background": "light"
     },
     "output_type": "display_data"
    }
   ],
   "source": [
    "#Plot mean of sales prices based on neighborhood\n",
    "data['SALE PRICE']=y\n",
    "data.groupby('NEIGHBORHOOD')['SALE PRICE'].mean().sort_values().plot(kind='barh',figsize=(16,9),alpha=1.0)\n",
    "plt.xlabel('mean price')"
   ]
  },
  {
   "cell_type": "code",
   "execution_count": 106,
   "metadata": {},
   "outputs": [
    {
     "data": {
      "text/plain": [
       "['UPPER EAST SIDE (79-96)',\n",
       " 'UPPER EAST SIDE (59-79)',\n",
       " 'UPPER WEST SIDE (59-79)',\n",
       " 'MIDTOWN WEST',\n",
       " 'TRIBECA']"
      ]
     },
     "execution_count": 106,
     "metadata": {},
     "output_type": "execute_result"
    }
   ],
   "source": [
    "neighborhood=['UPPER EAST SIDE (79-96)','UPPER EAST SIDE (59-79)','UPPER WEST SIDE (59-79)','MIDTOWN WEST','TRIBECA']\n",
    "neighborhood"
   ]
  },
  {
   "cell_type": "code",
   "execution_count": 107,
   "metadata": {},
   "outputs": [
    {
     "data": {
      "text/plain": [
       "<matplotlib.legend.Legend at 0x14e4ab460>"
      ]
     },
     "execution_count": 107,
     "metadata": {},
     "output_type": "execute_result"
    },
    {
     "data": {
      "image/png": "[encoded data removed]",
      "text/plain": [
       "<Figure size 1152x648 with 1 Axes>"
      ]
     },
     "metadata": {
      "needs_background": "light"
     },
     "output_type": "display_data"
    }
   ],
   "source": [
    "#Plot Top 5 Neighborhood's mean sales price grouped by Year, Month \n",
    "data[data['NEIGHBORHOOD']=='UPPER EAST SIDE (79-96)'].groupby(['Year','Month'])['SALE PRICE'].mean().plot(figsize=(16,9))\n",
    "data[data['NEIGHBORHOOD']=='UPPER EAST SIDE (59-79)'].groupby(['Year','Month'])['SALE PRICE'].mean().plot(figsize=(16,9))\n",
    "data[data['NEIGHBORHOOD']=='UPPER WEST SIDE (59-79)'].groupby(['Year','Month'])['SALE PRICE'].mean().plot(figsize=(16,9))\n",
    "data[data['NEIGHBORHOOD']=='MIDTOWN WEST'].groupby(['Year','Month'])['SALE PRICE'].mean().plot(figsize=(16,9))\n",
    "data[data['NEIGHBORHOOD']=='TRIBECA'].groupby(['Year','Month'])['SALE PRICE'].mean().plot(figsize=(16,9))\n",
    "#data[data['NEIGHBORHOOD']=='FINANCIAL'].groupby(['Year','Month'])['SALE PRICE'].mean().plot(figsize=(16,9))\n",
    "#data[data['NEIGHBORHOOD']=='MIDTOWN EAST'].groupby(['Year','Month'])['SALE PRICE'].mean().plot(figsize=(16,9))\n",
    "#data[data['NEIGHBORHOOD']=='HARLEM-CENTRAL'].groupby(['Year','Month'])['SALE PRICE'].mean().plot(figsize=(16,9))\n",
    "#data[data['NEIGHBORHOOD']=='CHELSEA'].groupby(['Year','Month'])['SALE PRICE'].mean().plot(figsize=(16,9))\n",
    "plt.ylabel('mean price')\n",
    "plt.legend(neighborhood)"
   ]
  },
  {
   "cell_type": "code",
   "execution_count": 108,
   "metadata": {},
   "outputs": [
    {
     "name": "stderr",
     "output_type": "stream",
     "text": [
      "/opt/anaconda3/lib/python3.8/site-packages/seaborn/_decorators.py:36: FutureWarning: Pass the following variables as keyword args: x, y. From version 0.12, the only valid positional argument will be `data`, and passing other arguments without an explicit keyword will result in an error or misinterpretation.\n",
      "  warnings.warn(\n"
     ]
    },
    {
     "data": {
      "image/png": "[encoded data removed]",
      "text/plain": [
       "<Figure size 1296x864 with 1 Axes>"
      ]
     },
     "metadata": {
      "needs_background": "light"
     },
     "output_type": "display_data"
    }
   ],
   "source": [
    "# the median price over time does not change significantly\n",
    "plt.figure(figsize=(18,12))\n",
    "sns.boxplot(data['Year'],data['SALE PRICE'])\n",
    "plt.show()"
   ]
  },
  {
   "cell_type": "markdown",
   "metadata": {},
   "source": [
    "## Modeling"
   ]
  },
  {
   "cell_type": "code",
   "execution_count": 109,
   "metadata": {},
   "outputs": [],
   "source": [
    "#split 30% as validation dataset\n",
    "x_train,x_test,y_train,y_test=train_test_split(x,y,test_size=0.3,random_state=0)"
   ]
  },
  {
   "cell_type": "code",
   "execution_count": 110,
   "metadata": {},
   "outputs": [],
   "source": [
    "# as we mentioned ahead, prices are right skewed, transmation may be good choice especially for linear model which requires\n",
    "# response variable need to be normally distributed\n",
    "log_y_train=np.log(y_train)\n",
    "log_y_test=np.log(y_test)"
   ]
  },
  {
   "cell_type": "code",
   "execution_count": 111,
   "metadata": {},
   "outputs": [
    {
     "name": "stderr",
     "output_type": "stream",
     "text": [
      "/opt/anaconda3/lib/python3.8/site-packages/pandas/core/frame.py:4163: SettingWithCopyWarning: \n",
      "A value is trying to be set on a copy of a slice from a DataFrame\n",
      "\n",
      "See the caveats in the documentation: https://pandas.pydata.org/pandas-docs/stable/user_guide/indexing.html#returning-a-view-versus-a-copy\n",
      "  return super().drop(\n"
     ]
    }
   ],
   "source": [
    "#let's exclucde catogorial column and sale date column first to see model performance\n",
    "x_train.drop(columns = ['NEIGHBORHOOD', 'SALE DATE'], inplace = True)\n",
    "x_test.drop(columns = ['NEIGHBORHOOD', 'SALE DATE'], inplace = True)\n",
    "y_train.drop(columns = ['NEIGHBORHOOD', 'SALE DATE'], inplace = True)\n",
    "y_test.drop(columns = ['NEIGHBORHOOD', 'SALE DATE'], inplace = True)"
   ]
  },
  {
   "cell_type": "code",
   "execution_count": 112,
   "metadata": {},
   "outputs": [
    {
     "data": {
      "text/html": [
       "<div>\n",
       "<style scoped>\n",
       "    .dataframe tbody tr th:only-of-type {\n",
       "        vertical-align: middle;\n",
       "    }\n",
       "\n",
       "    .dataframe tbody tr th {\n",
       "        vertical-align: top;\n",
       "    }\n",
       "\n",
       "    .dataframe thead th {\n",
       "        text-align: right;\n",
       "    }\n",
       "</style>\n",
       "<table border=\"1\" class=\"dataframe\">\n",
       "  <thead>\n",
       "    <tr style=\"text-align: right;\">\n",
       "      <th></th>\n",
       "      <th>ZIP CODE</th>\n",
       "      <th>YEAR BUILT</th>\n",
       "      <th>Year</th>\n",
       "      <th>Month</th>\n",
       "      <th>Day</th>\n",
       "    </tr>\n",
       "  </thead>\n",
       "  <tbody>\n",
       "    <tr>\n",
       "      <th>4868</th>\n",
       "      <td>10019</td>\n",
       "      <td>1987</td>\n",
       "      <td>2016</td>\n",
       "      <td>1</td>\n",
       "      <td>11</td>\n",
       "    </tr>\n",
       "    <tr>\n",
       "      <th>12281</th>\n",
       "      <td>10011</td>\n",
       "      <td>2008</td>\n",
       "      <td>2017</td>\n",
       "      <td>4</td>\n",
       "      <td>10</td>\n",
       "    </tr>\n",
       "    <tr>\n",
       "      <th>7744</th>\n",
       "      <td>10011</td>\n",
       "      <td>1930</td>\n",
       "      <td>2016</td>\n",
       "      <td>6</td>\n",
       "      <td>16</td>\n",
       "    </tr>\n",
       "    <tr>\n",
       "      <th>24205</th>\n",
       "      <td>10023</td>\n",
       "      <td>1983</td>\n",
       "      <td>2020</td>\n",
       "      <td>2</td>\n",
       "      <td>27</td>\n",
       "    </tr>\n",
       "    <tr>\n",
       "      <th>6938</th>\n",
       "      <td>10002</td>\n",
       "      <td>2010</td>\n",
       "      <td>2016</td>\n",
       "      <td>5</td>\n",
       "      <td>4</td>\n",
       "    </tr>\n",
       "  </tbody>\n",
       "</table>\n",
       "</div>"
      ],
      "text/plain": [
       "       ZIP CODE  YEAR BUILT  Year  Month  Day\n",
       "4868      10019        1987  2016      1   11\n",
       "12281     10011        2008  2017      4   10\n",
       "7744      10011        1930  2016      6   16\n",
       "24205     10023        1983  2020      2   27\n",
       "6938      10002        2010  2016      5    4"
      ]
     },
     "execution_count": 112,
     "metadata": {},
     "output_type": "execute_result"
    }
   ],
   "source": [
    "x_train.head()"
   ]
  },
  {
   "cell_type": "code",
   "execution_count": 113,
   "metadata": {},
   "outputs": [],
   "source": [
    "xgb_r = xg.XGBRegressor(max_depth=10,\n",
    "                           n_estimators=300,\n",
    "                           min_child_weight=9,\n",
    "                           learning_rate=0.05,\n",
    "                           nthread=8,\n",
    "                           subsample=0.80,\n",
    "                           colsample_bytree=0.8,\n",
    "                           seed=4242\n",
    "                           )"
   ]
  },
  {
   "cell_type": "code",
   "execution_count": 114,
   "metadata": {},
   "outputs": [
    {
     "name": "stdout",
     "output_type": "stream",
     "text": [
      "[0]\tvalidation_0-rmse:13.26629\n",
      "[1]\tvalidation_0-rmse:12.60548\n",
      "[2]\tvalidation_0-rmse:11.97828\n",
      "[3]\tvalidation_0-rmse:11.38198\n",
      "[4]\tvalidation_0-rmse:10.81593\n",
      "[5]\tvalidation_0-rmse:10.27833\n",
      "[6]\tvalidation_0-rmse:9.76753\n",
      "[7]\tvalidation_0-rmse:9.28256\n",
      "[8]\tvalidation_0-rmse:8.82177\n",
      "[9]\tvalidation_0-rmse:8.38495\n",
      "[10]\tvalidation_0-rmse:7.97004\n",
      "[11]\tvalidation_0-rmse:7.57561\n",
      "[12]\tvalidation_0-rmse:7.20121\n",
      "[13]\tvalidation_0-rmse:6.84531\n",
      "[14]\tvalidation_0-rmse:6.50803\n",
      "[15]\tvalidation_0-rmse:6.18709\n",
      "[16]\tvalidation_0-rmse:5.88250\n",
      "[17]\tvalidation_0-rmse:5.59315\n",
      "[18]\tvalidation_0-rmse:5.31854\n",
      "[19]\tvalidation_0-rmse:5.05821\n",
      "[20]\tvalidation_0-rmse:4.81099\n",
      "[21]\tvalidation_0-rmse:4.57565\n",
      "[22]\tvalidation_0-rmse:4.35240\n",
      "[23]\tvalidation_0-rmse:4.14139\n",
      "[24]\tvalidation_0-rmse:3.94017\n",
      "[25]\tvalidation_0-rmse:3.74931\n",
      "[26]\tvalidation_0-rmse:3.56838\n",
      "[27]\tvalidation_0-rmse:3.39682\n",
      "[28]\tvalidation_0-rmse:3.23364\n",
      "[29]\tvalidation_0-rmse:3.07953\n",
      "[30]\tvalidation_0-rmse:2.93275\n",
      "[31]\tvalidation_0-rmse:2.79371\n",
      "[32]\tvalidation_0-rmse:2.66220\n",
      "[33]\tvalidation_0-rmse:2.53752\n",
      "[34]\tvalidation_0-rmse:2.41888\n",
      "[35]\tvalidation_0-rmse:2.30670\n",
      "[36]\tvalidation_0-rmse:2.20023\n",
      "[37]\tvalidation_0-rmse:2.09972\n",
      "[38]\tvalidation_0-rmse:2.00449\n",
      "[39]\tvalidation_0-rmse:1.91413\n",
      "[40]\tvalidation_0-rmse:1.82905\n",
      "[41]\tvalidation_0-rmse:1.74842\n",
      "[42]\tvalidation_0-rmse:1.67190\n",
      "[43]\tvalidation_0-rmse:1.60036\n",
      "[44]\tvalidation_0-rmse:1.53300\n",
      "[45]\tvalidation_0-rmse:1.46853\n",
      "[46]\tvalidation_0-rmse:1.40788\n",
      "[47]\tvalidation_0-rmse:1.35053\n",
      "[48]\tvalidation_0-rmse:1.29726\n",
      "[49]\tvalidation_0-rmse:1.24700\n",
      "[50]\tvalidation_0-rmse:1.19960\n",
      "[51]\tvalidation_0-rmse:1.15468\n",
      "[52]\tvalidation_0-rmse:1.11247\n",
      "[53]\tvalidation_0-rmse:1.07276\n",
      "[54]\tvalidation_0-rmse:1.03591\n",
      "[55]\tvalidation_0-rmse:1.00063\n",
      "[56]\tvalidation_0-rmse:0.96817\n",
      "[57]\tvalidation_0-rmse:0.93748\n",
      "[58]\tvalidation_0-rmse:0.90972\n",
      "[59]\tvalidation_0-rmse:0.88382\n",
      "[60]\tvalidation_0-rmse:0.85886\n",
      "[61]\tvalidation_0-rmse:0.83651\n",
      "[62]\tvalidation_0-rmse:0.81489\n",
      "[63]\tvalidation_0-rmse:0.79549\n",
      "[64]\tvalidation_0-rmse:0.77719\n",
      "[65]\tvalidation_0-rmse:0.75990\n",
      "[66]\tvalidation_0-rmse:0.74471\n",
      "[67]\tvalidation_0-rmse:0.72951\n",
      "[68]\tvalidation_0-rmse:0.71652\n",
      "[69]\tvalidation_0-rmse:0.70462\n",
      "[70]\tvalidation_0-rmse:0.69287\n",
      "[71]\tvalidation_0-rmse:0.68158\n",
      "[72]\tvalidation_0-rmse:0.67174\n",
      "[73]\tvalidation_0-rmse:0.66316\n",
      "[74]\tvalidation_0-rmse:0.65508\n",
      "[75]\tvalidation_0-rmse:0.64718\n",
      "[76]\tvalidation_0-rmse:0.64059\n",
      "[77]\tvalidation_0-rmse:0.63406\n",
      "[78]\tvalidation_0-rmse:0.62807\n",
      "[79]\tvalidation_0-rmse:0.62272\n",
      "[80]\tvalidation_0-rmse:0.61731\n",
      "[81]\tvalidation_0-rmse:0.61212\n",
      "[82]\tvalidation_0-rmse:0.60795\n",
      "[83]\tvalidation_0-rmse:0.60441\n",
      "[84]\tvalidation_0-rmse:0.60051\n",
      "[85]\tvalidation_0-rmse:0.59765\n",
      "[86]\tvalidation_0-rmse:0.59465\n",
      "[87]\tvalidation_0-rmse:0.59233\n",
      "[88]\tvalidation_0-rmse:0.58981\n",
      "[89]\tvalidation_0-rmse:0.58777\n",
      "[90]\tvalidation_0-rmse:0.58560\n",
      "[91]\tvalidation_0-rmse:0.58371\n",
      "[92]\tvalidation_0-rmse:0.58217\n",
      "[93]\tvalidation_0-rmse:0.58028\n",
      "[94]\tvalidation_0-rmse:0.57872\n",
      "[95]\tvalidation_0-rmse:0.57734\n",
      "[96]\tvalidation_0-rmse:0.57595\n",
      "[97]\tvalidation_0-rmse:0.57469\n",
      "[98]\tvalidation_0-rmse:0.57369\n",
      "[99]\tvalidation_0-rmse:0.57260\n",
      "[100]\tvalidation_0-rmse:0.57147\n",
      "[101]\tvalidation_0-rmse:0.57054\n",
      "[102]\tvalidation_0-rmse:0.56951\n",
      "[103]\tvalidation_0-rmse:0.56885\n",
      "[104]\tvalidation_0-rmse:0.56816\n",
      "[105]\tvalidation_0-rmse:0.56736\n",
      "[106]\tvalidation_0-rmse:0.56680\n",
      "[107]\tvalidation_0-rmse:0.56649\n",
      "[108]\tvalidation_0-rmse:0.56618\n",
      "[109]\tvalidation_0-rmse:0.56572\n",
      "[110]\tvalidation_0-rmse:0.56537\n",
      "[111]\tvalidation_0-rmse:0.56496\n",
      "[112]\tvalidation_0-rmse:0.56490\n",
      "[113]\tvalidation_0-rmse:0.56435\n",
      "[114]\tvalidation_0-rmse:0.56418\n",
      "[115]\tvalidation_0-rmse:0.56368\n",
      "[116]\tvalidation_0-rmse:0.56317\n",
      "[117]\tvalidation_0-rmse:0.56306\n",
      "[118]\tvalidation_0-rmse:0.56285\n",
      "[119]\tvalidation_0-rmse:0.56249\n",
      "[120]\tvalidation_0-rmse:0.56242\n",
      "[121]\tvalidation_0-rmse:0.56194\n",
      "[122]\tvalidation_0-rmse:0.56181\n",
      "[123]\tvalidation_0-rmse:0.56179\n",
      "[124]\tvalidation_0-rmse:0.56183\n",
      "[125]\tvalidation_0-rmse:0.56139\n",
      "[126]\tvalidation_0-rmse:0.56114\n",
      "[127]\tvalidation_0-rmse:0.56115\n",
      "[128]\tvalidation_0-rmse:0.56107\n",
      "[129]\tvalidation_0-rmse:0.56095\n",
      "[130]\tvalidation_0-rmse:0.56091\n",
      "[131]\tvalidation_0-rmse:0.56086\n",
      "[132]\tvalidation_0-rmse:0.56084\n",
      "[133]\tvalidation_0-rmse:0.56066\n",
      "[134]\tvalidation_0-rmse:0.56051\n",
      "[135]\tvalidation_0-rmse:0.56051\n",
      "[136]\tvalidation_0-rmse:0.56037\n",
      "[137]\tvalidation_0-rmse:0.56056\n",
      "[138]\tvalidation_0-rmse:0.56043\n",
      "[139]\tvalidation_0-rmse:0.56036\n",
      "[140]\tvalidation_0-rmse:0.56045\n",
      "[141]\tvalidation_0-rmse:0.56026\n",
      "[142]\tvalidation_0-rmse:0.56043\n",
      "[143]\tvalidation_0-rmse:0.56049\n",
      "[144]\tvalidation_0-rmse:0.56052\n",
      "[145]\tvalidation_0-rmse:0.56045\n",
      "[146]\tvalidation_0-rmse:0.56041\n",
      "[147]\tvalidation_0-rmse:0.56031\n",
      "[148]\tvalidation_0-rmse:0.56030\n",
      "[149]\tvalidation_0-rmse:0.56036\n",
      "[150]\tvalidation_0-rmse:0.56053\n",
      "[151]\tvalidation_0-rmse:0.56042\n",
      "[152]\tvalidation_0-rmse:0.56038\n",
      "[153]\tvalidation_0-rmse:0.56034\n",
      "[154]\tvalidation_0-rmse:0.56041\n",
      "[155]\tvalidation_0-rmse:0.56045\n",
      "[156]\tvalidation_0-rmse:0.56046\n",
      "[157]\tvalidation_0-rmse:0.56044\n",
      "[158]\tvalidation_0-rmse:0.56037\n",
      "[159]\tvalidation_0-rmse:0.56048\n",
      "[160]\tvalidation_0-rmse:0.56037\n",
      "[161]\tvalidation_0-rmse:0.56019\n",
      "[162]\tvalidation_0-rmse:0.55999\n",
      "[163]\tvalidation_0-rmse:0.56005\n",
      "[164]\tvalidation_0-rmse:0.56010\n",
      "[165]\tvalidation_0-rmse:0.56034\n",
      "[166]\tvalidation_0-rmse:0.56063\n",
      "[167]\tvalidation_0-rmse:0.56048\n",
      "[168]\tvalidation_0-rmse:0.56043\n",
      "[169]\tvalidation_0-rmse:0.56028\n",
      "[170]\tvalidation_0-rmse:0.56026\n",
      "[171]\tvalidation_0-rmse:0.56018\n",
      "[172]\tvalidation_0-rmse:0.56004\n",
      "[173]\tvalidation_0-rmse:0.56008\n",
      "[174]\tvalidation_0-rmse:0.56019\n",
      "[175]\tvalidation_0-rmse:0.56019\n",
      "[176]\tvalidation_0-rmse:0.56022\n",
      "[177]\tvalidation_0-rmse:0.56023\n",
      "[178]\tvalidation_0-rmse:0.56012\n",
      "[179]\tvalidation_0-rmse:0.56005\n",
      "[180]\tvalidation_0-rmse:0.56008\n",
      "[181]\tvalidation_0-rmse:0.56013\n",
      "[182]\tvalidation_0-rmse:0.55982\n",
      "[183]\tvalidation_0-rmse:0.55983\n",
      "[184]\tvalidation_0-rmse:0.55990\n",
      "[185]\tvalidation_0-rmse:0.56002\n",
      "[186]\tvalidation_0-rmse:0.56003\n",
      "[187]\tvalidation_0-rmse:0.55998\n",
      "[188]\tvalidation_0-rmse:0.56003\n",
      "[189]\tvalidation_0-rmse:0.56009\n",
      "[190]\tvalidation_0-rmse:0.56024\n",
      "[191]\tvalidation_0-rmse:0.56028\n",
      "[192]\tvalidation_0-rmse:0.56030\n",
      "[193]\tvalidation_0-rmse:0.56042\n",
      "[194]\tvalidation_0-rmse:0.56050\n",
      "[195]\tvalidation_0-rmse:0.56042\n",
      "[196]\tvalidation_0-rmse:0.56051\n",
      "[197]\tvalidation_0-rmse:0.56055\n",
      "[198]\tvalidation_0-rmse:0.56046\n",
      "[199]\tvalidation_0-rmse:0.56070\n",
      "[200]\tvalidation_0-rmse:0.56071\n",
      "[201]\tvalidation_0-rmse:0.56074\n",
      "[202]\tvalidation_0-rmse:0.56086\n",
      "[203]\tvalidation_0-rmse:0.56089\n",
      "[204]\tvalidation_0-rmse:0.56105\n",
      "[205]\tvalidation_0-rmse:0.56117\n",
      "[206]\tvalidation_0-rmse:0.56119\n",
      "[207]\tvalidation_0-rmse:0.56115\n",
      "[208]\tvalidation_0-rmse:0.56139\n",
      "[209]\tvalidation_0-rmse:0.56147\n",
      "[210]\tvalidation_0-rmse:0.56151\n",
      "[211]\tvalidation_0-rmse:0.56156\n",
      "[212]\tvalidation_0-rmse:0.56159\n",
      "[213]\tvalidation_0-rmse:0.56142\n",
      "[214]\tvalidation_0-rmse:0.56131\n",
      "[215]\tvalidation_0-rmse:0.56112\n",
      "[216]\tvalidation_0-rmse:0.56105\n",
      "[217]\tvalidation_0-rmse:0.56100\n",
      "[218]\tvalidation_0-rmse:0.56099\n",
      "[219]\tvalidation_0-rmse:0.56104\n",
      "[220]\tvalidation_0-rmse:0.56119\n",
      "[221]\tvalidation_0-rmse:0.56120\n",
      "[222]\tvalidation_0-rmse:0.56128\n",
      "[223]\tvalidation_0-rmse:0.56135\n",
      "[224]\tvalidation_0-rmse:0.56122\n",
      "[225]\tvalidation_0-rmse:0.56131\n",
      "[226]\tvalidation_0-rmse:0.56136\n",
      "[227]\tvalidation_0-rmse:0.56146\n",
      "[228]\tvalidation_0-rmse:0.56155\n",
      "[229]\tvalidation_0-rmse:0.56156\n",
      "[230]\tvalidation_0-rmse:0.56166\n",
      "[231]\tvalidation_0-rmse:0.56173\n",
      "[232]\tvalidation_0-rmse:0.56169\n",
      "[233]\tvalidation_0-rmse:0.56165\n",
      "[234]\tvalidation_0-rmse:0.56185\n",
      "[235]\tvalidation_0-rmse:0.56194\n",
      "[236]\tvalidation_0-rmse:0.56215\n",
      "[237]\tvalidation_0-rmse:0.56209\n",
      "[238]\tvalidation_0-rmse:0.56212\n",
      "[239]\tvalidation_0-rmse:0.56200\n",
      "[240]\tvalidation_0-rmse:0.56212\n",
      "[241]\tvalidation_0-rmse:0.56235\n",
      "[242]\tvalidation_0-rmse:0.56231\n",
      "[243]\tvalidation_0-rmse:0.56228\n",
      "[244]\tvalidation_0-rmse:0.56237\n",
      "[245]\tvalidation_0-rmse:0.56245\n",
      "[246]\tvalidation_0-rmse:0.56229\n",
      "[247]\tvalidation_0-rmse:0.56237\n",
      "[248]\tvalidation_0-rmse:0.56258\n",
      "[249]\tvalidation_0-rmse:0.56257\n",
      "[250]\tvalidation_0-rmse:0.56269\n",
      "[251]\tvalidation_0-rmse:0.56266\n",
      "[252]\tvalidation_0-rmse:0.56280\n",
      "[253]\tvalidation_0-rmse:0.56269\n",
      "[254]\tvalidation_0-rmse:0.56269\n",
      "[255]\tvalidation_0-rmse:0.56284\n",
      "[256]\tvalidation_0-rmse:0.56272\n",
      "[257]\tvalidation_0-rmse:0.56286\n",
      "[258]\tvalidation_0-rmse:0.56276\n",
      "[259]\tvalidation_0-rmse:0.56256\n"
     ]
    },
    {
     "name": "stdout",
     "output_type": "stream",
     "text": [
      "[260]\tvalidation_0-rmse:0.56254\n",
      "[261]\tvalidation_0-rmse:0.56259\n",
      "[262]\tvalidation_0-rmse:0.56271\n",
      "[263]\tvalidation_0-rmse:0.56270\n",
      "[264]\tvalidation_0-rmse:0.56295\n",
      "[265]\tvalidation_0-rmse:0.56291\n",
      "[266]\tvalidation_0-rmse:0.56289\n",
      "[267]\tvalidation_0-rmse:0.56304\n",
      "[268]\tvalidation_0-rmse:0.56308\n",
      "[269]\tvalidation_0-rmse:0.56322\n",
      "[270]\tvalidation_0-rmse:0.56321\n",
      "[271]\tvalidation_0-rmse:0.56323\n",
      "[272]\tvalidation_0-rmse:0.56333\n",
      "[273]\tvalidation_0-rmse:0.56325\n",
      "[274]\tvalidation_0-rmse:0.56328\n",
      "[275]\tvalidation_0-rmse:0.56343\n",
      "[276]\tvalidation_0-rmse:0.56351\n",
      "[277]\tvalidation_0-rmse:0.56354\n",
      "[278]\tvalidation_0-rmse:0.56353\n",
      "[279]\tvalidation_0-rmse:0.56346\n",
      "[280]\tvalidation_0-rmse:0.56357\n",
      "[281]\tvalidation_0-rmse:0.56353\n",
      "[282]\tvalidation_0-rmse:0.56371\n",
      "[283]\tvalidation_0-rmse:0.56386\n",
      "[284]\tvalidation_0-rmse:0.56380\n",
      "[285]\tvalidation_0-rmse:0.56388\n",
      "[286]\tvalidation_0-rmse:0.56387\n",
      "[287]\tvalidation_0-rmse:0.56394\n",
      "[288]\tvalidation_0-rmse:0.56378\n",
      "[289]\tvalidation_0-rmse:0.56382\n",
      "[290]\tvalidation_0-rmse:0.56398\n",
      "[291]\tvalidation_0-rmse:0.56408\n",
      "[292]\tvalidation_0-rmse:0.56428\n",
      "[293]\tvalidation_0-rmse:0.56423\n",
      "[294]\tvalidation_0-rmse:0.56442\n",
      "[295]\tvalidation_0-rmse:0.56436\n",
      "[296]\tvalidation_0-rmse:0.56437\n",
      "[297]\tvalidation_0-rmse:0.56454\n",
      "[298]\tvalidation_0-rmse:0.56459\n",
      "[299]\tvalidation_0-rmse:0.56463\n",
      "time:  5.792070150375366 seconds\n"
     ]
    }
   ],
   "source": [
    "start=time.time()\n",
    "xgb_r.fit(x_train,log_y_train,\n",
    "          eval_metric='rmse',\n",
    "            eval_set=[(x_test,log_y_test)])\n",
    "end=time.time()\n",
    "print('time: ',end-start,'seconds')"
   ]
  },
  {
   "cell_type": "code",
   "execution_count": 115,
   "metadata": {},
   "outputs": [
    {
     "name": "stderr",
     "output_type": "stream",
     "text": [
      "/opt/anaconda3/lib/python3.8/site-packages/xgboost/data.py:112: UserWarning: Use subset (sliced data) of np.ndarray is not recommended because it will generate extra copies and increase memory consumption\n",
      "  warnings.warn(\n"
     ]
    },
    {
     "data": {
      "text/plain": [
       "0.1473352321754756"
      ]
     },
     "execution_count": 115,
     "metadata": {},
     "output_type": "execute_result"
    }
   ],
   "source": [
    "# mse of training set\n",
    "mean_squared_error(log_y_train,xgb_r.predict(x_train))"
   ]
  },
  {
   "cell_type": "code",
   "execution_count": 116,
   "metadata": {},
   "outputs": [
    {
     "name": "stderr",
     "output_type": "stream",
     "text": [
      "/opt/anaconda3/lib/python3.8/site-packages/xgboost/data.py:112: UserWarning: Use subset (sliced data) of np.ndarray is not recommended because it will generate extra copies and increase memory consumption\n",
      "  warnings.warn(\n"
     ]
    },
    {
     "data": {
      "text/plain": [
       "0.3188064815438333"
      ]
     },
     "execution_count": 116,
     "metadata": {},
     "output_type": "execute_result"
    }
   ],
   "source": [
    "# mse of validation set\n",
    "mean_squared_error(log_y_test,xgb_r.predict(x_test))"
   ]
  },
  {
   "cell_type": "code",
   "execution_count": 117,
   "metadata": {},
   "outputs": [
    {
     "name": "stderr",
     "output_type": "stream",
     "text": [
      "<ipython-input-117-95b64b45ed79>:12: SettingWithCopyWarning: \n",
      "A value is trying to be set on a copy of a slice from a DataFrame.\n",
      "Try using .loc[row_indexer,col_indexer] = value instead\n",
      "\n",
      "See the caveats in the documentation: https://pandas.pydata.org/pandas-docs/stable/user_guide/indexing.html#returning-a-view-versus-a-copy\n",
      "  x1_train['Month']=x1_train['Month'].map(lambda x: calendar.month_name[int(x)])\n",
      "<ipython-input-117-95b64b45ed79>:13: SettingWithCopyWarning: \n",
      "A value is trying to be set on a copy of a slice from a DataFrame.\n",
      "Try using .loc[row_indexer,col_indexer] = value instead\n",
      "\n",
      "See the caveats in the documentation: https://pandas.pydata.org/pandas-docs/stable/user_guide/indexing.html#returning-a-view-versus-a-copy\n",
      "  x1_test['Month']=x1_test['Month'].map(lambda x: calendar.month_name[int(x)])\n"
     ]
    }
   ],
   "source": [
    "# Now, let's keep categorical data to run the model and see how the performance differs\n",
    "# encoding the categorical data\n",
    "\n",
    "y1=data['SALE PRICE']\n",
    "x1=data.drop(columns=['SALE PRICE'])\n",
    "\n",
    "x1_train,x1_test,y1_train,y1_test=train_test_split(x1,y1,test_size=0.3,random_state=0)\n",
    "\n",
    "log_y1_train=np.log(y1_train)\n",
    "log_y1_test=np.log(y1_test)\n",
    "\n",
    "x1_train['Month']=x1_train['Month'].map(lambda x: calendar.month_name[int(x)])\n",
    "x1_test['Month']=x1_test['Month'].map(lambda x: calendar.month_name[int(x)])\n",
    "x1_train1=pd.get_dummies(x1_train.drop(columns=['SALE DATE']),drop_first=True)\n",
    "x1_test1=pd.get_dummies(x1_test.drop(columns=['SALE DATE']),drop_first=True)"
   ]
  },
  {
   "cell_type": "code",
   "execution_count": 118,
   "metadata": {},
   "outputs": [
    {
     "data": {
      "text/html": [
       "<div>\n",
       "<style scoped>\n",
       "    .dataframe tbody tr th:only-of-type {\n",
       "        vertical-align: middle;\n",
       "    }\n",
       "\n",
       "    .dataframe tbody tr th {\n",
       "        vertical-align: top;\n",
       "    }\n",
       "\n",
       "    .dataframe thead th {\n",
       "        text-align: right;\n",
       "    }\n",
       "</style>\n",
       "<table border=\"1\" class=\"dataframe\">\n",
       "  <thead>\n",
       "    <tr style=\"text-align: right;\">\n",
       "      <th></th>\n",
       "      <th>ZIP CODE</th>\n",
       "      <th>YEAR BUILT</th>\n",
       "      <th>Year</th>\n",
       "      <th>Day</th>\n",
       "      <th>NEIGHBORHOOD_CHELSEA</th>\n",
       "      <th>NEIGHBORHOOD_CHINATOWN</th>\n",
       "      <th>NEIGHBORHOOD_CIVIC CENTER</th>\n",
       "      <th>NEIGHBORHOOD_CLINTON</th>\n",
       "      <th>NEIGHBORHOOD_EAST VILLAGE</th>\n",
       "      <th>NEIGHBORHOOD_FASHION</th>\n",
       "      <th>NEIGHBORHOOD_FINANCIAL</th>\n",
       "      <th>NEIGHBORHOOD_FLATIRON</th>\n",
       "      <th>NEIGHBORHOOD_GRAMERCY</th>\n",
       "      <th>NEIGHBORHOOD_GREENWICH VILLAGE-CENTRAL</th>\n",
       "      <th>NEIGHBORHOOD_GREENWICH VILLAGE-WEST</th>\n",
       "      <th>NEIGHBORHOOD_HARLEM-CENTRAL</th>\n",
       "      <th>NEIGHBORHOOD_HARLEM-EAST</th>\n",
       "      <th>NEIGHBORHOOD_HARLEM-UPPER</th>\n",
       "      <th>NEIGHBORHOOD_HARLEM-WEST</th>\n",
       "      <th>NEIGHBORHOOD_INWOOD</th>\n",
       "      <th>NEIGHBORHOOD_JAVITS CENTER</th>\n",
       "      <th>NEIGHBORHOOD_KIPS BAY</th>\n",
       "      <th>NEIGHBORHOOD_LITTLE ITALY</th>\n",
       "      <th>NEIGHBORHOOD_LOWER EAST SIDE</th>\n",
       "      <th>NEIGHBORHOOD_MANHATTAN VALLEY</th>\n",
       "      <th>NEIGHBORHOOD_MIDTOWN CBD</th>\n",
       "      <th>NEIGHBORHOOD_MIDTOWN EAST</th>\n",
       "      <th>NEIGHBORHOOD_MIDTOWN WEST</th>\n",
       "      <th>NEIGHBORHOOD_MURRAY HILL</th>\n",
       "      <th>NEIGHBORHOOD_ROOSEVELT ISLAND</th>\n",
       "      <th>NEIGHBORHOOD_SOHO</th>\n",
       "      <th>NEIGHBORHOOD_SOUTHBRIDGE</th>\n",
       "      <th>NEIGHBORHOOD_TRIBECA</th>\n",
       "      <th>NEIGHBORHOOD_UPPER EAST SIDE (59-79)</th>\n",
       "      <th>NEIGHBORHOOD_UPPER EAST SIDE (79-96)</th>\n",
       "      <th>NEIGHBORHOOD_UPPER EAST SIDE (96-110)</th>\n",
       "      <th>NEIGHBORHOOD_UPPER WEST SIDE (59-79)</th>\n",
       "      <th>NEIGHBORHOOD_UPPER WEST SIDE (79-96)</th>\n",
       "      <th>NEIGHBORHOOD_UPPER WEST SIDE (96-116)</th>\n",
       "      <th>NEIGHBORHOOD_WASHINGTON HEIGHTS LOWER</th>\n",
       "      <th>NEIGHBORHOOD_WASHINGTON HEIGHTS UPPER</th>\n",
       "      <th>Month_August</th>\n",
       "      <th>Month_December</th>\n",
       "      <th>Month_February</th>\n",
       "      <th>Month_January</th>\n",
       "      <th>Month_July</th>\n",
       "      <th>Month_June</th>\n",
       "      <th>Month_March</th>\n",
       "      <th>Month_May</th>\n",
       "      <th>Month_November</th>\n",
       "      <th>Month_October</th>\n",
       "      <th>Month_September</th>\n",
       "      <th>SALE DATE</th>\n",
       "    </tr>\n",
       "  </thead>\n",
       "  <tbody>\n",
       "    <tr>\n",
       "      <th>4868</th>\n",
       "      <td>10019</td>\n",
       "      <td>1987</td>\n",
       "      <td>2016</td>\n",
       "      <td>11</td>\n",
       "      <td>0</td>\n",
       "      <td>0</td>\n",
       "      <td>0</td>\n",
       "      <td>0</td>\n",
       "      <td>0</td>\n",
       "      <td>0</td>\n",
       "      <td>0</td>\n",
       "      <td>0</td>\n",
       "      <td>0</td>\n",
       "      <td>0</td>\n",
       "      <td>0</td>\n",
       "      <td>0</td>\n",
       "      <td>0</td>\n",
       "      <td>0</td>\n",
       "      <td>0</td>\n",
       "      <td>0</td>\n",
       "      <td>0</td>\n",
       "      <td>0</td>\n",
       "      <td>0</td>\n",
       "      <td>0</td>\n",
       "      <td>0</td>\n",
       "      <td>0</td>\n",
       "      <td>0</td>\n",
       "      <td>1</td>\n",
       "      <td>0</td>\n",
       "      <td>0</td>\n",
       "      <td>0</td>\n",
       "      <td>0</td>\n",
       "      <td>0</td>\n",
       "      <td>0</td>\n",
       "      <td>0</td>\n",
       "      <td>0</td>\n",
       "      <td>0</td>\n",
       "      <td>0</td>\n",
       "      <td>0</td>\n",
       "      <td>0</td>\n",
       "      <td>0</td>\n",
       "      <td>0</td>\n",
       "      <td>0</td>\n",
       "      <td>0</td>\n",
       "      <td>1</td>\n",
       "      <td>0</td>\n",
       "      <td>0</td>\n",
       "      <td>0</td>\n",
       "      <td>0</td>\n",
       "      <td>0</td>\n",
       "      <td>0</td>\n",
       "      <td>0</td>\n",
       "      <td>2016-01-11</td>\n",
       "    </tr>\n",
       "    <tr>\n",
       "      <th>12281</th>\n",
       "      <td>10011</td>\n",
       "      <td>2008</td>\n",
       "      <td>2017</td>\n",
       "      <td>10</td>\n",
       "      <td>1</td>\n",
       "      <td>0</td>\n",
       "      <td>0</td>\n",
       "      <td>0</td>\n",
       "      <td>0</td>\n",
       "      <td>0</td>\n",
       "      <td>0</td>\n",
       "      <td>0</td>\n",
       "      <td>0</td>\n",
       "      <td>0</td>\n",
       "      <td>0</td>\n",
       "      <td>0</td>\n",
       "      <td>0</td>\n",
       "      <td>0</td>\n",
       "      <td>0</td>\n",
       "      <td>0</td>\n",
       "      <td>0</td>\n",
       "      <td>0</td>\n",
       "      <td>0</td>\n",
       "      <td>0</td>\n",
       "      <td>0</td>\n",
       "      <td>0</td>\n",
       "      <td>0</td>\n",
       "      <td>0</td>\n",
       "      <td>0</td>\n",
       "      <td>0</td>\n",
       "      <td>0</td>\n",
       "      <td>0</td>\n",
       "      <td>0</td>\n",
       "      <td>0</td>\n",
       "      <td>0</td>\n",
       "      <td>0</td>\n",
       "      <td>0</td>\n",
       "      <td>0</td>\n",
       "      <td>0</td>\n",
       "      <td>0</td>\n",
       "      <td>0</td>\n",
       "      <td>0</td>\n",
       "      <td>0</td>\n",
       "      <td>0</td>\n",
       "      <td>0</td>\n",
       "      <td>0</td>\n",
       "      <td>0</td>\n",
       "      <td>0</td>\n",
       "      <td>0</td>\n",
       "      <td>0</td>\n",
       "      <td>0</td>\n",
       "      <td>0</td>\n",
       "      <td>2017-04-10</td>\n",
       "    </tr>\n",
       "    <tr>\n",
       "      <th>7744</th>\n",
       "      <td>10011</td>\n",
       "      <td>1930</td>\n",
       "      <td>2016</td>\n",
       "      <td>16</td>\n",
       "      <td>1</td>\n",
       "      <td>0</td>\n",
       "      <td>0</td>\n",
       "      <td>0</td>\n",
       "      <td>0</td>\n",
       "      <td>0</td>\n",
       "      <td>0</td>\n",
       "      <td>0</td>\n",
       "      <td>0</td>\n",
       "      <td>0</td>\n",
       "      <td>0</td>\n",
       "      <td>0</td>\n",
       "      <td>0</td>\n",
       "      <td>0</td>\n",
       "      <td>0</td>\n",
       "      <td>0</td>\n",
       "      <td>0</td>\n",
       "      <td>0</td>\n",
       "      <td>0</td>\n",
       "      <td>0</td>\n",
       "      <td>0</td>\n",
       "      <td>0</td>\n",
       "      <td>0</td>\n",
       "      <td>0</td>\n",
       "      <td>0</td>\n",
       "      <td>0</td>\n",
       "      <td>0</td>\n",
       "      <td>0</td>\n",
       "      <td>0</td>\n",
       "      <td>0</td>\n",
       "      <td>0</td>\n",
       "      <td>0</td>\n",
       "      <td>0</td>\n",
       "      <td>0</td>\n",
       "      <td>0</td>\n",
       "      <td>0</td>\n",
       "      <td>0</td>\n",
       "      <td>0</td>\n",
       "      <td>0</td>\n",
       "      <td>0</td>\n",
       "      <td>0</td>\n",
       "      <td>0</td>\n",
       "      <td>1</td>\n",
       "      <td>0</td>\n",
       "      <td>0</td>\n",
       "      <td>0</td>\n",
       "      <td>0</td>\n",
       "      <td>0</td>\n",
       "      <td>2016-06-16</td>\n",
       "    </tr>\n",
       "    <tr>\n",
       "      <th>24205</th>\n",
       "      <td>10023</td>\n",
       "      <td>1983</td>\n",
       "      <td>2020</td>\n",
       "      <td>27</td>\n",
       "      <td>0</td>\n",
       "      <td>0</td>\n",
       "      <td>0</td>\n",
       "      <td>0</td>\n",
       "      <td>0</td>\n",
       "      <td>0</td>\n",
       "      <td>0</td>\n",
       "      <td>0</td>\n",
       "      <td>0</td>\n",
       "      <td>0</td>\n",
       "      <td>0</td>\n",
       "      <td>0</td>\n",
       "      <td>0</td>\n",
       "      <td>0</td>\n",
       "      <td>0</td>\n",
       "      <td>0</td>\n",
       "      <td>0</td>\n",
       "      <td>0</td>\n",
       "      <td>0</td>\n",
       "      <td>0</td>\n",
       "      <td>0</td>\n",
       "      <td>0</td>\n",
       "      <td>0</td>\n",
       "      <td>0</td>\n",
       "      <td>0</td>\n",
       "      <td>0</td>\n",
       "      <td>0</td>\n",
       "      <td>0</td>\n",
       "      <td>0</td>\n",
       "      <td>0</td>\n",
       "      <td>0</td>\n",
       "      <td>0</td>\n",
       "      <td>1</td>\n",
       "      <td>0</td>\n",
       "      <td>0</td>\n",
       "      <td>0</td>\n",
       "      <td>0</td>\n",
       "      <td>0</td>\n",
       "      <td>0</td>\n",
       "      <td>1</td>\n",
       "      <td>0</td>\n",
       "      <td>0</td>\n",
       "      <td>0</td>\n",
       "      <td>0</td>\n",
       "      <td>0</td>\n",
       "      <td>0</td>\n",
       "      <td>0</td>\n",
       "      <td>0</td>\n",
       "      <td>2020-02-27</td>\n",
       "    </tr>\n",
       "    <tr>\n",
       "      <th>6938</th>\n",
       "      <td>10002</td>\n",
       "      <td>2010</td>\n",
       "      <td>2016</td>\n",
       "      <td>4</td>\n",
       "      <td>0</td>\n",
       "      <td>0</td>\n",
       "      <td>0</td>\n",
       "      <td>0</td>\n",
       "      <td>0</td>\n",
       "      <td>0</td>\n",
       "      <td>0</td>\n",
       "      <td>0</td>\n",
       "      <td>0</td>\n",
       "      <td>0</td>\n",
       "      <td>0</td>\n",
       "      <td>0</td>\n",
       "      <td>0</td>\n",
       "      <td>0</td>\n",
       "      <td>0</td>\n",
       "      <td>0</td>\n",
       "      <td>0</td>\n",
       "      <td>0</td>\n",
       "      <td>0</td>\n",
       "      <td>1</td>\n",
       "      <td>0</td>\n",
       "      <td>0</td>\n",
       "      <td>0</td>\n",
       "      <td>0</td>\n",
       "      <td>0</td>\n",
       "      <td>0</td>\n",
       "      <td>0</td>\n",
       "      <td>0</td>\n",
       "      <td>0</td>\n",
       "      <td>0</td>\n",
       "      <td>0</td>\n",
       "      <td>0</td>\n",
       "      <td>0</td>\n",
       "      <td>0</td>\n",
       "      <td>0</td>\n",
       "      <td>0</td>\n",
       "      <td>0</td>\n",
       "      <td>0</td>\n",
       "      <td>0</td>\n",
       "      <td>0</td>\n",
       "      <td>0</td>\n",
       "      <td>0</td>\n",
       "      <td>0</td>\n",
       "      <td>0</td>\n",
       "      <td>1</td>\n",
       "      <td>0</td>\n",
       "      <td>0</td>\n",
       "      <td>0</td>\n",
       "      <td>2016-05-04</td>\n",
       "    </tr>\n",
       "    <tr>\n",
       "      <th>...</th>\n",
       "      <td>...</td>\n",
       "      <td>...</td>\n",
       "      <td>...</td>\n",
       "      <td>...</td>\n",
       "      <td>...</td>\n",
       "      <td>...</td>\n",
       "      <td>...</td>\n",
       "      <td>...</td>\n",
       "      <td>...</td>\n",
       "      <td>...</td>\n",
       "      <td>...</td>\n",
       "      <td>...</td>\n",
       "      <td>...</td>\n",
       "      <td>...</td>\n",
       "      <td>...</td>\n",
       "      <td>...</td>\n",
       "      <td>...</td>\n",
       "      <td>...</td>\n",
       "      <td>...</td>\n",
       "      <td>...</td>\n",
       "      <td>...</td>\n",
       "      <td>...</td>\n",
       "      <td>...</td>\n",
       "      <td>...</td>\n",
       "      <td>...</td>\n",
       "      <td>...</td>\n",
       "      <td>...</td>\n",
       "      <td>...</td>\n",
       "      <td>...</td>\n",
       "      <td>...</td>\n",
       "      <td>...</td>\n",
       "      <td>...</td>\n",
       "      <td>...</td>\n",
       "      <td>...</td>\n",
       "      <td>...</td>\n",
       "      <td>...</td>\n",
       "      <td>...</td>\n",
       "      <td>...</td>\n",
       "      <td>...</td>\n",
       "      <td>...</td>\n",
       "      <td>...</td>\n",
       "      <td>...</td>\n",
       "      <td>...</td>\n",
       "      <td>...</td>\n",
       "      <td>...</td>\n",
       "      <td>...</td>\n",
       "      <td>...</td>\n",
       "      <td>...</td>\n",
       "      <td>...</td>\n",
       "      <td>...</td>\n",
       "      <td>...</td>\n",
       "      <td>...</td>\n",
       "      <td>...</td>\n",
       "    </tr>\n",
       "    <tr>\n",
       "      <th>15557</th>\n",
       "      <td>10036</td>\n",
       "      <td>2005</td>\n",
       "      <td>2017</td>\n",
       "      <td>31</td>\n",
       "      <td>0</td>\n",
       "      <td>0</td>\n",
       "      <td>0</td>\n",
       "      <td>1</td>\n",
       "      <td>0</td>\n",
       "      <td>0</td>\n",
       "      <td>0</td>\n",
       "      <td>0</td>\n",
       "      <td>0</td>\n",
       "      <td>0</td>\n",
       "      <td>0</td>\n",
       "      <td>0</td>\n",
       "      <td>0</td>\n",
       "      <td>0</td>\n",
       "      <td>0</td>\n",
       "      <td>0</td>\n",
       "      <td>0</td>\n",
       "      <td>0</td>\n",
       "      <td>0</td>\n",
       "      <td>0</td>\n",
       "      <td>0</td>\n",
       "      <td>0</td>\n",
       "      <td>0</td>\n",
       "      <td>0</td>\n",
       "      <td>0</td>\n",
       "      <td>0</td>\n",
       "      <td>0</td>\n",
       "      <td>0</td>\n",
       "      <td>0</td>\n",
       "      <td>0</td>\n",
       "      <td>0</td>\n",
       "      <td>0</td>\n",
       "      <td>0</td>\n",
       "      <td>0</td>\n",
       "      <td>0</td>\n",
       "      <td>0</td>\n",
       "      <td>0</td>\n",
       "      <td>0</td>\n",
       "      <td>0</td>\n",
       "      <td>0</td>\n",
       "      <td>0</td>\n",
       "      <td>0</td>\n",
       "      <td>0</td>\n",
       "      <td>0</td>\n",
       "      <td>0</td>\n",
       "      <td>0</td>\n",
       "      <td>1</td>\n",
       "      <td>0</td>\n",
       "      <td>2017-10-31</td>\n",
       "    </tr>\n",
       "    <tr>\n",
       "      <th>23419</th>\n",
       "      <td>10012</td>\n",
       "      <td>2004</td>\n",
       "      <td>2020</td>\n",
       "      <td>4</td>\n",
       "      <td>0</td>\n",
       "      <td>0</td>\n",
       "      <td>0</td>\n",
       "      <td>0</td>\n",
       "      <td>0</td>\n",
       "      <td>0</td>\n",
       "      <td>0</td>\n",
       "      <td>0</td>\n",
       "      <td>0</td>\n",
       "      <td>0</td>\n",
       "      <td>0</td>\n",
       "      <td>0</td>\n",
       "      <td>0</td>\n",
       "      <td>0</td>\n",
       "      <td>0</td>\n",
       "      <td>0</td>\n",
       "      <td>0</td>\n",
       "      <td>0</td>\n",
       "      <td>0</td>\n",
       "      <td>0</td>\n",
       "      <td>0</td>\n",
       "      <td>0</td>\n",
       "      <td>0</td>\n",
       "      <td>0</td>\n",
       "      <td>0</td>\n",
       "      <td>0</td>\n",
       "      <td>1</td>\n",
       "      <td>0</td>\n",
       "      <td>0</td>\n",
       "      <td>0</td>\n",
       "      <td>0</td>\n",
       "      <td>0</td>\n",
       "      <td>0</td>\n",
       "      <td>0</td>\n",
       "      <td>0</td>\n",
       "      <td>0</td>\n",
       "      <td>0</td>\n",
       "      <td>0</td>\n",
       "      <td>1</td>\n",
       "      <td>0</td>\n",
       "      <td>0</td>\n",
       "      <td>0</td>\n",
       "      <td>0</td>\n",
       "      <td>0</td>\n",
       "      <td>0</td>\n",
       "      <td>0</td>\n",
       "      <td>0</td>\n",
       "      <td>0</td>\n",
       "      <td>2020-12-04</td>\n",
       "    </tr>\n",
       "    <tr>\n",
       "      <th>11419</th>\n",
       "      <td>10013</td>\n",
       "      <td>1915</td>\n",
       "      <td>2017</td>\n",
       "      <td>14</td>\n",
       "      <td>0</td>\n",
       "      <td>0</td>\n",
       "      <td>0</td>\n",
       "      <td>0</td>\n",
       "      <td>0</td>\n",
       "      <td>0</td>\n",
       "      <td>0</td>\n",
       "      <td>0</td>\n",
       "      <td>0</td>\n",
       "      <td>0</td>\n",
       "      <td>0</td>\n",
       "      <td>0</td>\n",
       "      <td>0</td>\n",
       "      <td>0</td>\n",
       "      <td>0</td>\n",
       "      <td>0</td>\n",
       "      <td>0</td>\n",
       "      <td>0</td>\n",
       "      <td>0</td>\n",
       "      <td>0</td>\n",
       "      <td>0</td>\n",
       "      <td>0</td>\n",
       "      <td>0</td>\n",
       "      <td>0</td>\n",
       "      <td>0</td>\n",
       "      <td>0</td>\n",
       "      <td>0</td>\n",
       "      <td>0</td>\n",
       "      <td>1</td>\n",
       "      <td>0</td>\n",
       "      <td>0</td>\n",
       "      <td>0</td>\n",
       "      <td>0</td>\n",
       "      <td>0</td>\n",
       "      <td>0</td>\n",
       "      <td>0</td>\n",
       "      <td>0</td>\n",
       "      <td>0</td>\n",
       "      <td>0</td>\n",
       "      <td>1</td>\n",
       "      <td>0</td>\n",
       "      <td>0</td>\n",
       "      <td>0</td>\n",
       "      <td>0</td>\n",
       "      <td>0</td>\n",
       "      <td>0</td>\n",
       "      <td>0</td>\n",
       "      <td>0</td>\n",
       "      <td>2017-02-14</td>\n",
       "    </tr>\n",
       "    <tr>\n",
       "      <th>12597</th>\n",
       "      <td>10005</td>\n",
       "      <td>1987</td>\n",
       "      <td>2017</td>\n",
       "      <td>28</td>\n",
       "      <td>0</td>\n",
       "      <td>0</td>\n",
       "      <td>0</td>\n",
       "      <td>0</td>\n",
       "      <td>0</td>\n",
       "      <td>0</td>\n",
       "      <td>1</td>\n",
       "      <td>0</td>\n",
       "      <td>0</td>\n",
       "      <td>0</td>\n",
       "      <td>0</td>\n",
       "      <td>0</td>\n",
       "      <td>0</td>\n",
       "      <td>0</td>\n",
       "      <td>0</td>\n",
       "      <td>0</td>\n",
       "      <td>0</td>\n",
       "      <td>0</td>\n",
       "      <td>0</td>\n",
       "      <td>0</td>\n",
       "      <td>0</td>\n",
       "      <td>0</td>\n",
       "      <td>0</td>\n",
       "      <td>0</td>\n",
       "      <td>0</td>\n",
       "      <td>0</td>\n",
       "      <td>0</td>\n",
       "      <td>0</td>\n",
       "      <td>0</td>\n",
       "      <td>0</td>\n",
       "      <td>0</td>\n",
       "      <td>0</td>\n",
       "      <td>0</td>\n",
       "      <td>0</td>\n",
       "      <td>0</td>\n",
       "      <td>0</td>\n",
       "      <td>0</td>\n",
       "      <td>0</td>\n",
       "      <td>0</td>\n",
       "      <td>0</td>\n",
       "      <td>0</td>\n",
       "      <td>0</td>\n",
       "      <td>0</td>\n",
       "      <td>0</td>\n",
       "      <td>0</td>\n",
       "      <td>0</td>\n",
       "      <td>0</td>\n",
       "      <td>0</td>\n",
       "      <td>2017-04-28</td>\n",
       "    </tr>\n",
       "    <tr>\n",
       "      <th>2815</th>\n",
       "      <td>10013</td>\n",
       "      <td>2016</td>\n",
       "      <td>2019</td>\n",
       "      <td>27</td>\n",
       "      <td>0</td>\n",
       "      <td>0</td>\n",
       "      <td>0</td>\n",
       "      <td>0</td>\n",
       "      <td>0</td>\n",
       "      <td>0</td>\n",
       "      <td>0</td>\n",
       "      <td>0</td>\n",
       "      <td>0</td>\n",
       "      <td>0</td>\n",
       "      <td>0</td>\n",
       "      <td>0</td>\n",
       "      <td>0</td>\n",
       "      <td>0</td>\n",
       "      <td>0</td>\n",
       "      <td>0</td>\n",
       "      <td>0</td>\n",
       "      <td>0</td>\n",
       "      <td>0</td>\n",
       "      <td>0</td>\n",
       "      <td>0</td>\n",
       "      <td>0</td>\n",
       "      <td>0</td>\n",
       "      <td>0</td>\n",
       "      <td>0</td>\n",
       "      <td>0</td>\n",
       "      <td>1</td>\n",
       "      <td>0</td>\n",
       "      <td>0</td>\n",
       "      <td>0</td>\n",
       "      <td>0</td>\n",
       "      <td>0</td>\n",
       "      <td>0</td>\n",
       "      <td>0</td>\n",
       "      <td>0</td>\n",
       "      <td>0</td>\n",
       "      <td>0</td>\n",
       "      <td>0</td>\n",
       "      <td>0</td>\n",
       "      <td>0</td>\n",
       "      <td>0</td>\n",
       "      <td>0</td>\n",
       "      <td>1</td>\n",
       "      <td>0</td>\n",
       "      <td>0</td>\n",
       "      <td>0</td>\n",
       "      <td>0</td>\n",
       "      <td>0</td>\n",
       "      <td>2019-06-27</td>\n",
       "    </tr>\n",
       "  </tbody>\n",
       "</table>\n",
       "<p>14586 rows × 53 columns</p>\n",
       "</div>"
      ],
      "text/plain": [
       "       ZIP CODE  YEAR BUILT  Year  Day  NEIGHBORHOOD_CHELSEA  \\\n",
       "4868      10019        1987  2016   11                     0   \n",
       "12281     10011        2008  2017   10                     1   \n",
       "7744      10011        1930  2016   16                     1   \n",
       "24205     10023        1983  2020   27                     0   \n",
       "6938      10002        2010  2016    4                     0   \n",
       "...         ...         ...   ...  ...                   ...   \n",
       "15557     10036        2005  2017   31                     0   \n",
       "23419     10012        2004  2020    4                     0   \n",
       "11419     10013        1915  2017   14                     0   \n",
       "12597     10005        1987  2017   28                     0   \n",
       "2815      10013        2016  2019   27                     0   \n",
       "\n",
       "       NEIGHBORHOOD_CHINATOWN  NEIGHBORHOOD_CIVIC CENTER  \\\n",
       "4868                        0                          0   \n",
       "12281                       0                          0   \n",
       "7744                        0                          0   \n",
       "24205                       0                          0   \n",
       "6938                        0                          0   \n",
       "...                       ...                        ...   \n",
       "15557                       0                          0   \n",
       "23419                       0                          0   \n",
       "11419                       0                          0   \n",
       "12597                       0                          0   \n",
       "2815                        0                          0   \n",
       "\n",
       "       NEIGHBORHOOD_CLINTON  NEIGHBORHOOD_EAST VILLAGE  NEIGHBORHOOD_FASHION  \\\n",
       "4868                      0                          0                     0   \n",
       "12281                     0                          0                     0   \n",
       "7744                      0                          0                     0   \n",
       "24205                     0                          0                     0   \n",
       "6938                      0                          0                     0   \n",
       "...                     ...                        ...                   ...   \n",
       "15557                     1                          0                     0   \n",
       "23419                     0                          0                     0   \n",
       "11419                     0                          0                     0   \n",
       "12597                     0                          0                     0   \n",
       "2815                      0                          0                     0   \n",
       "\n",
       "       NEIGHBORHOOD_FINANCIAL  NEIGHBORHOOD_FLATIRON  NEIGHBORHOOD_GRAMERCY  \\\n",
       "4868                        0                      0                      0   \n",
       "12281                       0                      0                      0   \n",
       "7744                        0                      0                      0   \n",
       "24205                       0                      0                      0   \n",
       "6938                        0                      0                      0   \n",
       "...                       ...                    ...                    ...   \n",
       "15557                       0                      0                      0   \n",
       "23419                       0                      0                      0   \n",
       "11419                       0                      0                      0   \n",
       "12597                       1                      0                      0   \n",
       "2815                        0                      0                      0   \n",
       "\n",
       "       NEIGHBORHOOD_GREENWICH VILLAGE-CENTRAL  \\\n",
       "4868                                        0   \n",
       "12281                                       0   \n",
       "7744                                        0   \n",
       "24205                                       0   \n",
       "6938                                        0   \n",
       "...                                       ...   \n",
       "15557                                       0   \n",
       "23419                                       0   \n",
       "11419                                       0   \n",
       "12597                                       0   \n",
       "2815                                        0   \n",
       "\n",
       "       NEIGHBORHOOD_GREENWICH VILLAGE-WEST  NEIGHBORHOOD_HARLEM-CENTRAL  \\\n",
       "4868                                     0                            0   \n",
       "12281                                    0                            0   \n",
       "7744                                     0                            0   \n",
       "24205                                    0                            0   \n",
       "6938                                     0                            0   \n",
       "...                                    ...                          ...   \n",
       "15557                                    0                            0   \n",
       "23419                                    0                            0   \n",
       "11419                                    0                            0   \n",
       "12597                                    0                            0   \n",
       "2815                                     0                            0   \n",
       "\n",
       "       NEIGHBORHOOD_HARLEM-EAST  NEIGHBORHOOD_HARLEM-UPPER  \\\n",
       "4868                          0                          0   \n",
       "12281                         0                          0   \n",
       "7744                          0                          0   \n",
       "24205                         0                          0   \n",
       "6938                          0                          0   \n",
       "...                         ...                        ...   \n",
       "15557                         0                          0   \n",
       "23419                         0                          0   \n",
       "11419                         0                          0   \n",
       "12597                         0                          0   \n",
       "2815                          0                          0   \n",
       "\n",
       "       NEIGHBORHOOD_HARLEM-WEST  NEIGHBORHOOD_INWOOD  \\\n",
       "4868                          0                    0   \n",
       "12281                         0                    0   \n",
       "7744                          0                    0   \n",
       "24205                         0                    0   \n",
       "6938                          0                    0   \n",
       "...                         ...                  ...   \n",
       "15557                         0                    0   \n",
       "23419                         0                    0   \n",
       "11419                         0                    0   \n",
       "12597                         0                    0   \n",
       "2815                          0                    0   \n",
       "\n",
       "       NEIGHBORHOOD_JAVITS CENTER  NEIGHBORHOOD_KIPS BAY  \\\n",
       "4868                            0                      0   \n",
       "12281                           0                      0   \n",
       "7744                            0                      0   \n",
       "24205                           0                      0   \n",
       "6938                            0                      0   \n",
       "...                           ...                    ...   \n",
       "15557                           0                      0   \n",
       "23419                           0                      0   \n",
       "11419                           0                      0   \n",
       "12597                           0                      0   \n",
       "2815                            0                      0   \n",
       "\n",
       "       NEIGHBORHOOD_LITTLE ITALY  NEIGHBORHOOD_LOWER EAST SIDE  \\\n",
       "4868                           0                             0   \n",
       "12281                          0                             0   \n",
       "7744                           0                             0   \n",
       "24205                          0                             0   \n",
       "6938                           0                             1   \n",
       "...                          ...                           ...   \n",
       "15557                          0                             0   \n",
       "23419                          0                             0   \n",
       "11419                          0                             0   \n",
       "12597                          0                             0   \n",
       "2815                           0                             0   \n",
       "\n",
       "       NEIGHBORHOOD_MANHATTAN VALLEY  NEIGHBORHOOD_MIDTOWN CBD  \\\n",
       "4868                               0                         0   \n",
       "12281                              0                         0   \n",
       "7744                               0                         0   \n",
       "24205                              0                         0   \n",
       "6938                               0                         0   \n",
       "...                              ...                       ...   \n",
       "15557                              0                         0   \n",
       "23419                              0                         0   \n",
       "11419                              0                         0   \n",
       "12597                              0                         0   \n",
       "2815                               0                         0   \n",
       "\n",
       "       NEIGHBORHOOD_MIDTOWN EAST  NEIGHBORHOOD_MIDTOWN WEST  \\\n",
       "4868                           0                          1   \n",
       "12281                          0                          0   \n",
       "7744                           0                          0   \n",
       "24205                          0                          0   \n",
       "6938                           0                          0   \n",
       "...                          ...                        ...   \n",
       "15557                          0                          0   \n",
       "23419                          0                          0   \n",
       "11419                          0                          0   \n",
       "12597                          0                          0   \n",
       "2815                           0                          0   \n",
       "\n",
       "       NEIGHBORHOOD_MURRAY HILL  NEIGHBORHOOD_ROOSEVELT ISLAND  \\\n",
       "4868                          0                              0   \n",
       "12281                         0                              0   \n",
       "7744                          0                              0   \n",
       "24205                         0                              0   \n",
       "6938                          0                              0   \n",
       "...                         ...                            ...   \n",
       "15557                         0                              0   \n",
       "23419                         0                              0   \n",
       "11419                         0                              0   \n",
       "12597                         0                              0   \n",
       "2815                          0                              0   \n",
       "\n",
       "       NEIGHBORHOOD_SOHO  NEIGHBORHOOD_SOUTHBRIDGE  NEIGHBORHOOD_TRIBECA  \\\n",
       "4868                   0                         0                     0   \n",
       "12281                  0                         0                     0   \n",
       "7744                   0                         0                     0   \n",
       "24205                  0                         0                     0   \n",
       "6938                   0                         0                     0   \n",
       "...                  ...                       ...                   ...   \n",
       "15557                  0                         0                     0   \n",
       "23419                  1                         0                     0   \n",
       "11419                  0                         0                     1   \n",
       "12597                  0                         0                     0   \n",
       "2815                   1                         0                     0   \n",
       "\n",
       "       NEIGHBORHOOD_UPPER EAST SIDE (59-79)  \\\n",
       "4868                                      0   \n",
       "12281                                     0   \n",
       "7744                                      0   \n",
       "24205                                     0   \n",
       "6938                                      0   \n",
       "...                                     ...   \n",
       "15557                                     0   \n",
       "23419                                     0   \n",
       "11419                                     0   \n",
       "12597                                     0   \n",
       "2815                                      0   \n",
       "\n",
       "       NEIGHBORHOOD_UPPER EAST SIDE (79-96)  \\\n",
       "4868                                      0   \n",
       "12281                                     0   \n",
       "7744                                      0   \n",
       "24205                                     0   \n",
       "6938                                      0   \n",
       "...                                     ...   \n",
       "15557                                     0   \n",
       "23419                                     0   \n",
       "11419                                     0   \n",
       "12597                                     0   \n",
       "2815                                      0   \n",
       "\n",
       "       NEIGHBORHOOD_UPPER EAST SIDE (96-110)  \\\n",
       "4868                                       0   \n",
       "12281                                      0   \n",
       "7744                                       0   \n",
       "24205                                      0   \n",
       "6938                                       0   \n",
       "...                                      ...   \n",
       "15557                                      0   \n",
       "23419                                      0   \n",
       "11419                                      0   \n",
       "12597                                      0   \n",
       "2815                                       0   \n",
       "\n",
       "       NEIGHBORHOOD_UPPER WEST SIDE (59-79)  \\\n",
       "4868                                      0   \n",
       "12281                                     0   \n",
       "7744                                      0   \n",
       "24205                                     1   \n",
       "6938                                      0   \n",
       "...                                     ...   \n",
       "15557                                     0   \n",
       "23419                                     0   \n",
       "11419                                     0   \n",
       "12597                                     0   \n",
       "2815                                      0   \n",
       "\n",
       "       NEIGHBORHOOD_UPPER WEST SIDE (79-96)  \\\n",
       "4868                                      0   \n",
       "12281                                     0   \n",
       "7744                                      0   \n",
       "24205                                     0   \n",
       "6938                                      0   \n",
       "...                                     ...   \n",
       "15557                                     0   \n",
       "23419                                     0   \n",
       "11419                                     0   \n",
       "12597                                     0   \n",
       "2815                                      0   \n",
       "\n",
       "       NEIGHBORHOOD_UPPER WEST SIDE (96-116)  \\\n",
       "4868                                       0   \n",
       "12281                                      0   \n",
       "7744                                       0   \n",
       "24205                                      0   \n",
       "6938                                       0   \n",
       "...                                      ...   \n",
       "15557                                      0   \n",
       "23419                                      0   \n",
       "11419                                      0   \n",
       "12597                                      0   \n",
       "2815                                       0   \n",
       "\n",
       "       NEIGHBORHOOD_WASHINGTON HEIGHTS LOWER  \\\n",
       "4868                                       0   \n",
       "12281                                      0   \n",
       "7744                                       0   \n",
       "24205                                      0   \n",
       "6938                                       0   \n",
       "...                                      ...   \n",
       "15557                                      0   \n",
       "23419                                      0   \n",
       "11419                                      0   \n",
       "12597                                      0   \n",
       "2815                                       0   \n",
       "\n",
       "       NEIGHBORHOOD_WASHINGTON HEIGHTS UPPER  Month_August  Month_December  \\\n",
       "4868                                       0             0               0   \n",
       "12281                                      0             0               0   \n",
       "7744                                       0             0               0   \n",
       "24205                                      0             0               0   \n",
       "6938                                       0             0               0   \n",
       "...                                      ...           ...             ...   \n",
       "15557                                      0             0               0   \n",
       "23419                                      0             0               1   \n",
       "11419                                      0             0               0   \n",
       "12597                                      0             0               0   \n",
       "2815                                       0             0               0   \n",
       "\n",
       "       Month_February  Month_January  Month_July  Month_June  Month_March  \\\n",
       "4868                0              1           0           0            0   \n",
       "12281               0              0           0           0            0   \n",
       "7744                0              0           0           1            0   \n",
       "24205               1              0           0           0            0   \n",
       "6938                0              0           0           0            0   \n",
       "...               ...            ...         ...         ...          ...   \n",
       "15557               0              0           0           0            0   \n",
       "23419               0              0           0           0            0   \n",
       "11419               1              0           0           0            0   \n",
       "12597               0              0           0           0            0   \n",
       "2815                0              0           0           1            0   \n",
       "\n",
       "       Month_May  Month_November  Month_October  Month_September   SALE DATE  \n",
       "4868           0               0              0                0  2016-01-11  \n",
       "12281          0               0              0                0  2017-04-10  \n",
       "7744           0               0              0                0  2016-06-16  \n",
       "24205          0               0              0                0  2020-02-27  \n",
       "6938           1               0              0                0  2016-05-04  \n",
       "...          ...             ...            ...              ...         ...  \n",
       "15557          0               0              1                0  2017-10-31  \n",
       "23419          0               0              0                0  2020-12-04  \n",
       "11419          0               0              0                0  2017-02-14  \n",
       "12597          0               0              0                0  2017-04-28  \n",
       "2815           0               0              0                0  2019-06-27  \n",
       "\n",
       "[14586 rows x 53 columns]"
      ]
     },
     "execution_count": 118,
     "metadata": {},
     "output_type": "execute_result"
    }
   ],
   "source": [
    "x1_train1['SALE DATE']=x1_train['SALE DATE']\n",
    "x1_test1['SALE DATE']=x1_test['SALE DATE']\n",
    "x1_train1"
   ]
  },
  {
   "cell_type": "code",
   "execution_count": 119,
   "metadata": {},
   "outputs": [],
   "source": [
    "xgb_r = xg.XGBRegressor(max_depth=10,\n",
    "                           n_estimators=300,\n",
    "                           min_child_weight=9,\n",
    "                           learning_rate=0.05,\n",
    "                           nthread=8,\n",
    "                           subsample=0.80,\n",
    "                           colsample_bytree=0.8,\n",
    "                           seed=4242\n",
    "                           )"
   ]
  },
  {
   "cell_type": "code",
   "execution_count": 120,
   "metadata": {},
   "outputs": [],
   "source": [
    "x1_train1.drop(columns=['SALE DATE'],inplace=True)\n",
    "x1_test1.drop(columns=['SALE DATE'],inplace=True)"
   ]
  },
  {
   "cell_type": "code",
   "execution_count": 121,
   "metadata": {},
   "outputs": [
    {
     "data": {
      "text/plain": [
       "UPPER EAST SIDE (79-96)      1558\n",
       "UPPER EAST SIDE (59-79)      1380\n",
       "UPPER WEST SIDE (59-79)      1350\n",
       "MIDTOWN WEST                 1337\n",
       "TRIBECA                      1314\n",
       "FINANCIAL                    1118\n",
       "MIDTOWN EAST                 1041\n",
       "HARLEM-CENTRAL                995\n",
       "CHELSEA                       958\n",
       "GREENWICH VILLAGE-WEST        782\n",
       "CIVIC CENTER                  782\n",
       "UPPER WEST SIDE (79-96)       721\n",
       "LOWER EAST SIDE               691\n",
       "FLATIRON                      690\n",
       "CLINTON                       607\n",
       "MURRAY HILL                   593\n",
       "KIPS BAY                      574\n",
       "GRAMERCY                      567\n",
       "SOHO                          507\n",
       "MANHATTAN VALLEY              458\n",
       "GREENWICH VILLAGE-CENTRAL     387\n",
       "MIDTOWN CBD                   348\n",
       "HARLEM-EAST                   331\n",
       "EAST VILLAGE                  244\n",
       "JAVITS CENTER                 198\n",
       "UPPER WEST SIDE (96-116)      194\n",
       "SOUTHBRIDGE                   168\n",
       "FASHION                       154\n",
       "HARLEM-UPPER                  153\n",
       "ALPHABET CITY                 134\n",
       "CHINATOWN                     109\n",
       "LITTLE ITALY                  108\n",
       "WASHINGTON HEIGHTS LOWER       96\n",
       "WASHINGTON HEIGHTS UPPER       88\n",
       "UPPER EAST SIDE (96-110)       34\n",
       "ROOSEVELT ISLAND               34\n",
       "HARLEM-WEST                    23\n",
       "INWOOD                         11\n",
       "MORNINGSIDE HEIGHTS             1\n",
       "Name: NEIGHBORHOOD, dtype: int64"
      ]
     },
     "execution_count": 121,
     "metadata": {},
     "output_type": "execute_result"
    }
   ],
   "source": [
    "x['NEIGHBORHOOD'].value_counts()"
   ]
  },
  {
   "cell_type": "code",
   "execution_count": 122,
   "metadata": {},
   "outputs": [],
   "source": [
    "# It keeps showing error saying the training set is missing \"NEIGHBORHOOD_MORNINGSIDE HEIGHTS\"\n",
    "# we choose to exclude this column since the morningside heights value has only one\n",
    "x1_test1.drop(columns=['NEIGHBORHOOD_MORNINGSIDE HEIGHTS'],inplace=True)"
   ]
  },
  {
   "cell_type": "code",
   "execution_count": 123,
   "metadata": {},
   "outputs": [
    {
     "name": "stdout",
     "output_type": "stream",
     "text": [
      "[0]\tvalidation_0-rmse:13.26625\n",
      "[1]\tvalidation_0-rmse:12.60554\n",
      "[2]\tvalidation_0-rmse:11.97854\n",
      "[3]\tvalidation_0-rmse:11.38223\n",
      "[4]\tvalidation_0-rmse:10.81583\n",
      "[5]\tvalidation_0-rmse:10.27824\n",
      "[6]\tvalidation_0-rmse:9.76745\n",
      "[7]\tvalidation_0-rmse:9.28251\n",
      "[8]\tvalidation_0-rmse:8.82155\n",
      "[9]\tvalidation_0-rmse:8.38460\n",
      "[10]\tvalidation_0-rmse:7.96918\n",
      "[11]\tvalidation_0-rmse:7.57433\n",
      "[12]\tvalidation_0-rmse:7.19954\n",
      "[13]\tvalidation_0-rmse:6.84347\n",
      "[14]\tvalidation_0-rmse:6.50560\n",
      "[15]\tvalidation_0-rmse:6.18456\n",
      "[16]\tvalidation_0-rmse:5.87979\n",
      "[17]\tvalidation_0-rmse:5.59048\n",
      "[18]\tvalidation_0-rmse:5.31552\n",
      "[19]\tvalidation_0-rmse:5.05485\n",
      "[20]\tvalidation_0-rmse:4.80738\n",
      "[21]\tvalidation_0-rmse:4.57222\n",
      "[22]\tvalidation_0-rmse:4.34881\n",
      "[23]\tvalidation_0-rmse:4.13736\n",
      "[24]\tvalidation_0-rmse:3.93616\n",
      "[25]\tvalidation_0-rmse:3.74530\n",
      "[26]\tvalidation_0-rmse:3.56442\n",
      "[27]\tvalidation_0-rmse:3.39268\n",
      "[28]\tvalidation_0-rmse:3.22954\n",
      "[29]\tvalidation_0-rmse:3.07509\n",
      "[30]\tvalidation_0-rmse:2.92869\n",
      "[31]\tvalidation_0-rmse:2.78981\n",
      "[32]\tvalidation_0-rmse:2.65811\n",
      "[33]\tvalidation_0-rmse:2.53332\n",
      "[34]\tvalidation_0-rmse:2.41511\n",
      "[35]\tvalidation_0-rmse:2.30286\n",
      "[36]\tvalidation_0-rmse:2.19646\n",
      "[37]\tvalidation_0-rmse:2.09638\n",
      "[38]\tvalidation_0-rmse:2.00092\n",
      "[39]\tvalidation_0-rmse:1.91107\n",
      "[40]\tvalidation_0-rmse:1.82636\n",
      "[41]\tvalidation_0-rmse:1.74525\n",
      "[42]\tvalidation_0-rmse:1.66950\n",
      "[43]\tvalidation_0-rmse:1.59724\n",
      "[44]\tvalidation_0-rmse:1.52957\n",
      "[45]\tvalidation_0-rmse:1.46555\n",
      "[46]\tvalidation_0-rmse:1.40591\n",
      "[47]\tvalidation_0-rmse:1.34882\n",
      "[48]\tvalidation_0-rmse:1.29467\n",
      "[49]\tvalidation_0-rmse:1.24419\n",
      "[50]\tvalidation_0-rmse:1.19689\n",
      "[51]\tvalidation_0-rmse:1.15270\n",
      "[52]\tvalidation_0-rmse:1.11163\n",
      "[53]\tvalidation_0-rmse:1.07197\n",
      "[54]\tvalidation_0-rmse:1.03569\n",
      "[55]\tvalidation_0-rmse:1.00101\n",
      "[56]\tvalidation_0-rmse:0.96884\n",
      "[57]\tvalidation_0-rmse:0.93887\n",
      "[58]\tvalidation_0-rmse:0.91071\n",
      "[59]\tvalidation_0-rmse:0.88436\n",
      "[60]\tvalidation_0-rmse:0.85971\n",
      "[61]\tvalidation_0-rmse:0.83675\n",
      "[62]\tvalidation_0-rmse:0.81557\n",
      "[63]\tvalidation_0-rmse:0.79566\n",
      "[64]\tvalidation_0-rmse:0.77767\n",
      "[65]\tvalidation_0-rmse:0.76055\n",
      "[66]\tvalidation_0-rmse:0.74425\n",
      "[67]\tvalidation_0-rmse:0.73004\n",
      "[68]\tvalidation_0-rmse:0.71666\n",
      "[69]\tvalidation_0-rmse:0.70409\n",
      "[70]\tvalidation_0-rmse:0.69231\n",
      "[71]\tvalidation_0-rmse:0.68161\n",
      "[72]\tvalidation_0-rmse:0.67199\n",
      "[73]\tvalidation_0-rmse:0.66329\n",
      "[74]\tvalidation_0-rmse:0.65539\n",
      "[75]\tvalidation_0-rmse:0.64757\n",
      "[76]\tvalidation_0-rmse:0.64019\n",
      "[77]\tvalidation_0-rmse:0.63339\n",
      "[78]\tvalidation_0-rmse:0.62773\n",
      "[79]\tvalidation_0-rmse:0.62234\n",
      "[80]\tvalidation_0-rmse:0.61767\n",
      "[81]\tvalidation_0-rmse:0.61338\n",
      "[82]\tvalidation_0-rmse:0.60931\n",
      "[83]\tvalidation_0-rmse:0.60547\n",
      "[84]\tvalidation_0-rmse:0.60173\n",
      "[85]\tvalidation_0-rmse:0.59851\n",
      "[86]\tvalidation_0-rmse:0.59561\n",
      "[87]\tvalidation_0-rmse:0.59279\n",
      "[88]\tvalidation_0-rmse:0.59044\n",
      "[89]\tvalidation_0-rmse:0.58805\n",
      "[90]\tvalidation_0-rmse:0.58609\n",
      "[91]\tvalidation_0-rmse:0.58436\n",
      "[92]\tvalidation_0-rmse:0.58240\n",
      "[93]\tvalidation_0-rmse:0.58085\n",
      "[94]\tvalidation_0-rmse:0.57897\n",
      "[95]\tvalidation_0-rmse:0.57758\n",
      "[96]\tvalidation_0-rmse:0.57609\n",
      "[97]\tvalidation_0-rmse:0.57469\n",
      "[98]\tvalidation_0-rmse:0.57334\n",
      "[99]\tvalidation_0-rmse:0.57227\n",
      "[100]\tvalidation_0-rmse:0.57117\n",
      "[101]\tvalidation_0-rmse:0.57033\n",
      "[102]\tvalidation_0-rmse:0.56943\n",
      "[103]\tvalidation_0-rmse:0.56868\n",
      "[104]\tvalidation_0-rmse:0.56811\n",
      "[105]\tvalidation_0-rmse:0.56722\n",
      "[106]\tvalidation_0-rmse:0.56674\n",
      "[107]\tvalidation_0-rmse:0.56609\n",
      "[108]\tvalidation_0-rmse:0.56542\n",
      "[109]\tvalidation_0-rmse:0.56468\n",
      "[110]\tvalidation_0-rmse:0.56383\n",
      "[111]\tvalidation_0-rmse:0.56281\n",
      "[112]\tvalidation_0-rmse:0.56234\n",
      "[113]\tvalidation_0-rmse:0.56189\n",
      "[114]\tvalidation_0-rmse:0.56102\n",
      "[115]\tvalidation_0-rmse:0.56052\n",
      "[116]\tvalidation_0-rmse:0.56000\n",
      "[117]\tvalidation_0-rmse:0.55969\n",
      "[118]\tvalidation_0-rmse:0.55897\n",
      "[119]\tvalidation_0-rmse:0.55854\n",
      "[120]\tvalidation_0-rmse:0.55823\n",
      "[121]\tvalidation_0-rmse:0.55798\n",
      "[122]\tvalidation_0-rmse:0.55772\n",
      "[123]\tvalidation_0-rmse:0.55770\n",
      "[124]\tvalidation_0-rmse:0.55749\n",
      "[125]\tvalidation_0-rmse:0.55725\n",
      "[126]\tvalidation_0-rmse:0.55700\n",
      "[127]\tvalidation_0-rmse:0.55667\n",
      "[128]\tvalidation_0-rmse:0.55654\n",
      "[129]\tvalidation_0-rmse:0.55633\n",
      "[130]\tvalidation_0-rmse:0.55630\n",
      "[131]\tvalidation_0-rmse:0.55587\n",
      "[132]\tvalidation_0-rmse:0.55561\n",
      "[133]\tvalidation_0-rmse:0.55537\n",
      "[134]\tvalidation_0-rmse:0.55510\n",
      "[135]\tvalidation_0-rmse:0.55456\n",
      "[136]\tvalidation_0-rmse:0.55422\n",
      "[137]\tvalidation_0-rmse:0.55407\n",
      "[138]\tvalidation_0-rmse:0.55399\n",
      "[139]\tvalidation_0-rmse:0.55402\n",
      "[140]\tvalidation_0-rmse:0.55387\n",
      "[141]\tvalidation_0-rmse:0.55336\n",
      "[142]\tvalidation_0-rmse:0.55341\n",
      "[143]\tvalidation_0-rmse:0.55287\n",
      "[144]\tvalidation_0-rmse:0.55262\n",
      "[145]\tvalidation_0-rmse:0.55266\n",
      "[146]\tvalidation_0-rmse:0.55246\n",
      "[147]\tvalidation_0-rmse:0.55231\n",
      "[148]\tvalidation_0-rmse:0.55215\n",
      "[149]\tvalidation_0-rmse:0.55208\n",
      "[150]\tvalidation_0-rmse:0.55199\n",
      "[151]\tvalidation_0-rmse:0.55180\n",
      "[152]\tvalidation_0-rmse:0.55155\n",
      "[153]\tvalidation_0-rmse:0.55157\n",
      "[154]\tvalidation_0-rmse:0.55151\n",
      "[155]\tvalidation_0-rmse:0.55096\n",
      "[156]\tvalidation_0-rmse:0.55075\n",
      "[157]\tvalidation_0-rmse:0.55054\n",
      "[158]\tvalidation_0-rmse:0.55035\n",
      "[159]\tvalidation_0-rmse:0.55012\n",
      "[160]\tvalidation_0-rmse:0.54998\n",
      "[161]\tvalidation_0-rmse:0.54947\n",
      "[162]\tvalidation_0-rmse:0.54934\n",
      "[163]\tvalidation_0-rmse:0.54920\n",
      "[164]\tvalidation_0-rmse:0.54904\n",
      "[165]\tvalidation_0-rmse:0.54901\n",
      "[166]\tvalidation_0-rmse:0.54902\n",
      "[167]\tvalidation_0-rmse:0.54903\n",
      "[168]\tvalidation_0-rmse:0.54889\n",
      "[169]\tvalidation_0-rmse:0.54879\n",
      "[170]\tvalidation_0-rmse:0.54876\n",
      "[171]\tvalidation_0-rmse:0.54849\n",
      "[172]\tvalidation_0-rmse:0.54828\n",
      "[173]\tvalidation_0-rmse:0.54822\n",
      "[174]\tvalidation_0-rmse:0.54827\n",
      "[175]\tvalidation_0-rmse:0.54827\n",
      "[176]\tvalidation_0-rmse:0.54811\n",
      "[177]\tvalidation_0-rmse:0.54813\n",
      "[178]\tvalidation_0-rmse:0.54818\n",
      "[179]\tvalidation_0-rmse:0.54804\n",
      "[180]\tvalidation_0-rmse:0.54798\n",
      "[181]\tvalidation_0-rmse:0.54797\n",
      "[182]\tvalidation_0-rmse:0.54788\n",
      "[183]\tvalidation_0-rmse:0.54766\n",
      "[184]\tvalidation_0-rmse:0.54768\n",
      "[185]\tvalidation_0-rmse:0.54759\n",
      "[186]\tvalidation_0-rmse:0.54750\n",
      "[187]\tvalidation_0-rmse:0.54753\n",
      "[188]\tvalidation_0-rmse:0.54744\n",
      "[189]\tvalidation_0-rmse:0.54738\n",
      "[190]\tvalidation_0-rmse:0.54725\n",
      "[191]\tvalidation_0-rmse:0.54720\n",
      "[192]\tvalidation_0-rmse:0.54712\n",
      "[193]\tvalidation_0-rmse:0.54705\n",
      "[194]\tvalidation_0-rmse:0.54712\n",
      "[195]\tvalidation_0-rmse:0.54716\n",
      "[196]\tvalidation_0-rmse:0.54714\n",
      "[197]\tvalidation_0-rmse:0.54718\n",
      "[198]\tvalidation_0-rmse:0.54706\n",
      "[199]\tvalidation_0-rmse:0.54704\n",
      "[200]\tvalidation_0-rmse:0.54712\n",
      "[201]\tvalidation_0-rmse:0.54714\n",
      "[202]\tvalidation_0-rmse:0.54709\n",
      "[203]\tvalidation_0-rmse:0.54707\n",
      "[204]\tvalidation_0-rmse:0.54692\n",
      "[205]\tvalidation_0-rmse:0.54688\n",
      "[206]\tvalidation_0-rmse:0.54688\n",
      "[207]\tvalidation_0-rmse:0.54692\n",
      "[208]\tvalidation_0-rmse:0.54689\n",
      "[209]\tvalidation_0-rmse:0.54685\n",
      "[210]\tvalidation_0-rmse:0.54682\n",
      "[211]\tvalidation_0-rmse:0.54665\n",
      "[212]\tvalidation_0-rmse:0.54669\n",
      "[213]\tvalidation_0-rmse:0.54668\n",
      "[214]\tvalidation_0-rmse:0.54673\n",
      "[215]\tvalidation_0-rmse:0.54673\n",
      "[216]\tvalidation_0-rmse:0.54668\n",
      "[217]\tvalidation_0-rmse:0.54668\n",
      "[218]\tvalidation_0-rmse:0.54665\n",
      "[219]\tvalidation_0-rmse:0.54654\n",
      "[220]\tvalidation_0-rmse:0.54646\n",
      "[221]\tvalidation_0-rmse:0.54634\n",
      "[222]\tvalidation_0-rmse:0.54624\n",
      "[223]\tvalidation_0-rmse:0.54613\n",
      "[224]\tvalidation_0-rmse:0.54621\n",
      "[225]\tvalidation_0-rmse:0.54588\n",
      "[226]\tvalidation_0-rmse:0.54575\n",
      "[227]\tvalidation_0-rmse:0.54579\n",
      "[228]\tvalidation_0-rmse:0.54570\n",
      "[229]\tvalidation_0-rmse:0.54561\n",
      "[230]\tvalidation_0-rmse:0.54573\n",
      "[231]\tvalidation_0-rmse:0.54562\n",
      "[232]\tvalidation_0-rmse:0.54540\n",
      "[233]\tvalidation_0-rmse:0.54537\n",
      "[234]\tvalidation_0-rmse:0.54533\n",
      "[235]\tvalidation_0-rmse:0.54522\n",
      "[236]\tvalidation_0-rmse:0.54503\n",
      "[237]\tvalidation_0-rmse:0.54509\n",
      "[238]\tvalidation_0-rmse:0.54520\n",
      "[239]\tvalidation_0-rmse:0.54515\n",
      "[240]\tvalidation_0-rmse:0.54513\n",
      "[241]\tvalidation_0-rmse:0.54514\n",
      "[242]\tvalidation_0-rmse:0.54515\n",
      "[243]\tvalidation_0-rmse:0.54515\n",
      "[244]\tvalidation_0-rmse:0.54512\n",
      "[245]\tvalidation_0-rmse:0.54486\n",
      "[246]\tvalidation_0-rmse:0.54471\n",
      "[247]\tvalidation_0-rmse:0.54473\n",
      "[248]\tvalidation_0-rmse:0.54483\n",
      "[249]\tvalidation_0-rmse:0.54484\n",
      "[250]\tvalidation_0-rmse:0.54487\n",
      "[251]\tvalidation_0-rmse:0.54487\n",
      "[252]\tvalidation_0-rmse:0.54490\n",
      "[253]\tvalidation_0-rmse:0.54487\n",
      "[254]\tvalidation_0-rmse:0.54481\n",
      "[255]\tvalidation_0-rmse:0.54488\n",
      "[256]\tvalidation_0-rmse:0.54491\n",
      "[257]\tvalidation_0-rmse:0.54499\n",
      "[258]\tvalidation_0-rmse:0.54500\n",
      "[259]\tvalidation_0-rmse:0.54504\n"
     ]
    },
    {
     "name": "stdout",
     "output_type": "stream",
     "text": [
      "[260]\tvalidation_0-rmse:0.54496\n",
      "[261]\tvalidation_0-rmse:0.54495\n",
      "[262]\tvalidation_0-rmse:0.54495\n",
      "[263]\tvalidation_0-rmse:0.54499\n",
      "[264]\tvalidation_0-rmse:0.54509\n",
      "[265]\tvalidation_0-rmse:0.54506\n",
      "[266]\tvalidation_0-rmse:0.54502\n",
      "[267]\tvalidation_0-rmse:0.54501\n",
      "[268]\tvalidation_0-rmse:0.54497\n",
      "[269]\tvalidation_0-rmse:0.54497\n",
      "[270]\tvalidation_0-rmse:0.54488\n",
      "[271]\tvalidation_0-rmse:0.54483\n",
      "[272]\tvalidation_0-rmse:0.54474\n",
      "[273]\tvalidation_0-rmse:0.54491\n",
      "[274]\tvalidation_0-rmse:0.54485\n",
      "[275]\tvalidation_0-rmse:0.54495\n",
      "[276]\tvalidation_0-rmse:0.54497\n",
      "[277]\tvalidation_0-rmse:0.54493\n",
      "[278]\tvalidation_0-rmse:0.54501\n",
      "[279]\tvalidation_0-rmse:0.54499\n",
      "[280]\tvalidation_0-rmse:0.54493\n",
      "[281]\tvalidation_0-rmse:0.54468\n",
      "[282]\tvalidation_0-rmse:0.54462\n",
      "[283]\tvalidation_0-rmse:0.54456\n",
      "[284]\tvalidation_0-rmse:0.54453\n",
      "[285]\tvalidation_0-rmse:0.54461\n",
      "[286]\tvalidation_0-rmse:0.54457\n",
      "[287]\tvalidation_0-rmse:0.54462\n",
      "[288]\tvalidation_0-rmse:0.54466\n",
      "[289]\tvalidation_0-rmse:0.54476\n",
      "[290]\tvalidation_0-rmse:0.54477\n",
      "[291]\tvalidation_0-rmse:0.54480\n",
      "[292]\tvalidation_0-rmse:0.54483\n",
      "[293]\tvalidation_0-rmse:0.54477\n",
      "[294]\tvalidation_0-rmse:0.54469\n",
      "[295]\tvalidation_0-rmse:0.54473\n",
      "[296]\tvalidation_0-rmse:0.54470\n",
      "[297]\tvalidation_0-rmse:0.54474\n",
      "[298]\tvalidation_0-rmse:0.54481\n",
      "[299]\tvalidation_0-rmse:0.54475\n",
      "time:  12.72724199295044 seconds\n"
     ]
    }
   ],
   "source": [
    "start=time.time()\n",
    "xgb_r.fit(x1_train1,log_y1_train,\n",
    "          eval_metric='rmse',\n",
    "            eval_set=[(x1_test1,log_y1_test)])\n",
    "end=time.time()\n",
    "print('time: ',end-start,'seconds')"
   ]
  },
  {
   "cell_type": "code",
   "execution_count": 124,
   "metadata": {},
   "outputs": [
    {
     "name": "stderr",
     "output_type": "stream",
     "text": [
      "/opt/anaconda3/lib/python3.8/site-packages/xgboost/data.py:112: UserWarning: Use subset (sliced data) of np.ndarray is not recommended because it will generate extra copies and increase memory consumption\n",
      "  warnings.warn(\n"
     ]
    },
    {
     "data": {
      "text/plain": [
       "0.17645545115474526"
      ]
     },
     "execution_count": 124,
     "metadata": {},
     "output_type": "execute_result"
    }
   ],
   "source": [
    "# mse of training set\n",
    "mse_xgb_train =mean_squared_error(log_y1_train,xgb_r.predict(x1_train1))\n",
    "mse_xgb_train"
   ]
  },
  {
   "cell_type": "code",
   "execution_count": 125,
   "metadata": {},
   "outputs": [
    {
     "name": "stderr",
     "output_type": "stream",
     "text": [
      "/opt/anaconda3/lib/python3.8/site-packages/xgboost/data.py:112: UserWarning: Use subset (sliced data) of np.ndarray is not recommended because it will generate extra copies and increase memory consumption\n",
      "  warnings.warn(\n"
     ]
    },
    {
     "data": {
      "text/plain": [
       "0.29675670390516945"
      ]
     },
     "execution_count": 125,
     "metadata": {},
     "output_type": "execute_result"
    }
   ],
   "source": [
    "# mse of validation set\n",
    "mse_xgb_val= mean_squared_error(log_y1_test,xgb_r.predict(x1_test1))\n",
    "mse_xgb_val"
   ]
  },
  {
   "cell_type": "code",
   "execution_count": null,
   "metadata": {},
   "outputs": [],
   "source": [
    "print(\"Conclusion: it is better to keep the catrgorical columns. After we add encoding to catrgorical data, the mse for validation set becomes smaller and getting colser to the mse of training set even though the mse of training set gets slightly higher.\")"
   ]
  },
  {
   "cell_type": "markdown",
   "metadata": {},
   "source": [
    "# Building Random Forest Model¶"
   ]
  },
  {
   "cell_type": "code",
   "execution_count": 127,
   "metadata": {},
   "outputs": [],
   "source": [
    "# this packege will do standardization for the fitted data\n",
    "sc=StandardScaler()"
   ]
  },
  {
   "cell_type": "code",
   "execution_count": 128,
   "metadata": {},
   "outputs": [],
   "source": [
    "# try to standardize data\n",
    "sd_x_train=sc.fit_transform(x1_train1)\n",
    "sd_x_test=sc.transform(x1_test1)"
   ]
  },
  {
   "cell_type": "code",
   "execution_count": 52,
   "metadata": {},
   "outputs": [],
   "source": [
    "parameters={\"max_depth\":range(2, 8), \"min_samples_leaf\": range(5, 55, 5), \"min_samples_split\": range(2, 110, 5),\n",
    "              \"max_samples\":[0.1, 0.15, 0.2, 0.25, 0.3, 0.35, 0.4], \"max_features\": [2, 3, 4, 5, 6],\n",
    "              \"n_estimators\": [100, 150, 200, 250, 300]}"
   ]
  },
  {
   "cell_type": "code",
   "execution_count": 53,
   "metadata": {},
   "outputs": [],
   "source": [
    "s=time.time()\n",
    "rf=RandomForestRegressor()\n",
    "clf= RandomizedSearchCV(rf, parameters, n_jobs=4, scoring = \"neg_mean_squared_error\",n_iter=100)"
   ]
  },
  {
   "cell_type": "code",
   "execution_count": 54,
   "metadata": {},
   "outputs": [
    {
     "data": {
      "text/plain": [
       "RandomizedSearchCV(estimator=RandomForestRegressor(), n_iter=100, n_jobs=4,\n",
       "                   param_distributions={'max_depth': range(2, 8),\n",
       "                                        'max_features': [2, 3, 4, 5, 6],\n",
       "                                        'max_samples': [0.1, 0.15, 0.2, 0.25,\n",
       "                                                        0.3, 0.35, 0.4],\n",
       "                                        'min_samples_leaf': range(5, 55, 5),\n",
       "                                        'min_samples_split': range(2, 110, 5),\n",
       "                                        'n_estimators': [100, 150, 200, 250,\n",
       "                                                         300]},\n",
       "                   scoring='neg_mean_squared_error')"
      ]
     },
     "execution_count": 54,
     "metadata": {},
     "output_type": "execute_result"
    }
   ],
   "source": [
    "clf.fit(sd_x_train,log_y1_train)"
   ]
  },
  {
   "cell_type": "code",
   "execution_count": 55,
   "metadata": {},
   "outputs": [
    {
     "data": {
      "text/plain": [
       "{'n_estimators': 300,\n",
       " 'min_samples_split': 42,\n",
       " 'min_samples_leaf': 5,\n",
       " 'max_samples': 0.15,\n",
       " 'max_features': 6,\n",
       " 'max_depth': 7}"
      ]
     },
     "execution_count": 55,
     "metadata": {},
     "output_type": "execute_result"
    }
   ],
   "source": [
    "clf.best_params_"
   ]
  },
  {
   "cell_type": "code",
   "execution_count": 56,
   "metadata": {},
   "outputs": [
    {
     "data": {
      "text/plain": [
       "0.5029719020625827"
      ]
     },
     "execution_count": 56,
     "metadata": {},
     "output_type": "execute_result"
    }
   ],
   "source": [
    "mse_rf_train=mean_squared_error(log_y1_train,clf.predict(sd_x_train))\n",
    "mse_rf_train"
   ]
  },
  {
   "cell_type": "code",
   "execution_count": 57,
   "metadata": {},
   "outputs": [
    {
     "data": {
      "text/plain": [
       "0.5090668754682898"
      ]
     },
     "execution_count": 57,
     "metadata": {},
     "output_type": "execute_result"
    }
   ],
   "source": [
    "mse_rf_val=mean_squared_error(log_y1_test,clf.predict(sd_x_test))\n",
    "mse_rf_val"
   ]
  },
  {
   "cell_type": "markdown",
   "metadata": {},
   "source": [
    "# Lasso Regression"
   ]
  },
  {
   "cell_type": "code",
   "execution_count": 58,
   "metadata": {},
   "outputs": [
    {
     "data": {
      "text/plain": [
       "LassoCV(alphas=[1, 0.1, 0.001, 0.0005, 0.0003, 0.0002, 0.0005], cv=5)"
      ]
     },
     "execution_count": 58,
     "metadata": {},
     "output_type": "execute_result"
    }
   ],
   "source": [
    "clf1 = LassoCV(alphas = [1, 0.1, 0.001, 0.0005,0.0003,0.0002, 5e-4],cv=5)\n",
    "clf1.fit(sd_x_train, log_y1_train)"
   ]
  },
  {
   "cell_type": "code",
   "execution_count": 59,
   "metadata": {},
   "outputs": [
    {
     "data": {
      "text/plain": [
       "0.5098069693840599"
      ]
     },
     "execution_count": 59,
     "metadata": {},
     "output_type": "execute_result"
    }
   ],
   "source": [
    "mse_ls_train=mean_squared_error(log_y1_train,clf1.predict(sd_x_train))\n",
    "mse_ls_train"
   ]
  },
  {
   "cell_type": "code",
   "execution_count": 60,
   "metadata": {},
   "outputs": [
    {
     "data": {
      "text/plain": [
       "0.5101986685292604"
      ]
     },
     "execution_count": 60,
     "metadata": {},
     "output_type": "execute_result"
    }
   ],
   "source": [
    "mse_ls_val=mean_squared_error(log_y1_test,clf1.predict(sd_x_test))\n",
    "mse_ls_val"
   ]
  },
  {
   "cell_type": "markdown",
   "metadata": {},
   "source": [
    "# Support vector regressor"
   ]
  },
  {
   "cell_type": "code",
   "execution_count": 61,
   "metadata": {},
   "outputs": [
    {
     "name": "stderr",
     "output_type": "stream",
     "text": [
      "/opt/anaconda3/lib/python3.8/site-packages/sklearn/svm/_base.py:976: ConvergenceWarning: Liblinear failed to converge, increase the number of iterations.\n",
      "  warnings.warn(\"Liblinear failed to converge, increase \"\n"
     ]
    },
    {
     "data": {
      "text/plain": [
       "LinearSVR()"
      ]
     },
     "execution_count": 61,
     "metadata": {},
     "output_type": "execute_result"
    }
   ],
   "source": [
    "svm = LinearSVR()\n",
    "svm.fit(sd_x_train,log_y1_train)"
   ]
  },
  {
   "cell_type": "code",
   "execution_count": 62,
   "metadata": {},
   "outputs": [
    {
     "data": {
      "text/plain": [
       "0.5194027718357302"
      ]
     },
     "execution_count": 62,
     "metadata": {},
     "output_type": "execute_result"
    }
   ],
   "source": [
    "mse_svm_train=mean_squared_error(log_y1_train,svm.predict(sd_x_train))\n",
    "mse_svm_train"
   ]
  },
  {
   "cell_type": "code",
   "execution_count": 63,
   "metadata": {},
   "outputs": [
    {
     "data": {
      "text/plain": [
       "0.5178212449725227"
      ]
     },
     "execution_count": 63,
     "metadata": {},
     "output_type": "execute_result"
    }
   ],
   "source": [
    "mse_svm_val=mean_squared_error(log_y_test,svm.predict(sd_x_test))\n",
    "mse_svm_val"
   ]
  },
  {
   "cell_type": "markdown",
   "metadata": {},
   "source": [
    "# Building Neural_Networks using tensorflow"
   ]
  },
  {
   "cell_type": "code",
   "execution_count": 64,
   "metadata": {},
   "outputs": [],
   "source": [
    "def mymodel():\n",
    "    inputdim = sd_x_train.shape[1]\n",
    "    #print(inputdim)\n",
    "    model = tf.keras.Sequential()\n",
    "    model.add(tf.keras.Input(shape=(inputdim,)))    #input array of shape (None, inputdim)\n",
    "    model.add(tf.keras.layers.Dense(128, activation = 'relu'))\n",
    "    model.add(tf.keras.layers.Dense(512, activation = 'relu'))\n",
    "    model.add(tf.keras.layers.Dense(258, activation = 'relu'))\n",
    "    model.add(tf.keras.layers.Dense(32, activation = 'relu'))\n",
    "    model.add(tf.keras.layers.Dense(1, activation = 'relu'))\n",
    "    \n",
    "    \n",
    "    #useoptimizer = tf.keras.optimizers.SGD(learning_rate=0.01)\n",
    "    #model.compile(loss = 'mean_squared_error', optimizer=useoptimizer)\n",
    "    \n",
    "    model.compile(loss = 'mean_squared_error', optimizer='adam')\n",
    "    return model"
   ]
  },
  {
   "cell_type": "code",
   "execution_count": 65,
   "metadata": {},
   "outputs": [
    {
     "name": "stdout",
     "output_type": "stream",
     "text": [
      "WARNING:tensorflow:Please add `keras.layers.InputLayer` instead of `keras.Input` to Sequential model. `keras.Input` is intended to be used by Functional model.\n",
      "142.55716919898987\n"
     ]
    }
   ],
   "source": [
    "s=time.time()\n",
    "res = tf.keras.wrappers.scikit_learn.KerasRegressor(build_fn = mymodel, epochs=120, verbose=0)\n",
    "res.fit(sd_x_train,log_y1_train)\n",
    "e=time.time()\n",
    "print(e-s)"
   ]
  },
  {
   "cell_type": "code",
   "execution_count": 66,
   "metadata": {},
   "outputs": [
    {
     "data": {
      "text/plain": [
       "0.21121093517529327"
      ]
     },
     "execution_count": 66,
     "metadata": {},
     "output_type": "execute_result"
    }
   ],
   "source": [
    "mse_nn_train=mean_squared_error(log_y1_train,res.predict(sd_x_train))\n",
    "mse_nn_train"
   ]
  },
  {
   "cell_type": "code",
   "execution_count": 67,
   "metadata": {},
   "outputs": [
    {
     "data": {
      "text/plain": [
       "0.48330945630676325"
      ]
     },
     "execution_count": 67,
     "metadata": {},
     "output_type": "execute_result"
    }
   ],
   "source": [
    "mse_nn_val=mean_squared_error(log_y1_test,res.predict(sd_x_test))\n",
    "mse_nn_val"
   ]
  },
  {
   "cell_type": "code",
   "execution_count": 68,
   "metadata": {},
   "outputs": [
    {
     "data": {
      "text/html": [
       "<div>\n",
       "<style scoped>\n",
       "    .dataframe tbody tr th:only-of-type {\n",
       "        vertical-align: middle;\n",
       "    }\n",
       "\n",
       "    .dataframe tbody tr th {\n",
       "        vertical-align: top;\n",
       "    }\n",
       "\n",
       "    .dataframe thead th {\n",
       "        text-align: right;\n",
       "    }\n",
       "</style>\n",
       "<table border=\"1\" class=\"dataframe\">\n",
       "  <thead>\n",
       "    <tr style=\"text-align: right;\">\n",
       "      <th></th>\n",
       "      <th>train</th>\n",
       "      <th>val</th>\n",
       "    </tr>\n",
       "  </thead>\n",
       "  <tbody>\n",
       "    <tr>\n",
       "      <th>Xgboost</th>\n",
       "      <td>0.176455</td>\n",
       "      <td>0.296757</td>\n",
       "    </tr>\n",
       "    <tr>\n",
       "      <th>Random_Forest</th>\n",
       "      <td>0.502972</td>\n",
       "      <td>0.509067</td>\n",
       "    </tr>\n",
       "    <tr>\n",
       "      <th>Lasso</th>\n",
       "      <td>0.509807</td>\n",
       "      <td>0.510199</td>\n",
       "    </tr>\n",
       "    <tr>\n",
       "      <th>SVR</th>\n",
       "      <td>0.519403</td>\n",
       "      <td>0.517821</td>\n",
       "    </tr>\n",
       "    <tr>\n",
       "      <th>Neural_Networks</th>\n",
       "      <td>0.211211</td>\n",
       "      <td>0.483309</td>\n",
       "    </tr>\n",
       "  </tbody>\n",
       "</table>\n",
       "</div>"
      ],
      "text/plain": [
       "                    train       val\n",
       "Xgboost          0.176455  0.296757\n",
       "Random_Forest    0.502972  0.509067\n",
       "Lasso            0.509807  0.510199\n",
       "SVR              0.519403  0.517821\n",
       "Neural_Networks  0.211211  0.483309"
      ]
     },
     "execution_count": 68,
     "metadata": {},
     "output_type": "execute_result"
    }
   ],
   "source": [
    "mse_df=pd.DataFrame({'train':[mse_xgb_train,mse_rf_train,mse_ls_train,mse_svm_train,mse_nn_train],'val':\\\n",
    " [mse_xgb_val,mse_rf_val,mse_ls_val,mse_svm_val,mse_nn_val]},index=['Xgboost','Random_Forest','Lasso','SVR','Neural_Networks'])\n",
    "\n",
    "mse_df"
   ]
  },
  {
   "cell_type": "code",
   "execution_count": 69,
   "metadata": {},
   "outputs": [],
   "source": [
    "#Conclusion: xgboost has overfitting problem but best performance. \n",
    "#            Random forest, Lasso and SVR have least overfitting problem. \n",
    "#            Neural Networks has largest overfitting problem. "
   ]
  },
  {
   "cell_type": "code",
   "execution_count": 70,
   "metadata": {},
   "outputs": [
    {
     "data": {
      "text/plain": [
       "Text(0.5, 1.0, 'Model Performance')"
      ]
     },
     "execution_count": 70,
     "metadata": {},
     "output_type": "execute_result"
    },
    {
     "data": {
      "image/png": "[encoded data removed]",
      "text/plain": [
       "<Figure size 1152x648 with 1 Axes>"
      ]
     },
     "metadata": {
      "needs_background": "light"
     },
     "output_type": "display_data"
    }
   ],
   "source": [
    "mse_df.plot(kind='bar',figsize=(16,9))\n",
    "plt.ylabel('MSE')\n",
    "plt.xlabel('Models')\n",
    "plt.title('Model Performance')"
   ]
  },
  {
   "cell_type": "markdown",
   "metadata": {},
   "source": [
    "# Building Optimal XGboost regressor"
   ]
  },
  {
   "cell_type": "code",
   "execution_count": 71,
   "metadata": {},
   "outputs": [],
   "source": [
    "parameters = {\"max_depth\":range(3, 12), \"min_samples_leaf\": range(5, 55, 5), \"min_samples_split\": range(10, 110, 5),\n",
    "              \"max_samples\":[0.1, 0.15, 0.2, 0.25, 0.3, 0.35, 0.4], \"max_features\": [2, 3, 4, 5, 6],\n",
    "              \"n_estimators\": [100, 150, 200,300,400],\n",
    "             'learning_rate':[0.01,0.03,0.05,0.08,0.1,0.15,0.3],\n",
    "             'nthread':range(2,10,2)}"
   ]
  },
  {
   "cell_type": "code",
   "execution_count": 72,
   "metadata": {},
   "outputs": [],
   "source": [
    "xgb_r2 = xg.XGBRegressor(\n",
    "                           n_estimators=300,\n",
    "                           min_child_weight=9,\n",
    "                           nthread=8,\n",
    "                           subsample=0.80,\n",
    "                           colsample_bytree=0.8,\n",
    "                           seed=4242\n",
    "                           )"
   ]
  },
  {
   "cell_type": "code",
   "execution_count": 73,
   "metadata": {},
   "outputs": [],
   "source": [
    "xgr = RandomizedSearchCV(xgb_r2, parameters, n_jobs=4,scoring='neg_root_mean_squared_error',n_iter=200)"
   ]
  },
  {
   "cell_type": "code",
   "execution_count": 74,
   "metadata": {},
   "outputs": [
    {
     "name": "stdout",
     "output_type": "stream",
     "text": [
      "[23:41:05] WARNING: /Users/travis/build/dmlc/xgboost/src/learner.cc:573: \n",
      "Parameters: { \"max_features\", \"max_samples\", \"min_samples_leaf\", \"min_samples_split\" } might not be used.\n",
      "\n",
      "  This may not be accurate due to some parameters are only used in language bindings but\n",
      "  passed down to XGBoost core.  Or some parameters are not used but slip through this\n",
      "  verification. Please open an issue if you find above cases.\n",
      "\n",
      "\n",
      "[0]\tvalidation_0-rmse:13.54436\n",
      "[1]\tvalidation_0-rmse:13.13955\n",
      "[2]\tvalidation_0-rmse:12.74709\n",
      "[3]\tvalidation_0-rmse:12.36623\n",
      "[4]\tvalidation_0-rmse:11.99680\n",
      "[5]\tvalidation_0-rmse:11.63869\n",
      "[6]\tvalidation_0-rmse:11.29130\n",
      "[7]\tvalidation_0-rmse:10.95456\n",
      "[8]\tvalidation_0-rmse:10.62768\n",
      "[9]\tvalidation_0-rmse:10.31107\n",
      "[10]\tvalidation_0-rmse:10.00378\n",
      "[11]\tvalidation_0-rmse:9.70557\n",
      "[12]\tvalidation_0-rmse:9.41629\n",
      "[13]\tvalidation_0-rmse:9.13574\n",
      "[14]\tvalidation_0-rmse:8.86370\n",
      "[15]\tvalidation_0-rmse:8.59994\n",
      "[16]\tvalidation_0-rmse:8.34423\n",
      "[17]\tvalidation_0-rmse:8.09616\n",
      "[18]\tvalidation_0-rmse:7.85542\n",
      "[19]\tvalidation_0-rmse:7.62225\n",
      "[20]\tvalidation_0-rmse:7.39601\n",
      "[21]\tvalidation_0-rmse:7.17639\n",
      "[22]\tvalidation_0-rmse:6.96344\n",
      "[23]\tvalidation_0-rmse:6.75718\n",
      "[24]\tvalidation_0-rmse:6.55709\n",
      "[25]\tvalidation_0-rmse:6.36284\n",
      "[26]\tvalidation_0-rmse:6.17459\n",
      "[27]\tvalidation_0-rmse:5.99194\n",
      "[28]\tvalidation_0-rmse:5.81470\n",
      "[29]\tvalidation_0-rmse:5.64309\n",
      "[30]\tvalidation_0-rmse:5.47677\n",
      "[31]\tvalidation_0-rmse:5.31526\n",
      "[32]\tvalidation_0-rmse:5.15874\n",
      "[33]\tvalidation_0-rmse:5.00696\n",
      "[34]\tvalidation_0-rmse:4.85984\n",
      "[35]\tvalidation_0-rmse:4.71711\n",
      "[36]\tvalidation_0-rmse:4.57867\n",
      "[37]\tvalidation_0-rmse:4.44457\n",
      "[38]\tvalidation_0-rmse:4.31459\n",
      "[39]\tvalidation_0-rmse:4.18850\n",
      "[40]\tvalidation_0-rmse:4.06654\n",
      "[41]\tvalidation_0-rmse:3.94786\n",
      "[42]\tvalidation_0-rmse:3.83311\n",
      "[43]\tvalidation_0-rmse:3.72173\n",
      "[44]\tvalidation_0-rmse:3.61395\n",
      "[45]\tvalidation_0-rmse:3.50911\n",
      "[46]\tvalidation_0-rmse:3.40799\n",
      "[47]\tvalidation_0-rmse:3.30962\n",
      "[48]\tvalidation_0-rmse:3.21451\n",
      "[49]\tvalidation_0-rmse:3.12230\n",
      "[50]\tvalidation_0-rmse:3.03294\n",
      "[51]\tvalidation_0-rmse:2.94628\n",
      "[52]\tvalidation_0-rmse:2.86254\n",
      "[53]\tvalidation_0-rmse:2.78105\n",
      "[54]\tvalidation_0-rmse:2.70230\n",
      "[55]\tvalidation_0-rmse:2.62594\n",
      "[56]\tvalidation_0-rmse:2.55210\n",
      "[57]\tvalidation_0-rmse:2.48029\n",
      "[58]\tvalidation_0-rmse:2.41083\n",
      "[59]\tvalidation_0-rmse:2.34368\n",
      "[60]\tvalidation_0-rmse:2.27853\n",
      "[61]\tvalidation_0-rmse:2.21542\n",
      "[62]\tvalidation_0-rmse:2.15423\n",
      "[63]\tvalidation_0-rmse:2.09505\n",
      "[64]\tvalidation_0-rmse:2.03797\n",
      "[65]\tvalidation_0-rmse:1.98272\n",
      "[66]\tvalidation_0-rmse:1.92916\n",
      "[67]\tvalidation_0-rmse:1.87736\n",
      "[68]\tvalidation_0-rmse:1.82732\n",
      "[69]\tvalidation_0-rmse:1.77886\n",
      "[70]\tvalidation_0-rmse:1.73188\n",
      "[71]\tvalidation_0-rmse:1.68621\n",
      "[72]\tvalidation_0-rmse:1.64227\n",
      "[73]\tvalidation_0-rmse:1.59979\n",
      "[74]\tvalidation_0-rmse:1.55889\n",
      "[75]\tvalidation_0-rmse:1.51932\n",
      "[76]\tvalidation_0-rmse:1.48098\n",
      "[77]\tvalidation_0-rmse:1.44373\n",
      "[78]\tvalidation_0-rmse:1.40816\n",
      "[79]\tvalidation_0-rmse:1.37378\n",
      "[80]\tvalidation_0-rmse:1.34060\n",
      "[81]\tvalidation_0-rmse:1.30877\n",
      "[82]\tvalidation_0-rmse:1.27799\n",
      "[83]\tvalidation_0-rmse:1.24781\n",
      "[84]\tvalidation_0-rmse:1.21877\n",
      "[85]\tvalidation_0-rmse:1.19073\n",
      "[86]\tvalidation_0-rmse:1.16413\n",
      "[87]\tvalidation_0-rmse:1.13812\n",
      "[88]\tvalidation_0-rmse:1.11353\n",
      "[89]\tvalidation_0-rmse:1.08947\n",
      "[90]\tvalidation_0-rmse:1.06675\n",
      "[91]\tvalidation_0-rmse:1.04494\n",
      "[92]\tvalidation_0-rmse:1.02334\n",
      "[93]\tvalidation_0-rmse:1.00311\n",
      "[94]\tvalidation_0-rmse:0.98338\n",
      "[95]\tvalidation_0-rmse:0.96432\n",
      "[96]\tvalidation_0-rmse:0.94586\n",
      "[97]\tvalidation_0-rmse:0.92814\n",
      "[98]\tvalidation_0-rmse:0.91118\n",
      "[99]\tvalidation_0-rmse:0.89505\n",
      "[100]\tvalidation_0-rmse:0.87934\n",
      "[101]\tvalidation_0-rmse:0.86443\n",
      "[102]\tvalidation_0-rmse:0.85000\n",
      "[103]\tvalidation_0-rmse:0.83625\n",
      "[104]\tvalidation_0-rmse:0.82345\n",
      "[105]\tvalidation_0-rmse:0.81096\n",
      "[106]\tvalidation_0-rmse:0.79927\n",
      "[107]\tvalidation_0-rmse:0.78777\n",
      "[108]\tvalidation_0-rmse:0.77686\n",
      "[109]\tvalidation_0-rmse:0.76622\n",
      "[110]\tvalidation_0-rmse:0.75614\n",
      "[111]\tvalidation_0-rmse:0.74650\n",
      "[112]\tvalidation_0-rmse:0.73733\n",
      "[113]\tvalidation_0-rmse:0.72867\n",
      "[114]\tvalidation_0-rmse:0.72013\n",
      "[115]\tvalidation_0-rmse:0.71211\n",
      "[116]\tvalidation_0-rmse:0.70443\n",
      "[117]\tvalidation_0-rmse:0.69742\n",
      "[118]\tvalidation_0-rmse:0.69044\n",
      "[119]\tvalidation_0-rmse:0.68373\n",
      "[120]\tvalidation_0-rmse:0.67727\n",
      "[121]\tvalidation_0-rmse:0.67121\n",
      "[122]\tvalidation_0-rmse:0.66560\n",
      "[123]\tvalidation_0-rmse:0.66039\n",
      "[124]\tvalidation_0-rmse:0.65505\n",
      "[125]\tvalidation_0-rmse:0.65033\n",
      "[126]\tvalidation_0-rmse:0.64565\n",
      "[127]\tvalidation_0-rmse:0.64112\n",
      "[128]\tvalidation_0-rmse:0.63707\n",
      "[129]\tvalidation_0-rmse:0.63289\n",
      "[130]\tvalidation_0-rmse:0.62921\n",
      "[131]\tvalidation_0-rmse:0.62552\n",
      "[132]\tvalidation_0-rmse:0.62208\n",
      "[133]\tvalidation_0-rmse:0.61883\n",
      "[134]\tvalidation_0-rmse:0.61589\n",
      "[135]\tvalidation_0-rmse:0.61283\n",
      "[136]\tvalidation_0-rmse:0.61001\n",
      "[137]\tvalidation_0-rmse:0.60750\n",
      "[138]\tvalidation_0-rmse:0.60480\n",
      "[139]\tvalidation_0-rmse:0.60257\n",
      "[140]\tvalidation_0-rmse:0.60018\n",
      "[141]\tvalidation_0-rmse:0.59763\n",
      "[142]\tvalidation_0-rmse:0.59575\n",
      "[143]\tvalidation_0-rmse:0.59359\n",
      "[144]\tvalidation_0-rmse:0.59172\n",
      "[145]\tvalidation_0-rmse:0.59021\n",
      "[146]\tvalidation_0-rmse:0.58854\n",
      "[147]\tvalidation_0-rmse:0.58673\n",
      "[148]\tvalidation_0-rmse:0.58481\n",
      "[149]\tvalidation_0-rmse:0.58345\n",
      "[150]\tvalidation_0-rmse:0.58200\n",
      "[151]\tvalidation_0-rmse:0.58038\n",
      "[152]\tvalidation_0-rmse:0.57926\n",
      "[153]\tvalidation_0-rmse:0.57825\n",
      "[154]\tvalidation_0-rmse:0.57699\n",
      "[155]\tvalidation_0-rmse:0.57553\n",
      "[156]\tvalidation_0-rmse:0.57444\n",
      "[157]\tvalidation_0-rmse:0.57332\n",
      "[158]\tvalidation_0-rmse:0.57249\n",
      "[159]\tvalidation_0-rmse:0.57140\n",
      "[160]\tvalidation_0-rmse:0.57036\n",
      "[161]\tvalidation_0-rmse:0.56942\n",
      "[162]\tvalidation_0-rmse:0.56872\n",
      "[163]\tvalidation_0-rmse:0.56801\n",
      "[164]\tvalidation_0-rmse:0.56716\n",
      "[165]\tvalidation_0-rmse:0.56657\n",
      "[166]\tvalidation_0-rmse:0.56589\n",
      "[167]\tvalidation_0-rmse:0.56535\n",
      "[168]\tvalidation_0-rmse:0.56443\n",
      "[169]\tvalidation_0-rmse:0.56384\n",
      "[170]\tvalidation_0-rmse:0.56326\n",
      "[171]\tvalidation_0-rmse:0.56253\n",
      "[172]\tvalidation_0-rmse:0.56192\n",
      "[173]\tvalidation_0-rmse:0.56149\n",
      "[174]\tvalidation_0-rmse:0.56109\n",
      "[175]\tvalidation_0-rmse:0.56079\n",
      "[176]\tvalidation_0-rmse:0.56004\n",
      "[177]\tvalidation_0-rmse:0.55961\n",
      "[178]\tvalidation_0-rmse:0.55936\n",
      "[179]\tvalidation_0-rmse:0.55900\n",
      "[180]\tvalidation_0-rmse:0.55872\n",
      "[181]\tvalidation_0-rmse:0.55851\n",
      "[182]\tvalidation_0-rmse:0.55819\n",
      "[183]\tvalidation_0-rmse:0.55787\n",
      "[184]\tvalidation_0-rmse:0.55764\n",
      "[185]\tvalidation_0-rmse:0.55730\n",
      "[186]\tvalidation_0-rmse:0.55691\n",
      "[187]\tvalidation_0-rmse:0.55663\n",
      "[188]\tvalidation_0-rmse:0.55631\n",
      "[189]\tvalidation_0-rmse:0.55606\n",
      "[190]\tvalidation_0-rmse:0.55583\n",
      "[191]\tvalidation_0-rmse:0.55567\n",
      "[192]\tvalidation_0-rmse:0.55547\n",
      "[193]\tvalidation_0-rmse:0.55514\n",
      "[194]\tvalidation_0-rmse:0.55500\n",
      "[195]\tvalidation_0-rmse:0.55472\n",
      "[196]\tvalidation_0-rmse:0.55460\n",
      "[197]\tvalidation_0-rmse:0.55451\n",
      "[198]\tvalidation_0-rmse:0.55428\n",
      "[199]\tvalidation_0-rmse:0.55402\n",
      "[200]\tvalidation_0-rmse:0.55395\n",
      "[201]\tvalidation_0-rmse:0.55390\n",
      "[202]\tvalidation_0-rmse:0.55376\n",
      "[203]\tvalidation_0-rmse:0.55362\n",
      "[204]\tvalidation_0-rmse:0.55349\n",
      "[205]\tvalidation_0-rmse:0.55328\n",
      "[206]\tvalidation_0-rmse:0.55314\n",
      "[207]\tvalidation_0-rmse:0.55297\n",
      "[208]\tvalidation_0-rmse:0.55284\n",
      "[209]\tvalidation_0-rmse:0.55260\n",
      "[210]\tvalidation_0-rmse:0.55252\n",
      "[211]\tvalidation_0-rmse:0.55221\n",
      "[212]\tvalidation_0-rmse:0.55215\n",
      "[213]\tvalidation_0-rmse:0.55188\n",
      "[214]\tvalidation_0-rmse:0.55182\n",
      "[215]\tvalidation_0-rmse:0.55170\n",
      "[216]\tvalidation_0-rmse:0.55151\n",
      "[217]\tvalidation_0-rmse:0.55132\n",
      "[218]\tvalidation_0-rmse:0.55121\n",
      "[219]\tvalidation_0-rmse:0.55109\n",
      "[220]\tvalidation_0-rmse:0.55068\n",
      "[221]\tvalidation_0-rmse:0.55053\n",
      "[222]\tvalidation_0-rmse:0.55031\n",
      "[223]\tvalidation_0-rmse:0.55017\n",
      "[224]\tvalidation_0-rmse:0.54999\n",
      "[225]\tvalidation_0-rmse:0.54990\n",
      "[226]\tvalidation_0-rmse:0.54972\n",
      "[227]\tvalidation_0-rmse:0.54975\n",
      "[228]\tvalidation_0-rmse:0.54962\n",
      "[229]\tvalidation_0-rmse:0.54935\n",
      "[230]\tvalidation_0-rmse:0.54928\n",
      "[231]\tvalidation_0-rmse:0.54923\n",
      "[232]\tvalidation_0-rmse:0.54899\n",
      "[233]\tvalidation_0-rmse:0.54888\n",
      "[234]\tvalidation_0-rmse:0.54878\n",
      "[235]\tvalidation_0-rmse:0.54863\n",
      "[236]\tvalidation_0-rmse:0.54854\n",
      "[237]\tvalidation_0-rmse:0.54851\n",
      "[238]\tvalidation_0-rmse:0.54842\n",
      "[239]\tvalidation_0-rmse:0.54829\n",
      "[240]\tvalidation_0-rmse:0.54831\n",
      "[241]\tvalidation_0-rmse:0.54827\n",
      "[242]\tvalidation_0-rmse:0.54810\n",
      "[243]\tvalidation_0-rmse:0.54803\n",
      "[244]\tvalidation_0-rmse:0.54795\n",
      "[245]\tvalidation_0-rmse:0.54778\n"
     ]
    },
    {
     "name": "stdout",
     "output_type": "stream",
     "text": [
      "[246]\tvalidation_0-rmse:0.54766\n",
      "[247]\tvalidation_0-rmse:0.54759\n",
      "[248]\tvalidation_0-rmse:0.54762\n",
      "[249]\tvalidation_0-rmse:0.54749\n",
      "[250]\tvalidation_0-rmse:0.54745\n",
      "[251]\tvalidation_0-rmse:0.54743\n",
      "[252]\tvalidation_0-rmse:0.54732\n",
      "[253]\tvalidation_0-rmse:0.54729\n",
      "[254]\tvalidation_0-rmse:0.54717\n",
      "[255]\tvalidation_0-rmse:0.54715\n",
      "[256]\tvalidation_0-rmse:0.54713\n",
      "[257]\tvalidation_0-rmse:0.54709\n",
      "[258]\tvalidation_0-rmse:0.54702\n",
      "[259]\tvalidation_0-rmse:0.54700\n",
      "[260]\tvalidation_0-rmse:0.54697\n",
      "[261]\tvalidation_0-rmse:0.54688\n",
      "[262]\tvalidation_0-rmse:0.54684\n",
      "[263]\tvalidation_0-rmse:0.54682\n",
      "[264]\tvalidation_0-rmse:0.54689\n",
      "[265]\tvalidation_0-rmse:0.54670\n",
      "[266]\tvalidation_0-rmse:0.54661\n",
      "[267]\tvalidation_0-rmse:0.54662\n",
      "[268]\tvalidation_0-rmse:0.54662\n",
      "[269]\tvalidation_0-rmse:0.54653\n",
      "[270]\tvalidation_0-rmse:0.54641\n",
      "[271]\tvalidation_0-rmse:0.54640\n",
      "[272]\tvalidation_0-rmse:0.54634\n",
      "[273]\tvalidation_0-rmse:0.54641\n",
      "[274]\tvalidation_0-rmse:0.54618\n",
      "[275]\tvalidation_0-rmse:0.54616\n",
      "[276]\tvalidation_0-rmse:0.54616\n",
      "[277]\tvalidation_0-rmse:0.54597\n",
      "[278]\tvalidation_0-rmse:0.54600\n",
      "[279]\tvalidation_0-rmse:0.54586\n",
      "[280]\tvalidation_0-rmse:0.54563\n",
      "[281]\tvalidation_0-rmse:0.54552\n",
      "[282]\tvalidation_0-rmse:0.54536\n",
      "[283]\tvalidation_0-rmse:0.54531\n",
      "[284]\tvalidation_0-rmse:0.54527\n",
      "[285]\tvalidation_0-rmse:0.54529\n",
      "[286]\tvalidation_0-rmse:0.54523\n",
      "[287]\tvalidation_0-rmse:0.54520\n",
      "[288]\tvalidation_0-rmse:0.54520\n",
      "[289]\tvalidation_0-rmse:0.54510\n",
      "[290]\tvalidation_0-rmse:0.54511\n",
      "[291]\tvalidation_0-rmse:0.54517\n",
      "[292]\tvalidation_0-rmse:0.54515\n",
      "[293]\tvalidation_0-rmse:0.54506\n",
      "[294]\tvalidation_0-rmse:0.54495\n",
      "[295]\tvalidation_0-rmse:0.54495\n",
      "[296]\tvalidation_0-rmse:0.54486\n",
      "[297]\tvalidation_0-rmse:0.54470\n",
      "[298]\tvalidation_0-rmse:0.54476\n",
      "[299]\tvalidation_0-rmse:0.54477\n",
      "[300]\tvalidation_0-rmse:0.54468\n",
      "[301]\tvalidation_0-rmse:0.54455\n",
      "[302]\tvalidation_0-rmse:0.54448\n",
      "[303]\tvalidation_0-rmse:0.54448\n",
      "[304]\tvalidation_0-rmse:0.54447\n",
      "[305]\tvalidation_0-rmse:0.54440\n",
      "[306]\tvalidation_0-rmse:0.54434\n",
      "[307]\tvalidation_0-rmse:0.54436\n",
      "[308]\tvalidation_0-rmse:0.54439\n",
      "[309]\tvalidation_0-rmse:0.54434\n",
      "[310]\tvalidation_0-rmse:0.54434\n",
      "[311]\tvalidation_0-rmse:0.54429\n",
      "[312]\tvalidation_0-rmse:0.54430\n",
      "[313]\tvalidation_0-rmse:0.54421\n",
      "[314]\tvalidation_0-rmse:0.54420\n",
      "[315]\tvalidation_0-rmse:0.54421\n",
      "[316]\tvalidation_0-rmse:0.54417\n",
      "[317]\tvalidation_0-rmse:0.54417\n",
      "[318]\tvalidation_0-rmse:0.54416\n",
      "[319]\tvalidation_0-rmse:0.54421\n",
      "[320]\tvalidation_0-rmse:0.54431\n",
      "[321]\tvalidation_0-rmse:0.54427\n",
      "[322]\tvalidation_0-rmse:0.54430\n",
      "[323]\tvalidation_0-rmse:0.54422\n",
      "[324]\tvalidation_0-rmse:0.54421\n",
      "[325]\tvalidation_0-rmse:0.54422\n",
      "[326]\tvalidation_0-rmse:0.54419\n",
      "[327]\tvalidation_0-rmse:0.54418\n",
      "[328]\tvalidation_0-rmse:0.54411\n",
      "[329]\tvalidation_0-rmse:0.54418\n",
      "[330]\tvalidation_0-rmse:0.54408\n",
      "[331]\tvalidation_0-rmse:0.54404\n",
      "[332]\tvalidation_0-rmse:0.54402\n",
      "[333]\tvalidation_0-rmse:0.54401\n",
      "[334]\tvalidation_0-rmse:0.54390\n",
      "[335]\tvalidation_0-rmse:0.54386\n",
      "[336]\tvalidation_0-rmse:0.54388\n",
      "[337]\tvalidation_0-rmse:0.54391\n",
      "[338]\tvalidation_0-rmse:0.54381\n",
      "[339]\tvalidation_0-rmse:0.54386\n",
      "[340]\tvalidation_0-rmse:0.54393\n",
      "[341]\tvalidation_0-rmse:0.54386\n",
      "[342]\tvalidation_0-rmse:0.54399\n",
      "[343]\tvalidation_0-rmse:0.54398\n",
      "[344]\tvalidation_0-rmse:0.54394\n",
      "[345]\tvalidation_0-rmse:0.54398\n",
      "[346]\tvalidation_0-rmse:0.54402\n",
      "[347]\tvalidation_0-rmse:0.54409\n",
      "[348]\tvalidation_0-rmse:0.54407\n",
      "[349]\tvalidation_0-rmse:0.54409\n",
      "[350]\tvalidation_0-rmse:0.54411\n",
      "[351]\tvalidation_0-rmse:0.54408\n",
      "[352]\tvalidation_0-rmse:0.54404\n",
      "[353]\tvalidation_0-rmse:0.54403\n",
      "[354]\tvalidation_0-rmse:0.54398\n",
      "[355]\tvalidation_0-rmse:0.54386\n",
      "[356]\tvalidation_0-rmse:0.54386\n",
      "[357]\tvalidation_0-rmse:0.54380\n",
      "[358]\tvalidation_0-rmse:0.54374\n",
      "[359]\tvalidation_0-rmse:0.54373\n",
      "[360]\tvalidation_0-rmse:0.54366\n",
      "[361]\tvalidation_0-rmse:0.54374\n",
      "[362]\tvalidation_0-rmse:0.54377\n",
      "[363]\tvalidation_0-rmse:0.54375\n",
      "[364]\tvalidation_0-rmse:0.54374\n",
      "[365]\tvalidation_0-rmse:0.54374\n",
      "[366]\tvalidation_0-rmse:0.54383\n",
      "[367]\tvalidation_0-rmse:0.54382\n",
      "[368]\tvalidation_0-rmse:0.54384\n",
      "[369]\tvalidation_0-rmse:0.54383\n",
      "[370]\tvalidation_0-rmse:0.54388\n",
      "[371]\tvalidation_0-rmse:0.54392\n",
      "[372]\tvalidation_0-rmse:0.54383\n",
      "[373]\tvalidation_0-rmse:0.54375\n",
      "[374]\tvalidation_0-rmse:0.54370\n",
      "[375]\tvalidation_0-rmse:0.54369\n",
      "[376]\tvalidation_0-rmse:0.54361\n",
      "[377]\tvalidation_0-rmse:0.54359\n",
      "[378]\tvalidation_0-rmse:0.54362\n",
      "[379]\tvalidation_0-rmse:0.54363\n",
      "[380]\tvalidation_0-rmse:0.54368\n",
      "[381]\tvalidation_0-rmse:0.54377\n",
      "[382]\tvalidation_0-rmse:0.54381\n",
      "[383]\tvalidation_0-rmse:0.54373\n",
      "[384]\tvalidation_0-rmse:0.54385\n",
      "[385]\tvalidation_0-rmse:0.54389\n",
      "[386]\tvalidation_0-rmse:0.54389\n",
      "[387]\tvalidation_0-rmse:0.54389\n",
      "[388]\tvalidation_0-rmse:0.54390\n",
      "[389]\tvalidation_0-rmse:0.54390\n",
      "[390]\tvalidation_0-rmse:0.54387\n",
      "[391]\tvalidation_0-rmse:0.54385\n",
      "[392]\tvalidation_0-rmse:0.54389\n",
      "[393]\tvalidation_0-rmse:0.54384\n",
      "[394]\tvalidation_0-rmse:0.54367\n",
      "[395]\tvalidation_0-rmse:0.54371\n",
      "[396]\tvalidation_0-rmse:0.54373\n",
      "[397]\tvalidation_0-rmse:0.54376\n",
      "[398]\tvalidation_0-rmse:0.54376\n",
      "[399]\tvalidation_0-rmse:0.54379\n",
      "4349.290891170502\n"
     ]
    }
   ],
   "source": [
    "s=time.time()\n",
    "xgr.fit(sd_x_train,log_y_train,\n",
    "            eval_metric='rmse',\n",
    "            eval_set=[(sd_x_test,log_y_test)])\n",
    "e=time.time()\n",
    "print(e-s)"
   ]
  },
  {
   "cell_type": "code",
   "execution_count": 75,
   "metadata": {},
   "outputs": [
    {
     "data": {
      "text/plain": [
       "{'nthread': 2,\n",
       " 'n_estimators': 400,\n",
       " 'min_samples_split': 50,\n",
       " 'min_samples_leaf': 10,\n",
       " 'max_samples': 0.3,\n",
       " 'max_features': 5,\n",
       " 'max_depth': 11,\n",
       " 'learning_rate': 0.03}"
      ]
     },
     "execution_count": 75,
     "metadata": {},
     "output_type": "execute_result"
    }
   ],
   "source": [
    "#optimal parameters\n",
    "xgr.best_params_"
   ]
  },
  {
   "cell_type": "code",
   "execution_count": 76,
   "metadata": {},
   "outputs": [
    {
     "data": {
      "text/plain": [
       "<AxesSubplot:ylabel='var'>"
      ]
     },
     "execution_count": 76,
     "metadata": {},
     "output_type": "execute_result"
    },
    {
     "data": {
      "image/png": "[encoded data removed]",
      "text/plain": [
       "<Figure size 1152x648 with 1 Axes>"
      ]
     },
     "metadata": {
      "needs_background": "light"
     },
     "output_type": "display_data"
    }
   ],
   "source": [
    "imp = pd.DataFrame()\n",
    "imp[\"var\"] = x1_train1.columns\n",
    "imp[\"imp\"] = xgr.best_estimator_.feature_importances_\n",
    "imp = imp.sort_values(\"imp\", ascending = False).reset_index(drop = True)\n",
    "imp.head(20).sort_values('imp').plot(kind='barh',x='var',figsize=(16,9))"
   ]
  },
  {
   "cell_type": "code",
   "execution_count": 130,
   "metadata": {},
   "outputs": [
    {
     "name": "stderr",
     "output_type": "stream",
     "text": [
      "/opt/anaconda3/lib/python3.8/site-packages/xgboost/data.py:112: UserWarning: Use subset (sliced data) of np.ndarray is not recommended because it will generate extra copies and increase memory consumption\n",
      "  warnings.warn(\n"
     ]
    },
    {
     "data": {
      "text/plain": [
       "0.17770709274838933"
      ]
     },
     "execution_count": 130,
     "metadata": {},
     "output_type": "execute_result"
    }
   ],
   "source": [
    "mse_xgb_train=mean_squared_error(log_y_train,xgr.predict(sd_x_train))\n",
    "mse_xgb_train"
   ]
  },
  {
   "cell_type": "code",
   "execution_count": 131,
   "metadata": {},
   "outputs": [
    {
     "name": "stderr",
     "output_type": "stream",
     "text": [
      "/opt/anaconda3/lib/python3.8/site-packages/xgboost/data.py:112: UserWarning: Use subset (sliced data) of np.ndarray is not recommended because it will generate extra copies and increase memory consumption\n",
      "  warnings.warn(\n"
     ]
    },
    {
     "data": {
      "text/plain": [
       "0.2957097954350422"
      ]
     },
     "execution_count": 131,
     "metadata": {},
     "output_type": "execute_result"
    }
   ],
   "source": [
    "mse_xgb_val=mean_squared_error(log_y_test,xgr.predict(sd_x_test))\n",
    "mse_xgb_val"
   ]
  },
  {
   "cell_type": "markdown",
   "metadata": {},
   "source": [
    "## Add Price Caculator"
   ]
  },
  {
   "cell_type": "code",
   "execution_count": 1,
   "metadata": {},
   "outputs": [],
   "source": [
    "from datetime import timedelta\n",
    "from datetime import date\n",
    "from datetime import datetime\n",
    "from datascience import *\n",
    "from scipy.spatial import distance\n",
    "from IPython.display import display\n",
    "from IPython.display import HTML\n",
    "import ipywidgets as widgets\n",
    "from ipywidgets import IntSlider\n",
    "from ipywidgets import interact, interactive, fixed, interact_manual\n",
    "import ipywidgets as widgets"
   ]
  },
  {
   "cell_type": "code",
   "execution_count": 2,
   "metadata": {},
   "outputs": [],
   "source": [
    "# Constansts\n",
    "\n",
    "output_directory = \"output/\"\n",
    "\n",
    "COL_PURCHASE_DATE = 'PURCHASE DATE'\n",
    "COL_SOLD_DATE = 'SOLD DATE'\n",
    "COL_PURCHASE_PRICE = 'PURCHASE PRICE'\n",
    "COL_SOLD_PRICE = 'SOLD PRICE'\n",
    "\n",
    "COL_PRICE_PERCENT = 'PRICE CHANGE %'\n",
    "\n",
    "# Columns for standard units\n",
    "COL_PURCHASE_DATE_SU = 'PURCHASE DATE SU'\n",
    "COL_PURCHASE_PRICE_SU = 'PURCHASE PRICE SU'\n",
    "COL_SOLD_DATE_SU = 'SOLD DATE SU'"
   ]
  },
  {
   "cell_type": "code",
   "execution_count": 15,
   "metadata": {},
   "outputs": [
    {
     "data": {
      "text/html": [
       "<div>\n",
       "<style scoped>\n",
       "    .dataframe tbody tr th:only-of-type {\n",
       "        vertical-align: middle;\n",
       "    }\n",
       "\n",
       "    .dataframe tbody tr th {\n",
       "        vertical-align: top;\n",
       "    }\n",
       "\n",
       "    .dataframe thead th {\n",
       "        text-align: right;\n",
       "    }\n",
       "</style>\n",
       "<table border=\"1\" class=\"dataframe\">\n",
       "  <thead>\n",
       "    <tr style=\"text-align: right;\">\n",
       "      <th></th>\n",
       "      <th>NEIGHBORHOOD</th>\n",
       "      <th>ZIP CODE</th>\n",
       "      <th>YEAR BUILT</th>\n",
       "      <th>SALE PRICE</th>\n",
       "      <th>SALE DATE</th>\n",
       "      <th>Year</th>\n",
       "      <th>Month</th>\n",
       "      <th>Day</th>\n",
       "    </tr>\n",
       "  </thead>\n",
       "  <tbody>\n",
       "    <tr>\n",
       "      <th>0</th>\n",
       "      <td>CHINATOWN</td>\n",
       "      <td>10013</td>\n",
       "      <td>1920</td>\n",
       "      <td>1190000</td>\n",
       "      <td>2019-07-11</td>\n",
       "      <td>2019</td>\n",
       "      <td>7</td>\n",
       "      <td>11</td>\n",
       "    </tr>\n",
       "    <tr>\n",
       "      <th>1</th>\n",
       "      <td>CHINATOWN</td>\n",
       "      <td>10013</td>\n",
       "      <td>1920</td>\n",
       "      <td>1340000</td>\n",
       "      <td>2019-12-04</td>\n",
       "      <td>2019</td>\n",
       "      <td>12</td>\n",
       "      <td>4</td>\n",
       "    </tr>\n",
       "    <tr>\n",
       "      <th>2</th>\n",
       "      <td>CHINATOWN</td>\n",
       "      <td>10013</td>\n",
       "      <td>1920</td>\n",
       "      <td>2287500</td>\n",
       "      <td>2019-12-09</td>\n",
       "      <td>2019</td>\n",
       "      <td>12</td>\n",
       "      <td>9</td>\n",
       "    </tr>\n",
       "    <tr>\n",
       "      <th>3</th>\n",
       "      <td>CHINATOWN</td>\n",
       "      <td>10013</td>\n",
       "      <td>1920</td>\n",
       "      <td>2070000</td>\n",
       "      <td>2019-05-29</td>\n",
       "      <td>2019</td>\n",
       "      <td>5</td>\n",
       "      <td>29</td>\n",
       "    </tr>\n",
       "    <tr>\n",
       "      <th>4</th>\n",
       "      <td>CHINATOWN</td>\n",
       "      <td>10013</td>\n",
       "      <td>1920</td>\n",
       "      <td>2900000</td>\n",
       "      <td>2019-06-17</td>\n",
       "      <td>2019</td>\n",
       "      <td>6</td>\n",
       "      <td>17</td>\n",
       "    </tr>\n",
       "  </tbody>\n",
       "</table>\n",
       "</div>"
      ],
      "text/plain": [
       "  NEIGHBORHOOD  ZIP CODE  YEAR BUILT  SALE PRICE   SALE DATE  Year  Month  Day\n",
       "0    CHINATOWN     10013        1920     1190000  2019-07-11  2019      7   11\n",
       "1    CHINATOWN     10013        1920     1340000  2019-12-04  2019     12    4\n",
       "2    CHINATOWN     10013        1920     2287500  2019-12-09  2019     12    9\n",
       "3    CHINATOWN     10013        1920     2070000  2019-05-29  2019      5   29\n",
       "4    CHINATOWN     10013        1920     2900000  2019-06-17  2019      6   17"
      ]
     },
     "execution_count": 15,
     "metadata": {},
     "output_type": "execute_result"
    }
   ],
   "source": [
    "data.head()"
   ]
  },
  {
   "cell_type": "code",
   "execution_count": 16,
   "metadata": {},
   "outputs": [],
   "source": [
    "# DATE is  but should be datetime\n",
    "#data['SALE PRICE']= pd.to_datetime(data['COL_SOLD_DATE'], errors='coerce')\n",
    "#we can't continue here as the dataset missing purchase price and purchase dates \n",
    "#the price predictor needs purchase and sales details to calculate the distances"
   ]
  }
 ],
 "metadata": {
  "kernelspec": {
   "display_name": "Python 3",
   "language": "python",
   "name": "python3"
  },
  "language_info": {
   "codemirror_mode": {
    "name": "ipython",
    "version": 3
   },
   "file_extension": ".py",
   "mimetype": "text/x-python",
   "name": "python",
   "nbconvert_exporter": "python",
   "pygments_lexer": "ipython3",
   "version": "3.8.3"
  }
 },
 "nbformat": 4,
 "nbformat_minor": 4
}
